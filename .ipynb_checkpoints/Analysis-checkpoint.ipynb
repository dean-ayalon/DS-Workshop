{
 "cells": [
  {
   "cell_type": "markdown",
   "metadata": {},
   "source": [
    "## Building the Model"
   ]
  },
  {
   "cell_type": "code",
   "execution_count": 1,
   "metadata": {
    "collapsed": false
   },
   "outputs": [
    {
     "name": "stdout",
     "output_type": "stream",
     "text": [
      "Using matplotlib backend: Qt5Agg\n"
     ]
    }
   ],
   "source": [
    "import numpy as np\n",
    "import pandas as pd\n",
    "import sklearn.linear_model\n",
    "import sklearn.ensemble\n",
    "import sklearn.preprocessing\n",
    "from utils.analysis_utils import *\n",
    "\n",
    "%matplotlib\n",
    "%matplotlib inline\n",
    "import matplotlib\n",
    "import matplotlib.pyplot as plt"
   ]
  },
  {
   "cell_type": "code",
   "execution_count": 2,
   "metadata": {
    "collapsed": false
   },
   "outputs": [],
   "source": [
    "data = pd.read_csv(\"final_main_table.csv\")"
   ]
  },
  {
   "cell_type": "markdown",
   "metadata": {},
   "source": [
    "### First Attempt: Logistic Regression"
   ]
  },
  {
   "cell_type": "markdown",
   "metadata": {},
   "source": [
    "The first run we made used logistic regression, and only the similarity features.\n",
    "\n",
    "Let's see how far that got us:"
   ]
  },
  {
   "cell_type": "code",
   "execution_count": 3,
   "metadata": {
    "collapsed": false
   },
   "outputs": [
    {
     "name": "stdout",
     "output_type": "stream",
     "text": [
      "[LibLinear]"
     ]
    },
    {
     "name": "stderr",
     "output_type": "stream",
     "text": [
      "C:\\Users\\Dean\\Anaconda3\\lib\\site-packages\\ipykernel\\__main__.py:19: SettingWithCopyWarning: \n",
      "A value is trying to be set on a copy of a slice from a DataFrame.\n",
      "Try using .loc[row_indexer,col_indexer] = value instead\n",
      "\n",
      "See the caveats in the documentation: http://pandas.pydata.org/pandas-docs/stable/indexing.html#indexing-view-versus-copy\n"
     ]
    },
    {
     "name": "stdout",
     "output_type": "stream",
     "text": [
      "0/1 Accuracy for Logistic Regression Algorithm: 0.262509725042\n",
      "Now calculating MAP@12 accuracy, should take about 5 minutes\n",
      "MAP@12 Accuracy for Logistic Regression Algorithm: 0.503027275956\n"
     ]
    }
   ],
   "source": [
    "features = [\"topic_sim\", \"entities_sim\", \"categories_sim\"]\n",
    "for feature in features:\n",
    "    data[feature] = sklearn.preprocessing.scale(data[feature])\n",
    "    \n",
    "# Splitting to train (80%) and test (20%) sets\n",
    "train_data, test_data = split_to_test_and_train(data)\n",
    "\n",
    "train_features_list = [train_data[feature] for feature in features]\n",
    "test_features_list = [test_data[feature] for feature in features]\n",
    "\n",
    "# Extracting X and y vectors for train and test\n",
    "train_points, train_labels = prepare_dataset_for_model(train_features_list, train_data.clicked)\n",
    "test_points, test_labels = prepare_dataset_for_model(test_features_list, test_data.clicked)\n",
    "\n",
    "model = sklearn.linear_model.LogisticRegression(verbose=True)\n",
    "model.fit(train_points, train_labels)\n",
    "\n",
    "display_probs = model.predict_proba(test_points)[:, 1]\n",
    "test_data[\"probability_of_click\"] = display_probs  # Error generated at this line can be ignored\n",
    "\n",
    "# Evaluating the model using 0/1 loss\n",
    "zero_one_accuracy = accuracy_zero_one_loss(test_data)\n",
    "print(\"0/1 Accuracy for Logistic Regression Model: \" + str(zero_one_accuracy))\n",
    "\n",
    "# Evaluating the model using MAP@12 metric\n",
    "map12_accuracy = MAP12_Accuracy(test_data)\n",
    "print(\"MAP@12 Accuracy for Logistic Regression Model: \" + str(map12_accuracy))\n"
   ]
  },
  {
   "cell_type": "markdown",
   "metadata": {},
   "source": [
    "This was obviously far from good, as even simple single-feature models could acheive much better results. At this point we came to the realisation we needed a lot more features - so we spent a sizeable amount of time thinking about and generating all the features mentioned above.\n",
    "\n",
    "We then wanted to check whether logistic regression's performance has improved, and also check whether there are better models we can use. A lot of other teams used gradient boosting and random forests, so we decided to check them as well and compare them to logistic regression. "
   ]
  },
  {
   "cell_type": "code",
   "execution_count": 4,
   "metadata": {
    "collapsed": false
   },
   "outputs": [
    {
     "name": "stderr",
     "output_type": "stream",
     "text": [
      "C:\\Users\\Dean\\Anaconda3\\lib\\site-packages\\sklearn\\utils\\validation.py:420: DataConversionWarning: Data with input dtype int64 was converted to float64 by the scale function.\n",
      "  warnings.warn(msg, DataConversionWarning)\n",
      "C:\\Users\\Dean\\Anaconda3\\lib\\site-packages\\sklearn\\utils\\validation.py:420: DataConversionWarning: Data with input dtype int64 was converted to float64 by the scale function.\n",
      "  warnings.warn(msg, DataConversionWarning)\n",
      "C:\\Users\\Dean\\Anaconda3\\lib\\site-packages\\sklearn\\utils\\validation.py:420: DataConversionWarning: Data with input dtype int64 was converted to float64 by the scale function.\n",
      "  warnings.warn(msg, DataConversionWarning)\n"
     ]
    },
    {
     "name": "stdout",
     "output_type": "stream",
     "text": [
      "Now checking Logistic Regression\n",
      "[LibLinear]"
     ]
    },
    {
     "name": "stderr",
     "output_type": "stream",
     "text": [
      "C:\\Users\\Dean\\Anaconda3\\lib\\site-packages\\ipykernel\\__main__.py:35: SettingWithCopyWarning: \n",
      "A value is trying to be set on a copy of a slice from a DataFrame.\n",
      "Try using .loc[row_indexer,col_indexer] = value instead\n",
      "\n",
      "See the caveats in the documentation: http://pandas.pydata.org/pandas-docs/stable/indexing.html#indexing-view-versus-copy\n"
     ]
    },
    {
     "name": "stdout",
     "output_type": "stream",
     "text": [
      "Now calculating MAP@12 accuracy, should take about 5 minutes\n",
      "Now checking Gradient Boosting\n",
      "      Iter       Train Loss   Remaining Time \n",
      "         1           0.9551            8.91m\n",
      "         2           0.9339            8.85m\n",
      "         3           0.9168            8.75m\n",
      "         4           0.9030            8.72m\n",
      "         5           0.8911            8.61m\n",
      "         6           0.8812            8.53m\n",
      "         7           0.8729            8.43m\n",
      "         8           0.8658            8.37m\n",
      "         9           0.8601            8.25m\n",
      "        10           0.8548            8.17m\n",
      "        20           0.8292            7.14m\n",
      "        30           0.8209            6.25m\n",
      "        40           0.8180            5.36m\n",
      "        50           0.8162            4.60m\n",
      "        60           0.8152            3.66m\n",
      "        70           0.8146            2.70m\n",
      "        80           0.8142            1.78m\n",
      "        90           0.8139           52.74s\n",
      "       100           0.8137            0.00s\n",
      "Now calculating MAP@12 accuracy, should take about 5 minutes\n",
      "Now checking Random Forest\n"
     ]
    },
    {
     "name": "stderr",
     "output_type": "stream",
     "text": [
      "[Parallel(n_jobs=1)]: Done  10 out of  10 | elapsed:  2.2min finished\n",
      "[Parallel(n_jobs=1)]: Done  10 out of  10 | elapsed:    3.9s finished\n",
      "C:\\Users\\Dean\\Anaconda3\\lib\\site-packages\\ipykernel\\__main__.py:35: SettingWithCopyWarning: \n",
      "A value is trying to be set on a copy of a slice from a DataFrame.\n",
      "Try using .loc[row_indexer,col_indexer] = value instead\n",
      "\n",
      "See the caveats in the documentation: http://pandas.pydata.org/pandas-docs/stable/indexing.html#indexing-view-versus-copy\n"
     ]
    },
    {
     "name": "stdout",
     "output_type": "stream",
     "text": [
      "Now calculating MAP@12 accuracy, should take about 5 minutes\n"
     ]
    },
    {
     "data": {
      "image/png": "[encoded data removed]",
      "text/plain": [
       "<matplotlib.figure.Figure at 0x1bbd8312be0>"
      ]
     },
     "metadata": {},
     "output_type": "display_data"
    }
   ],
   "source": [
    "features = [\"topic_sim\", \"entities_sim\", \"categories_sim\",\n",
    "            \"is_morning\", \"is_noon\", \"is_afternoon\", \"is_evening\", \"is_night\",\n",
    "            \"is_weekend\", \"platform_is_mobile\", \"platform_is_desktop\", \"platform_is_tablet\",\n",
    "            \"clicks_appearances_ratio\", \"ad_count_per_display\", \"ads_per_advertiser\",\n",
    "            \"ads_per_campaign\"]\n",
    "\n",
    "features_to_scale = [\"topic_sim\", \"entities_sim\", \"categories_sim\",\n",
    "                     \"clicks_appearances_ratio\", \"ad_count_per_display\",\n",
    "                     \"ads_per_advertiser\", \"ads_per_campaign\"]\n",
    "\n",
    "for feature in features_to_scale:\n",
    "    data[feature] = sklearn.preprocessing.scale(data[feature])\n",
    "    \n",
    "train_features_list = [train_data[feature] for feature in features]\n",
    "test_features_list = [test_data[feature] for feature in features]\n",
    "\n",
    "# Extracting X and y vectors for train and test\n",
    "train_points, train_labels = prepare_dataset_for_model(train_features_list, train_data.clicked)\n",
    "test_points, test_labels = prepare_dataset_for_model(test_features_list, test_data.clicked)\n",
    "    \n",
    "models = [sklearn.linear_model.LogisticRegression(verbose=True),\n",
    "         sklearn.ensemble.GradientBoostingClassifier(verbose=True),\n",
    "         sklearn.ensemble.RandomForestClassifier(verbose=True)]\n",
    "\n",
    "model_names = [\"Logistic Regression\", \"Gradient Boosting\", \"Random Forest\"]\n",
    "\n",
    "map_12_accuracies = np.zeros(shape=3)\n",
    "zero_one_accuracies = np.zeros(shape=3)\n",
    "\n",
    "for i in range(len(models)):\n",
    "    model = models[i]\n",
    "    print(\"Now checking \" + model_names[i])\n",
    "    model.fit(train_points, train_labels)\n",
    "    display_probs = model.predict_proba(test_points)[:, 1]\n",
    "    test_data[\"probability_of_click\"] = display_probs  # Error generated at this line can be ignored\n",
    "    zero_one_accuracies[i] = accuracy_zero_one_loss(test_data)\n",
    "    map_12_accuracies[i] = MAP12_Accuracy(test_data)\n",
    "    \n",
    "\n",
    "fig = plt.figure()\n",
    "plt.bar(range(3), map_12_accuracies, 0.35, color='r', label=\"MAP@12 Accuracy\")\n",
    "plt.bar(np.array(range(3)) + 0.35, zero_one_accuracies, 0.35, color='b', label=\"0/1 Accuracy\")\n",
    "plt.xlabel('Model')\n",
    "plt.ylabel('Accuracy')\n",
    "plt.title('Accuracy Rates for Various Models')\n",
    "plt.xticks(np.array(range(3)) + 0.35, (\"Logistic Regression\", \"Gradient Boosting\", \"Random Forest\"))\n",
    "plt.legend()\n",
    "plt.tight_layout()\n",
    "plt.show()\n",
    "    \n",
    "acc_frame = pd.DataFrame()\n",
    "acc_frame[\"Model\"] = model_names\n",
    "acc_frame[\"MAP@12 Accuracy\"] = map_12_accuracies\n",
    "acc_frame[\"0/1 Accuracy\"] = zero_one_accuracies\n",
    "\n",
    "print(acc_frame)\n",
    "\n",
    "\n",
    "    \n",
    "    \n",
    "\n"
   ]
  },
  {
   "cell_type": "code",
   "execution_count": 10,
   "metadata": {
    "collapsed": false
   },
   "outputs": [
    {
     "data": {
      "text/plain": [
       "<module 'sklearn.ensemble' from 'C:\\\\Users\\\\Dean\\\\Anaconda3\\\\lib\\\\site-packages\\\\sklearn\\\\ensemble\\\\__init__.py'>"
      ]
     },
     "execution_count": 10,
     "metadata": {},
     "output_type": "execute_result"
    }
   ],
   "source": [
    "sklearn.ensemble"
   ]
  },
  {
   "cell_type": "code",
   "execution_count": null,
   "metadata": {
    "collapsed": true
   },
   "outputs": [],
   "source": []
  }
 ],
 "metadata": {
  "anaconda-cloud": {},
  "kernelspec": {
   "display_name": "Python [conda root]",
   "language": "python",
   "name": "conda-root-py"
  },
  "language_info": {
   "codemirror_mode": {
    "name": "ipython",
    "version": 3
   },
   "file_extension": ".py",
   "mimetype": "text/x-python",
   "name": "python",
   "nbconvert_exporter": "python",
   "pygments_lexer": "ipython3",
   "version": "3.5.2"
  }
 },
 "nbformat": 4,
 "nbformat_minor": 1
}
