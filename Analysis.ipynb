{
 "cells": [
  {
   "cell_type": "markdown",
   "metadata": {},
   "source": [
    "## Building the Model"
   ]
  },
  {
   "cell_type": "code",
   "execution_count": 5,
   "metadata": {
    "collapsed": false
   },
   "outputs": [
    {
     "name": "stdout",
     "output_type": "stream",
     "text": [
      "Using matplotlib backend: Qt5Agg\n"
     ]
    }
   ],
   "source": [
    "import numpy as np\n",
    "import pandas as pd\n",
    "import sklearn.linear_model\n",
    "import sklearn.ensemble\n",
    "import sklearn.preprocessing\n",
    "import sklearn.grid_search\n",
    "from utils.analysis_utils import *\n",
    "pd.options.mode.chained_assignment = None # Eliminates some false warnings\n",
    "\n",
    "%matplotlib\n",
    "%matplotlib inline\n",
    "import matplotlib\n",
    "import matplotlib.pyplot as plt"
   ]
  },
  {
   "cell_type": "code",
   "execution_count": 2,
   "metadata": {
    "collapsed": false
   },
   "outputs": [],
   "source": [
    "data = pd.read_csv(\"final_main_table.csv\")"
   ]
  },
  {
   "cell_type": "markdown",
   "metadata": {},
   "source": [
    "### First Attempt: Logistic Regression"
   ]
  },
  {
   "cell_type": "markdown",
   "metadata": {},
   "source": [
    "The first run we made used logistic regression, and only the similarity features.\n",
    "\n",
    "Let's see how far that got us:"
   ]
  },
  {
   "cell_type": "code",
   "execution_count": 3,
   "metadata": {
    "collapsed": false
   },
   "outputs": [
    {
     "name": "stdout",
     "output_type": "stream",
     "text": [
      "[LibLinear]"
     ]
    },
    {
     "name": "stderr",
     "output_type": "stream",
     "text": [
      "C:\\Users\\Dean\\Anaconda3\\lib\\site-packages\\ipykernel\\__main__.py:19: SettingWithCopyWarning: \n",
      "A value is trying to be set on a copy of a slice from a DataFrame.\n",
      "Try using .loc[row_indexer,col_indexer] = value instead\n",
      "\n",
      "See the caveats in the documentation: http://pandas.pydata.org/pandas-docs/stable/indexing.html#indexing-view-versus-copy\n"
     ]
    },
    {
     "name": "stdout",
     "output_type": "stream",
     "text": [
      "0/1 Accuracy for Logistic Regression Model: 0.262509725042\n",
      "Now calculating MAP@12 accuracy, should take about 5 minutes\n",
      "MAP@12 Accuracy for Logistic Regression Model: 0.503027275956\n"
     ]
    }
   ],
   "source": [
    "features = [\"topic_sim\", \"entities_sim\", \"categories_sim\"]\n",
    "for feature in features:\n",
    "    data[feature] = sklearn.preprocessing.scale(data[feature])\n",
    "    \n",
    "# Splitting to train (80%) and test (20%) sets\n",
    "train_data, test_data = split_to_test_and_train(data)\n",
    "\n",
    "train_features_list = [train_data[feature] for feature in features]\n",
    "test_features_list = [test_data[feature] for feature in features]\n",
    "\n",
    "# Extracting X and y vectors for train and test\n",
    "train_points, train_labels = prepare_dataset_for_model(train_features_list, train_data.clicked)\n",
    "test_points, test_labels = prepare_dataset_for_model(test_features_list, test_data.clicked)\n",
    "\n",
    "model = sklearn.linear_model.LogisticRegression()\n",
    "model.fit(train_points, train_labels)\n",
    "\n",
    "display_probs = model.predict_proba(test_points)[:, 1]\n",
    "test_data[\"probability_of_click\"] = display_probs  # Error generated at this line can be ignored\n",
    "\n",
    "# Evaluating the model using 0/1 loss\n",
    "zero_one_accuracy = accuracy_zero_one_loss(test_data)\n",
    "print(\"0/1 Accuracy for Logistic Regression Model: \" + str(zero_one_accuracy))\n",
    "\n",
    "# Evaluating the model using MAP@12 metric\n",
    "map12_accuracy = MAP12_Accuracy(test_data)\n",
    "print(\"MAP@12 Accuracy for Logistic Regression Model: \" + str(map12_accuracy))\n"
   ]
  },
  {
   "cell_type": "markdown",
   "metadata": {},
   "source": [
    "### Second Attempt: More Features, Gradient Boosting and Random Forest"
   ]
  },
  {
   "cell_type": "markdown",
   "metadata": {},
   "source": [
    "This was obviously far from good, as even simple single-feature models could acheive much better results. At this point we came to the realisation we needed a lot more features - so we spent a sizeable amount of time thinking about and generating all the features mentioned above.\n",
    "\n",
    "We then wanted to check whether logistic regression's performance has improved, and also check whether there are better models we can use. A lot of other teams used gradient boosting and random forests, so we decided to check them as well and compare them to logistic regression. "
   ]
  },
  {
   "cell_type": "code",
   "execution_count": 4,
   "metadata": {
    "collapsed": false
   },
   "outputs": [
    {
     "name": "stderr",
     "output_type": "stream",
     "text": [
      "C:\\Users\\Dean\\Anaconda3\\lib\\site-packages\\sklearn\\utils\\validation.py:420: DataConversionWarning: Data with input dtype int64 was converted to float64 by the scale function.\n",
      "  warnings.warn(msg, DataConversionWarning)\n",
      "C:\\Users\\Dean\\Anaconda3\\lib\\site-packages\\sklearn\\utils\\validation.py:420: DataConversionWarning: Data with input dtype int64 was converted to float64 by the scale function.\n",
      "  warnings.warn(msg, DataConversionWarning)\n",
      "C:\\Users\\Dean\\Anaconda3\\lib\\site-packages\\sklearn\\utils\\validation.py:420: DataConversionWarning: Data with input dtype int64 was converted to float64 by the scale function.\n",
      "  warnings.warn(msg, DataConversionWarning)\n"
     ]
    },
    {
     "name": "stdout",
     "output_type": "stream",
     "text": [
      "Now checking Logistic Regression\n",
      "[LibLinear]"
     ]
    },
    {
     "name": "stderr",
     "output_type": "stream",
     "text": [
      "C:\\Users\\Dean\\Anaconda3\\lib\\site-packages\\ipykernel\\__main__.py:35: SettingWithCopyWarning: \n",
      "A value is trying to be set on a copy of a slice from a DataFrame.\n",
      "Try using .loc[row_indexer,col_indexer] = value instead\n",
      "\n",
      "See the caveats in the documentation: http://pandas.pydata.org/pandas-docs/stable/indexing.html#indexing-view-versus-copy\n"
     ]
    },
    {
     "name": "stdout",
     "output_type": "stream",
     "text": [
      "Now calculating MAP@12 accuracy, should take about 5 minutes\n",
      "Now checking Gradient Boosting\n",
      "      Iter       Train Loss   Remaining Time \n",
      "         1           0.9551           13.19m\n",
      "         2           0.9339           13.23m\n",
      "         3           0.9168           12.74m\n",
      "         4           0.9030           12.68m\n",
      "         5           0.8911           12.40m\n",
      "         6           0.8812           12.19m\n",
      "         7           0.8729           11.98m\n",
      "         8           0.8658           11.94m\n",
      "         9           0.8601           11.80m\n",
      "        10           0.8548           11.67m\n",
      "        20           0.8292           10.09m\n",
      "        30           0.8209            8.67m\n",
      "        40           0.8180            7.30m\n",
      "        50           0.8162            6.03m\n",
      "        60           0.8152            4.76m\n",
      "        70           0.8146            3.57m\n",
      "        80           0.8142            2.37m\n",
      "        90           0.8139            1.19m\n",
      "       100           0.8137            0.00s\n",
      "Now calculating MAP@12 accuracy, should take about 5 minutes\n",
      "Now checking Random Forest\n"
     ]
    },
    {
     "name": "stderr",
     "output_type": "stream",
     "text": [
      "[Parallel(n_jobs=1)]: Done  10 out of  10 | elapsed:  2.6min finished\n",
      "[Parallel(n_jobs=1)]: Done  10 out of  10 | elapsed:    4.9s finished\n",
      "C:\\Users\\Dean\\Anaconda3\\lib\\site-packages\\ipykernel\\__main__.py:35: SettingWithCopyWarning: \n",
      "A value is trying to be set on a copy of a slice from a DataFrame.\n",
      "Try using .loc[row_indexer,col_indexer] = value instead\n",
      "\n",
      "See the caveats in the documentation: http://pandas.pydata.org/pandas-docs/stable/indexing.html#indexing-view-versus-copy\n"
     ]
    },
    {
     "name": "stdout",
     "output_type": "stream",
     "text": [
      "Now calculating MAP@12 accuracy, should take about 5 minutes\n"
     ]
    },
    {
     "data": {
      "image/png": "[encoded data removed]",
      "text/plain": [
       "<matplotlib.figure.Figure at 0x2beee9c0e80>"
      ]
     },
     "metadata": {},
     "output_type": "display_data"
    },
    {
     "name": "stdout",
     "output_type": "stream",
     "text": [
      "                 Model  MAP@12 Accuracy  0/1 Accuracy\n",
      "0  Logistic Regression         0.679271      0.483539\n",
      "1    Gradient Boosting         0.680089      0.484525\n",
      "2        Random Forest         0.620082      0.408414\n"
     ]
    }
   ],
   "source": [
    "features = [\"topic_sim\", \"entities_sim\", \"categories_sim\",\n",
    "            \"is_morning\", \"is_noon\", \"is_afternoon\", \"is_evening\", \"is_night\",\n",
    "            \"is_weekend\", \"platform_is_mobile\", \"platform_is_desktop\", \"platform_is_tablet\",\n",
    "            \"clicks_appearances_ratio\", \"ad_count_per_display\", \"ads_per_advertiser\",\n",
    "            \"ads_per_campaign\"]\n",
    "\n",
    "features_to_scale = [\"topic_sim\", \"entities_sim\", \"categories_sim\",\n",
    "                     \"clicks_appearances_ratio\", \"ad_count_per_display\",\n",
    "                     \"ads_per_advertiser\", \"ads_per_campaign\"]\n",
    "\n",
    "for feature in features_to_scale:\n",
    "    data[feature] = data[feature].astype(float)  # Avoids scaling conversion warnings for ints\n",
    "    data[feature] = sklearn.preprocessing.scale(data[feature])\n",
    "    \n",
    "train_features_list = [train_data[feature] for feature in features]\n",
    "test_features_list = [test_data[feature] for feature in features]\n",
    "\n",
    "# Extracting X and y vectors for train and test\n",
    "train_points, train_labels = prepare_dataset_for_model(train_features_list, train_data.clicked)\n",
    "test_points, test_labels = prepare_dataset_for_model(test_features_list, test_data.clicked)\n",
    "    \n",
    "models = [sklearn.linear_model.LogisticRegression(),\n",
    "         sklearn.ensemble.GradientBoostingClassifier(),\n",
    "         sklearn.ensemble.RandomForestClassifier()]\n",
    "\n",
    "model_names = [\"Logistic Regression\", \"Gradient Boosting\", \"Random Forest\"]\n",
    "\n",
    "map_12_accuracies = np.zeros(shape=3)\n",
    "zero_one_accuracies = np.zeros(shape=3)\n",
    "\n",
    "for i in range(len(models)):\n",
    "    model = models[i]\n",
    "    print(\"Now checking \" + model_names[i])\n",
    "    model.fit(train_points, train_labels)\n",
    "    display_probs = model.predict_proba(test_points)[:, 1]\n",
    "    test_data[\"probability_of_click\"] = display_probs  # Error generated at this line can be ignored\n",
    "    zero_one_accuracies[i] = accuracy_zero_one_loss(test_data)\n",
    "    map_12_accuracies[i] = MAP12_Accuracy(test_data)\n",
    "    \n",
    "\n",
    "fig = plt.figure()\n",
    "plt.bar(range(3), map_12_accuracies, 0.35, color='r', label=\"MAP@12 Accuracy\")\n",
    "plt.bar(np.array(range(3)) + 0.35, zero_one_accuracies, 0.35, color='b', label=\"0/1 Accuracy\")\n",
    "plt.xlabel('Model')\n",
    "plt.ylabel('Accuracy')\n",
    "plt.title('Accuracy Rates for Various Models')\n",
    "plt.xticks(np.array(range(3)) + 0.35, (\"Logistic Regression\", \"Gradient Boosting\", \"Random Forest\"))\n",
    "plt.legend(loc = 4)\n",
    "plt.tight_layout()\n",
    "plt.show()\n",
    "    \n",
    "acc_frame = pd.DataFrame()\n",
    "acc_frame[\"Model\"] = model_names\n",
    "acc_frame[\"MAP@12 Accuracy\"] = map_12_accuracies\n",
    "acc_frame[\"0/1 Accuracy\"] = zero_one_accuracies\n",
    "\n",
    "print(acc_frame)\n",
    "\n",
    "\n",
    "    \n",
    "    \n",
    "\n"
   ]
  },
  {
   "cell_type": "markdown",
   "metadata": {
    "collapsed": false
   },
   "source": [
    "Now we need to decide which model to work with.\n",
    "Clearly, random forest is inferior to the other two models, so we decide not to pursue it further.  \n",
    "Let's see how far we can improve each of the remaining models using cross validation to tune their parameters."
   ]
  },
  {
   "cell_type": "code",
   "execution_count": 13,
   "metadata": {
    "collapsed": false
   },
   "outputs": [
    {
     "name": "stdout",
     "output_type": "stream",
     "text": [
      "Fitting 3 folds for each of 10 candidates, totalling 30 fits\n",
      "[LibLinear][LibLinear][LibLinear][LibLinear][LibLinear][LibLinear][LibLinear][LibLinear][LibLinear][LibLinear][LibLinear][LibLinear][LibLinear][LibLinear][LibLinear][LibLinear][LibLinear][LibLinear][LibLinear][LibLinear][LibLinear][LibLinear][LibLinear][LibLinear][LibLinear][LibLinear][LibLinear][LibLinear][LibLinear][LibLinear]"
     ]
    },
    {
     "name": "stderr",
     "output_type": "stream",
     "text": [
      "[Parallel(n_jobs=1)]: Done  30 out of  30 | elapsed: 10.7min finished\n"
     ]
    },
    {
     "name": "stdout",
     "output_type": "stream",
     "text": [
      "[LibLinear]"
     ]
    }
   ],
   "source": [
    "# Using CV to tune LR's C parameter\n",
    "model = sklearn.linear_model.LogisticRegression(verbose=True)\n",
    "parameters = {\"C\": [10**-5, 1, 10, 100, 1000], \"penalty\": [\"l1\",\"l2\"]}\n",
    "cv = sklearn.grid_search.GridSearchCV(model, parameters, verbose=True)\n",
    "cv.fit(train_points,train_labels)\n",
    "\n",
    "base_param_grid = cv.grid_scores_\n",
    "C_values = np.array([10**-5, 1, 10, 100, 1000])\n",
    "validation_scores = np.zeros(shape=len(base_param_grid))"
   ]
  },
  {
   "cell_type": "code",
   "execution_count": 23,
   "metadata": {
    "collapsed": false
   },
   "outputs": [
    {
     "name": "stderr",
     "output_type": "stream",
     "text": [
      "C:\\Users\\Dean\\Anaconda3\\lib\\site-packages\\matplotlib\\figure.py:397: UserWarning: matplotlib is currently using a non-GUI backend, so cannot show the figure\n",
      "  \"matplotlib is currently using a non-GUI backend, \"\n"
     ]
    },
    {
     "data": {
      "image/png": "[encoded data removed]",
      "text/plain": [
       "<matplotlib.figure.Figure at 0x2be8d1fa780>"
      ]
     },
     "metadata": {},
     "output_type": "display_data"
    }
   ],
   "source": [
    "# Plotting the scores\n",
    "l1_accuracies = []\n",
    "l2_accuracies = []\n",
    "for i in range(len(base_param_grid)):\n",
    "    penalty = base_param_grid[i].parameters['penalty']\n",
    "    accuracy = base_param_grid[i].mean_validation_score\n",
    "    if penalty == 'l1':\n",
    "        l1_accuracies.append(accuracy)\n",
    "    else:\n",
    "        l2_accuracies.append(accuracy)\n",
    "        \n",
    "fig = plt.figure()\n",
    "plt.plot(C_values, l1_accuracies, label=\"l1 Penalty\")\n",
    "plt.plot(C_values, l2_accuracies, label=\"l2 Penalty\")\n",
    "plt.xlabel(\"Value of C\")\n",
    "plt.ylabel(\"Mean Validation Score\")\n",
    "plt.legend(loc = 4)\n",
    "fig.show()\n",
    "        "
   ]
  },
  {
   "cell_type": "markdown",
   "metadata": {},
   "source": [
    "As we can see, no meaningful progress can be made by adjusting the logistic regression parameters. \n",
    "Let's try and do the same for gradient boosting."
   ]
  },
  {
   "cell_type": "code",
   "execution_count": 24,
   "metadata": {
    "collapsed": false,
    "scrolled": true
   },
   "outputs": [
    {
     "name": "stdout",
     "output_type": "stream",
     "text": [
      "Fitting 3 folds for each of 5 candidates, totalling 15 fits\n",
      "      Iter       Train Loss   Remaining Time \n",
      "         1           0.9590            3.22m\n",
      "         2           0.9407            3.13m\n",
      "         3           0.9257            3.14m\n",
      "         4           0.9131            3.09m\n",
      "         5           0.9028            3.04m\n",
      "         6           0.8941            2.98m\n",
      "         7           0.8862            2.95m\n",
      "         8           0.8798            2.89m\n",
      "         9           0.8748            2.84m\n",
      "        10           0.8694            2.82m\n",
      "        20           0.8419            2.46m\n",
      "        30           0.8304            2.12m\n",
      "        40           0.8251            1.80m\n",
      "        50           0.8219            1.49m\n",
      "        60           0.8203            1.18m\n",
      "        70           0.8191           52.94s\n",
      "        80           0.8182           35.21s\n",
      "        90           0.8176           17.52s\n",
      "       100           0.8172            0.00s\n",
      "      Iter       Train Loss   Remaining Time \n",
      "         1           0.9588            3.03m\n",
      "         2           0.9402            3.08m\n",
      "         3           0.9251            3.05m\n",
      "         4           0.9123            3.02m\n",
      "         5           0.9017            2.96m\n",
      "         6           0.8929            2.91m\n",
      "         7           0.8856            2.88m\n",
      "         8           0.8785            2.85m\n",
      "         9           0.8736            2.81m\n",
      "        10           0.8680            2.78m\n",
      "        20           0.8399            2.49m\n",
      "        30           0.8281            2.13m\n",
      "        40           0.8225            1.80m\n",
      "        50           0.8195            1.49m\n",
      "        60           0.8178            1.18m\n",
      "        70           0.8166           53.17s\n",
      "        80           0.8159           35.23s\n",
      "        90           0.8152           17.55s\n",
      "       100           0.8148            0.00s\n",
      "      Iter       Train Loss   Remaining Time \n",
      "         1           0.9584            3.08m\n",
      "         2           0.9396            3.12m\n",
      "         3           0.9242            3.12m\n",
      "         4           0.9116            3.06m\n",
      "         5           0.9004            3.02m\n",
      "         6           0.8915            2.95m\n",
      "         7           0.8838            2.89m\n",
      "         8           0.8766            2.88m\n",
      "         9           0.8716            2.82m\n",
      "        10           0.8660            2.80m\n",
      "        20           0.8376            2.55m\n",
      "        30           0.8262            2.26m\n",
      "        40           0.8205            1.97m\n",
      "        50           0.8175            1.66m\n",
      "        60           0.8158            1.30m\n",
      "        70           0.8146           57.47s\n",
      "        80           0.8139           37.87s\n",
      "        90           0.8134           18.89s\n",
      "       100           0.8130            0.00s\n",
      "      Iter       Train Loss   Remaining Time \n",
      "         1           0.9554            5.59m\n",
      "         2           0.9345            5.50m\n",
      "         3           0.9175            5.43m\n",
      "         4           0.9036            5.24m\n",
      "         5           0.8920            5.14m\n",
      "         6           0.8825            5.05m\n",
      "         7           0.8743            4.94m\n",
      "         8           0.8673            4.89m\n",
      "         9           0.8613            4.82m\n",
      "        10           0.8566            4.76m\n",
      "        20           0.8312            4.13m\n",
      "        30           0.8231            3.56m\n",
      "        40           0.8200            3.03m\n",
      "        50           0.8184            2.53m\n",
      "        60           0.8173            2.01m\n",
      "        70           0.8167            1.49m\n",
      "        80           0.8163           58.95s\n",
      "        90           0.8160           29.27s\n",
      "       100           0.8158            0.00s\n",
      "      Iter       Train Loss   Remaining Time \n",
      "         1           0.9550            5.32m\n",
      "         2           0.9340            5.22m\n",
      "         3           0.9168            5.25m\n",
      "         4           0.9026            5.24m\n",
      "         5           0.8909            5.18m\n",
      "         6           0.8810            5.16m\n",
      "         7           0.8728            5.08m\n",
      "         8           0.8661            5.00m\n",
      "         9           0.8599            5.00m\n",
      "        10           0.8550            4.97m\n",
      "        20           0.8290            4.34m\n",
      "        30           0.8208            3.81m\n",
      "        40           0.8175            3.21m\n",
      "        50           0.8159            2.65m\n",
      "        60           0.8149            2.08m\n",
      "        70           0.8143            1.58m\n",
      "        80           0.8139            1.04m\n",
      "        90           0.8136           30.72s\n",
      "       100           0.8134            0.00s\n",
      "      Iter       Train Loss   Remaining Time \n",
      "         1           0.9547            5.21m\n",
      "         2           0.9332            5.08m\n",
      "         3           0.9158            5.02m\n",
      "         4           0.9015            4.95m\n",
      "         5           0.8897            4.88m\n",
      "         6           0.8799            4.83m\n",
      "         7           0.8715            4.75m\n",
      "         8           0.8643            4.71m\n",
      "         9           0.8585            4.65m\n",
      "        10           0.8533            4.58m\n",
      "        20           0.8270            4.06m\n",
      "        30           0.8191            3.54m\n",
      "        40           0.8157            3.01m\n",
      "        50           0.8141            2.48m\n",
      "        60           0.8131            1.97m\n",
      "        70           0.8124            1.47m\n",
      "        80           0.8121           58.33s\n",
      "        90           0.8118           28.97s\n",
      "       100           0.8116            0.00s\n",
      "      Iter       Train Loss   Remaining Time \n",
      "         1           0.9535            8.01m\n",
      "         2           0.9312            7.80m\n",
      "         3           0.9135            7.66m\n",
      "         4           0.8991            7.53m\n",
      "         5           0.8872            7.45m\n",
      "         6           0.8772            7.38m\n",
      "         7           0.8687            7.31m\n",
      "         8           0.8616            7.21m\n",
      "         9           0.8556            7.13m\n",
      "        10           0.8506            7.05m\n",
      "        20           0.8265            6.24m\n",
      "        30           0.8200            5.42m\n",
      "        40           0.8176            4.61m\n",
      "        50           0.8167            3.79m\n",
      "        60           0.8160            2.99m\n",
      "        70           0.8156            2.22m\n",
      "        80           0.8153            1.47m\n",
      "        90           0.8151           43.92s\n",
      "       100           0.8148            0.00s\n",
      "      Iter       Train Loss   Remaining Time \n",
      "         1           0.9531            8.52m\n",
      "         2           0.9307            8.13m\n",
      "         3           0.9127            7.86m\n",
      "         4           0.8981            7.69m\n",
      "         5           0.8860            7.58m\n",
      "         6           0.8758            7.48m\n",
      "         7           0.8673            7.38m\n",
      "         8           0.8601            7.36m\n",
      "         9           0.8540            7.36m\n",
      "        10           0.8489            7.26m\n",
      "        20           0.8241            6.60m\n",
      "        30           0.8174            5.68m\n",
      "        40           0.8151            4.91m\n",
      "        50           0.8142            4.08m\n",
      "        60           0.8134            3.25m\n",
      "        70           0.8131            2.39m\n",
      "        80           0.8128            1.57m\n",
      "        90           0.8126           46.77s\n",
      "       100           0.8124            0.00s\n",
      "      Iter       Train Loss   Remaining Time \n",
      "         1           0.9527            7.84m\n",
      "         2           0.9300            7.82m\n",
      "         3           0.9118            7.69m\n",
      "         4           0.8970            7.63m\n",
      "         5           0.8848            7.52m\n",
      "         6           0.8746            7.45m\n",
      "         7           0.8661            7.37m\n",
      "         8           0.8587            7.27m\n",
      "         9           0.8525            7.20m\n",
      "        10           0.8473            7.11m\n",
      "        20           0.8224            6.27m\n",
      "        30           0.8156            5.47m\n",
      "        40           0.8134            4.63m\n",
      "        50           0.8122            3.78m\n",
      "        60           0.8117            2.99m\n",
      "        70           0.8113            2.22m\n",
      "        80           0.8110            1.46m\n",
      "        90           0.8107           43.58s\n",
      "       100           0.8106            0.00s\n",
      "      Iter       Train Loss   Remaining Time \n",
      "         1           0.9522           11.67m\n",
      "         2           0.9293           11.61m\n",
      "         3           0.9112           11.52m\n",
      "         4           0.8965           11.35m\n",
      "         5           0.8844           11.25m\n",
      "         6           0.8744           11.14m\n",
      "         7           0.8660           10.99m\n",
      "         8           0.8590           10.86m\n",
      "         9           0.8530           10.76m\n",
      "        10           0.8479           10.66m\n",
      "        20           0.8240            9.50m\n",
      "        30           0.8181            8.30m\n",
      "        40           0.8162            7.07m\n",
      "        50           0.8154            5.78m\n",
      "        60           0.8148            4.55m\n",
      "        70           0.8144            3.35m\n",
      "        80           0.8140            2.20m\n",
      "        90           0.8138            1.08m\n",
      "       100           0.8135            0.00s\n",
      "      Iter       Train Loss   Remaining Time \n",
      "         1           0.9518           11.53m\n",
      "         2           0.9286           11.47m\n",
      "         3           0.9103           11.33m\n",
      "         4           0.8954           11.25m\n",
      "         5           0.8831           11.20m\n",
      "         6           0.8730           11.13m\n",
      "         7           0.8645           11.00m\n",
      "         8           0.8574           10.88m\n",
      "         9           0.8513           10.78m\n",
      "        10           0.8462           10.68m\n",
      "        20           0.8218            9.48m\n",
      "        30           0.8157            8.26m\n",
      "        40           0.8138            7.02m\n",
      "        50           0.8129            5.76m\n",
      "        60           0.8124            4.52m\n",
      "        70           0.8120            3.35m\n",
      "        80           0.8117            2.20m\n",
      "        90           0.8115            1.09m\n",
      "       100           0.8113            0.00s\n",
      "      Iter       Train Loss   Remaining Time \n",
      "         1           0.9514           11.86m\n",
      "         2           0.9280           11.77m\n",
      "         3           0.9094           11.69m\n",
      "         4           0.8944           11.58m\n",
      "         5           0.8821           11.48m\n",
      "         6           0.8718           11.29m\n",
      "         7           0.8633           11.20m\n",
      "         8           0.8561           11.08m\n",
      "         9           0.8500           10.98m\n",
      "        10           0.8448           10.84m\n",
      "        20           0.8201            9.65m\n",
      "        30           0.8139            8.40m\n",
      "        40           0.8119            7.14m\n",
      "        50           0.8111            5.84m\n",
      "        60           0.8105            4.58m\n",
      "        70           0.8102            3.37m\n",
      "        80           0.8098            2.22m\n",
      "        90           0.8095            1.10m\n",
      "       100           0.8092            0.00s\n",
      "      Iter       Train Loss   Remaining Time \n",
      "         1           0.9515           18.15m\n",
      "         2           0.9283           18.01m\n",
      "         3           0.9100           17.80m\n",
      "         4           0.8952           17.65m\n",
      "         5           0.8830           17.49m\n",
      "         6           0.8730           17.36m\n",
      "         7           0.8646           17.17m\n",
      "         8           0.8575           16.98m\n",
      "         9           0.8516           16.81m\n",
      "        10           0.8465           16.63m\n",
      "        20           0.8227           14.97m\n",
      "        30           0.8168           12.95m\n",
      "        40           0.8149           10.97m\n",
      "        50           0.8140            8.99m\n",
      "        60           0.8133            7.00m\n",
      "        70           0.8128            5.13m\n",
      "        80           0.8124            3.36m\n",
      "        90           0.8121            1.65m\n",
      "       100           0.8116            0.00s\n",
      "      Iter       Train Loss   Remaining Time \n",
      "         1           0.9511           17.97m\n",
      "         2           0.9276           17.73m\n",
      "         3           0.9090           17.65m\n",
      "         4           0.8940           17.49m\n",
      "         5           0.8817           17.35m\n",
      "         6           0.8715           17.18m\n",
      "         7           0.8630           17.03m\n",
      "         8           0.8559           16.84m\n",
      "         9           0.8498           16.70m\n",
      "        10           0.8447           16.54m\n",
      "        20           0.8205           14.71m\n",
      "        30           0.8144           12.78m\n",
      "        40           0.8125           10.84m\n",
      "        50           0.8115            8.90m\n",
      "        60           0.8109            6.98m\n",
      "        70           0.8104            5.12m\n",
      "        80           0.8101            3.33m\n",
      "        90           0.8097            1.65m\n",
      "       100           0.8094            0.00s\n",
      "      Iter       Train Loss   Remaining Time \n",
      "         1           0.9507           17.84m\n",
      "         2           0.9269           17.79m\n",
      "         3           0.9082           17.63m\n",
      "         4           0.8930           17.61m\n",
      "         5           0.8806           17.49m\n",
      "         6           0.8704           17.31m\n",
      "         7           0.8618           17.15m\n",
      "         8           0.8546           16.94m\n",
      "         9           0.8485           16.77m\n",
      "        10           0.8433           16.58m\n",
      "        20           0.8187           14.76m\n",
      "        30           0.8126           12.85m\n",
      "        40           0.8105           10.89m\n",
      "        50           0.8097            8.90m\n",
      "        60           0.8091            6.96m\n",
      "        70           0.8085            5.10m\n",
      "        80           0.8081            3.35m\n",
      "        90           0.8077            1.65m\n",
      "       100           0.8073            0.00s\n"
     ]
    },
    {
     "name": "stderr",
     "output_type": "stream",
     "text": [
      "[Parallel(n_jobs=1)]: Done  15 out of  15 | elapsed: 128.3min finished\n"
     ]
    },
    {
     "name": "stdout",
     "output_type": "stream",
     "text": [
      "      Iter       Train Loss   Remaining Time \n",
      "         1           0.9511           27.79m\n",
      "         2           0.9276           27.67m\n",
      "         3           0.9091           27.62m\n",
      "         4           0.8942           27.21m\n",
      "         5           0.8819           27.03m\n",
      "         6           0.8717           26.82m\n",
      "         7           0.8633           26.47m\n",
      "         8           0.8561           26.25m\n",
      "         9           0.8501           25.90m\n",
      "        10           0.8450           25.67m\n",
      "        20           0.8209           22.82m\n",
      "        30           0.8149           19.93m\n",
      "        40           0.8130           16.95m\n",
      "        50           0.8122           13.90m\n",
      "        60           0.8117           10.88m\n",
      "        70           0.8113            7.97m\n",
      "        80           0.8110            5.23m\n",
      "        90           0.8107            2.56m\n",
      "       100           0.8104            0.00s\n"
     ]
    },
    {
     "data": {
      "text/plain": [
       "GridSearchCV(cv=None, error_score='raise',\n",
       "       estimator=GradientBoostingClassifier(init=None, learning_rate=0.1, loss='deviance',\n",
       "              max_depth=3, max_features=None, max_leaf_nodes=None,\n",
       "              min_samples_leaf=1, min_samples_split=2,\n",
       "              min_weight_fraction_leaf=0.0, n_estimators=100,\n",
       "              presort='auto', random_state=None, subsample=1.0,\n",
       "              verbose=True, warm_start=False),\n",
       "       fit_params={}, iid=True, n_jobs=1,\n",
       "       param_grid={'max_depth': [2, 3, 4, 5, 6]}, pre_dispatch='2*n_jobs',\n",
       "       refit=True, scoring=None, verbose=True)"
      ]
     },
     "execution_count": 24,
     "metadata": {},
     "output_type": "execute_result"
    }
   ],
   "source": [
    "model = sklearn.ensemble.GradientBoostingClassifier()\n",
    "parameters = {\"max_depth\": [2, 3, 4, 5, 6]}\n",
    "cv = sklearn.grid_search.GridSearchCV(model, parameters, verbose=True)\n",
    "cv.fit(train_points,train_labels)"
   ]
  },
  {
   "cell_type": "code",
   "execution_count": 25,
   "metadata": {
    "collapsed": true
   },
   "outputs": [],
   "source": [
    "# Plotting the scores\n",
    "base_param_grid = cv.grid_scores_\n",
    "max_depth_values = np.array([2, 3, 4, 5, 6])\n",
    "validation_scores = np.zeros(shape=len(base_param_grid))\n",
    "for i in range(5):\n",
    "    validation_scores[i] = base_param_grid[i].mean_validation_score"
   ]
  },
  {
   "cell_type": "code",
   "execution_count": 26,
   "metadata": {
    "collapsed": false
   },
   "outputs": [
    {
     "name": "stderr",
     "output_type": "stream",
     "text": [
      "C:\\Users\\Dean\\Anaconda3\\lib\\site-packages\\matplotlib\\figure.py:397: UserWarning: matplotlib is currently using a non-GUI backend, so cannot show the figure\n",
      "  \"matplotlib is currently using a non-GUI backend, \"\n"
     ]
    },
    {
     "data": {
      "image/png": "[encoded data removed]",
      "text/plain": [
       "<matplotlib.figure.Figure at 0x2be8cdf6d30>"
      ]
     },
     "metadata": {},
     "output_type": "display_data"
    }
   ],
   "source": [
    "fig = plt.figure()\n",
    "plt.plot(max_depth_values, validation_scores)\n",
    "plt.xlabel(\"Max Regression Tree Depth\")\n",
    "plt.ylabel(\"Mean MAP@12 Score\")\n",
    "fig.show()"
   ]
  },
  {
   "cell_type": "markdown",
   "metadata": {},
   "source": [
    "It seems enlarging the maximum depth for the regression trees does make a difference. Using a value of 6 already causes the model fitting to take about 30 minutes, so increasing it further will probably cause the model fitting to take even longer.\n",
    "\n",
    "Now let's perform the final test for our model. Coincidentally, the number of displays in the data is divisible by 7, so we can perform 7-fold cross validation to make final evaluation of our model. "
   ]
  },
  {
   "cell_type": "code",
   "execution_count": 33,
   "metadata": {
    "collapsed": false,
    "scrolled": true
   },
   "outputs": [
    {
     "name": "stdout",
     "output_type": "stream",
     "text": [
      "Now working on fold number 0\n",
      "      Iter       Train Loss   Remaining Time \n",
      "         1           0.9513           36.03m\n",
      "         2           0.9278           39.22m\n",
      "         3           0.9093           39.88m\n",
      "         4           0.8943           41.50m\n",
      "         5           0.8821           38.25m\n",
      "         6           0.8719           38.82m\n",
      "         7           0.8634           38.62m\n",
      "         8           0.8563           37.24m\n",
      "         9           0.8502           36.96m\n",
      "        10           0.8451           36.28m\n",
      "        20           0.8210           31.62m\n",
      "        30           0.8151           27.96m\n",
      "        40           0.8132           23.70m\n",
      "        50           0.8125           19.92m\n",
      "        60           0.8119           15.78m\n",
      "        70           0.8115           11.68m\n",
      "        80           0.8112            7.90m\n",
      "        90           0.8110            3.82m\n",
      "       100           0.8107            0.00s\n"
     ]
    },
    {
     "name": "stderr",
     "output_type": "stream",
     "text": [
      "C:\\Users\\Dean\\Anaconda3\\lib\\site-packages\\ipykernel\\__main__.py:31: SettingWithCopyWarning: \n",
      "A value is trying to be set on a copy of a slice from a DataFrame.\n",
      "Try using .loc[row_indexer,col_indexer] = value instead\n",
      "\n",
      "See the caveats in the documentation: http://pandas.pydata.org/pandas-docs/stable/indexing.html#indexing-view-versus-copy\n"
     ]
    },
    {
     "name": "stdout",
     "output_type": "stream",
     "text": [
      "0/1 Accuracy for Gradient Boosting Algorithm: 0.485099491591\n",
      "Now calculating MAP@12 accuracy, should take about 5 minutes\n",
      "MAP@12 Accuracy for Gradient Boosting Algorithm: 0.680912652584\n",
      "Now working on fold number 1\n",
      "      Iter       Train Loss   Remaining Time \n",
      "         1           0.9511           43.66m\n",
      "         2           0.9276           48.09m\n",
      "         3           0.9090           50.52m\n",
      "         4           0.8940           52.45m\n",
      "         5           0.8818           49.44m\n",
      "         6           0.8716           46.59m\n",
      "         7           0.8632           44.63m\n",
      "         8           0.8560           43.16m\n",
      "         9           0.8500           42.01m\n",
      "        10           0.8449           40.72m\n",
      "        20           0.8208           34.76m\n",
      "        30           0.8148           28.64m\n",
      "        40           0.8130           23.92m\n",
      "        50           0.8122           19.28m\n",
      "        60           0.8116           15.04m\n",
      "        70           0.8112           10.96m\n",
      "        80           0.8109            7.19m\n",
      "        90           0.8107            3.54m\n",
      "       100           0.8104            0.00s\n",
      "0/1 Accuracy for Gradient Boosting Algorithm: 0.486267638352\n",
      "Now calculating MAP@12 accuracy, should take about 5 minutes\n",
      "MAP@12 Accuracy for Gradient Boosting Algorithm: 0.681653738785\n",
      "Now working on fold number 2\n",
      "      Iter       Train Loss   Remaining Time \n",
      "         1           0.9511           41.83m\n",
      "         2           0.9275           41.01m\n",
      "         3           0.9090           40.38m\n",
      "         4           0.8940           40.21m\n",
      "         5           0.8818           39.68m\n",
      "         6           0.8716           39.39m\n",
      "         7           0.8631           38.91m\n",
      "         8           0.8560           38.58m\n",
      "         9           0.8499           38.13m\n",
      "        10           0.8448           37.80m\n",
      "        20           0.8207           33.43m\n",
      "        30           0.8147           28.91m\n",
      "        40           0.8128           23.36m\n",
      "        50           0.8120           18.53m\n",
      "        60           0.8115           14.13m\n",
      "        70           0.8111           10.00m\n",
      "        80           0.8108            6.36m\n",
      "        90           0.8106            3.06m\n",
      "       100           0.8104            0.00s\n",
      "0/1 Accuracy for Gradient Boosting Algorithm: 0.483758777694\n",
      "Now calculating MAP@12 accuracy, should take about 5 minutes\n",
      "MAP@12 Accuracy for Gradient Boosting Algorithm: 0.680055279906\n",
      "Now working on fold number 3\n",
      "      Iter       Train Loss   Remaining Time \n",
      "         1           0.9512           54.02m\n",
      "         2           0.9277           43.84m\n",
      "         3           0.9091           41.03m\n",
      "         4           0.8942           41.55m\n",
      "         5           0.8819           40.70m\n",
      "         6           0.8717           39.95m\n",
      "         7           0.8632           40.09m\n",
      "         8           0.8561           40.28m\n",
      "         9           0.8500           39.34m\n",
      "        10           0.8449           39.42m\n",
      "        20           0.8208           34.93m\n",
      "        30           0.8148           31.03m\n",
      "        40           0.8130           26.68m\n",
      "        50           0.8121           21.88m\n",
      "        60           0.8117           16.88m\n",
      "        70           0.8113           12.26m\n",
      "        80           0.8110            8.01m\n",
      "        90           0.8108            3.86m\n",
      "       100           0.8106            0.00s\n",
      "0/1 Accuracy for Gradient Boosting Algorithm: 0.483081783548\n",
      "Now calculating MAP@12 accuracy, should take about 5 minutes\n",
      "MAP@12 Accuracy for Gradient Boosting Algorithm: 0.679271847811\n",
      "Now working on fold number 4\n",
      "      Iter       Train Loss   Remaining Time \n",
      "         1           0.9511           33.95m\n",
      "         2           0.9276           39.67m\n",
      "         3           0.9090           43.18m\n",
      "         4           0.8941           39.41m\n",
      "         5           0.8818           38.43m\n",
      "         6           0.8716           38.96m\n",
      "         7           0.8631           39.65m\n",
      "         8           0.8560           40.07m\n",
      "         9           0.8500           40.46m\n",
      "        10           0.8448           38.56m\n",
      "        20           0.8207           30.47m\n",
      "        30           0.8147           27.63m\n",
      "        40           0.8129           24.92m\n",
      "        50           0.8121           21.49m\n",
      "        60           0.8115           16.94m\n",
      "        70           0.8112           12.54m\n",
      "        80           0.8109            8.35m\n",
      "        90           0.8106            4.13m\n",
      "       100           0.8104            0.00s\n",
      "0/1 Accuracy for Gradient Boosting Algorithm: 0.484475595025\n",
      "Now calculating MAP@12 accuracy, should take about 5 minutes\n",
      "MAP@12 Accuracy for Gradient Boosting Algorithm: 0.680490916627\n",
      "Now working on fold number 5\n",
      "      Iter       Train Loss   Remaining Time \n",
      "         1           0.9510           52.39m\n",
      "         2           0.9275           57.67m\n",
      "         3           0.9090           57.05m\n",
      "         4           0.8940           56.35m\n",
      "         5           0.8817           53.81m\n",
      "         6           0.8716           53.64m\n",
      "         7           0.8631           49.60m\n",
      "         8           0.8559           48.65m\n",
      "         9           0.8499           49.01m\n",
      "        10           0.8448           48.65m\n",
      "        20           0.8207           42.89m\n",
      "        30           0.8147           37.68m\n",
      "        40           0.8128           31.85m\n",
      "        50           0.8120           25.93m\n",
      "        60           0.8116           19.65m\n",
      "        70           0.8112           13.68m\n",
      "        80           0.8110            8.49m\n",
      "        90           0.8107            4.00m\n",
      "       100           0.8104            0.00s\n",
      "0/1 Accuracy for Gradient Boosting Algorithm: 0.485139314776\n",
      "Now calculating MAP@12 accuracy, should take about 5 minutes\n",
      "MAP@12 Accuracy for Gradient Boosting Algorithm: 0.680598439226\n",
      "Now working on fold number 6\n",
      "      Iter       Train Loss   Remaining Time \n",
      "         1           0.9511           47.33m\n",
      "         2           0.9275           52.11m\n",
      "         3           0.9090           50.30m\n",
      "         4           0.8940           49.88m\n",
      "         5           0.8817           49.97m\n",
      "         6           0.8715           50.82m\n",
      "         7           0.8630           50.98m\n",
      "         8           0.8558           50.51m\n",
      "         9           0.8498           49.78m\n",
      "        10           0.8447           49.64m\n",
      "        20           0.8205           45.34m\n",
      "        30           0.8146           36.91m\n",
      "        40           0.8127           30.05m\n",
      "        50           0.8119           24.41m\n",
      "        60           0.8114           18.46m\n",
      "        70           0.8110           13.31m\n",
      "        80           0.8107            8.62m\n",
      "        90           0.8104            4.21m\n",
      "       100           0.8102            0.00s\n",
      "0/1 Accuracy for Gradient Boosting Algorithm: 0.48448886942\n",
      "Now calculating MAP@12 accuracy, should take about 5 minutes\n",
      "MAP@12 Accuracy for Gradient Boosting Algorithm: 0.679958302597\n",
      "Mean 0-1 Accuracy: 0.484615924344\n",
      "Mean Map@12 Accuracy: 0.680420168219\n"
     ]
    }
   ],
   "source": [
    "displays = data.display_id.unique()\n",
    "np.random.RandomState(0).shuffle(displays)\n",
    "\n",
    "# Performing 7-fold CV\n",
    "zero_one_accuracies = np.zeros(shape=7)\n",
    "map_12_accuracies = np.zeros(shape=7)\n",
    "\n",
    "model = cv.best_estimator_ # Using the best value for max depth we found through CV earlier\n",
    "\n",
    "for i in range(7):\n",
    "    print(\"Now working on fold number \" + str(i))\n",
    "    test_displays = displays[i*75333:(i+1)*75333]\n",
    "    if i == 0:\n",
    "        train_displays = displays[75333:]\n",
    "    elif i == 6:\n",
    "        train_displays = displays[:6*75333]\n",
    "    else:\n",
    "        train_displays = np.concatenate((displays[:i*75333], displays[(i+1)*75333:]))\n",
    "\n",
    "    train_df = data[data.display_id.isin(train_displays)]\n",
    "    test_df = data[data.display_id.isin(test_displays)]\n",
    "\n",
    "    train_features_list = [train_df[feature] for feature in features]\n",
    "    test_features_list = [test_df[feature] for feature in features]\n",
    "\n",
    "    # Extracting X and y vectors for train and test\n",
    "    train_points, train_labels = prepare_dataset_for_model(train_features_list, train_df.clicked)\n",
    "    test_points, test_labels = prepare_dataset_for_model(test_features_list, test_df.clicked)\n",
    "\n",
    "    model.fit(train_points, train_labels)\n",
    "\n",
    "    display_probs = model.predict_proba(test_points)[:, 1]\n",
    "    test_df[\"probability_of_click\"] = display_probs  # Error generated at this line can be ignored\n",
    "\n",
    "    # Evaluating the model using 0/1 loss\n",
    "    zero_one_accuracy = accuracy_zero_one_loss(test_df)\n",
    "    zero_one_accuracies[i] = zero_one_accuracy\n",
    "    print(\"0/1 Accuracy for Gradient Boosting Algorithm: \" + str(zero_one_accuracy))\n",
    "\n",
    "    # Evaluating the model using MAP@12 metric\n",
    "    map12_accuracy = MAP12_Accuracy(test_df)\n",
    "    map_12_accuracies[i] = map12_accuracy\n",
    "    print(\"MAP@12 Accuracy for Gradient Boosting Algorithm: \" + str(map12_accuracy))\n",
    "\n",
    "print(\"Mean 0-1 Accuracy: \" + str(zero_one_accuracies.mean()))\n",
    "print(\"Mean Map@12 Accuracy: \" + str(map_12_accuracies.mean()))\n",
    "\n"
   ]
  },
  {
   "cell_type": "code",
   "execution_count": 40,
   "metadata": {
    "collapsed": false
   },
   "outputs": [
    {
     "name": "stdout",
     "output_type": "stream",
     "text": [
      "Final MAP@12 Score: 0.68042 (+/- 0.00141)\n"
     ]
    },
    {
     "name": "stderr",
     "output_type": "stream",
     "text": [
      "C:\\Users\\Dean\\Anaconda3\\lib\\site-packages\\matplotlib\\figure.py:397: UserWarning: matplotlib is currently using a non-GUI backend, so cannot show the figure\n",
      "  \"matplotlib is currently using a non-GUI backend, \"\n"
     ]
    },
    {
     "data": {
      "image/png": "[encoded data removed]",
      "text/plain": [
       "<matplotlib.figure.Figure at 0x2be8d207710>"
      ]
     },
     "metadata": {},
     "output_type": "display_data"
    }
   ],
   "source": [
    "fig = plt.figure()\n",
    "plt.plot(range(1,8), map_12_accuracies, label=\"MAP@12\")\n",
    "plt.plot(range(1,8), zero_one_accuracies, label=\"0/1\")\n",
    "plt.xlabel(\"Fold\")\n",
    "plt.ylabel(\"Test Score\")\n",
    "plt.legend(loc = 7)\n",
    "plt.tight_layout()\n",
    "fig.show()\n",
    "\n",
    "print(\"Final MAP@12 Score: %0.5f (+/- %0.5f)\" % (map_12_accuracies.mean(), map_12_accuracies.std() * 2))"
   ]
  },
  {
   "cell_type": "markdown",
   "metadata": {},
   "source": [
    "As we can see in the graph and in the accuracy printout, the model we managed to build is quite stable - the score hardly changes for the different folds.\n",
    "\n",
    "Our model acheives a CV score of 0.68042. For comparison, the top team got a score of 0.70145, and the 50th best got a score of 0.67945. "
   ]
  },
  {
   "cell_type": "code",
   "execution_count": null,
   "metadata": {
    "collapsed": true
   },
   "outputs": [],
   "source": []
  }
 ],
 "metadata": {
  "anaconda-cloud": {},
  "kernelspec": {
   "display_name": "Python [conda root]",
   "language": "python",
   "name": "conda-root-py"
  },
  "language_info": {
   "codemirror_mode": {
    "name": "ipython",
    "version": 3
   },
   "file_extension": ".py",
   "mimetype": "text/x-python",
   "name": "python",
   "nbconvert_exporter": "python",
   "pygments_lexer": "ipython3",
   "version": "3.5.2"
  }
 },
 "nbformat": 4,
 "nbformat_minor": 1
}
