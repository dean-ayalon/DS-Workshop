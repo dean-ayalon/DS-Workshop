{
 "cells": [
  {
   "cell_type": "markdown",
   "metadata": {
    "collapsed": true
   },
   "source": [
    "# Data Science Workshop Project"
   ]
  },
  {
   "cell_type": "markdown",
   "metadata": {},
   "source": [
    "###  Dean Ayalon, Yair Hadas, Eran Horowitz "
   ]
  },
  {
   "cell_type": "markdown",
   "metadata": {},
   "source": [
    "# Getting to know the data"
   ]
  },
  {
   "cell_type": "markdown",
   "metadata": {},
   "source": [
    "### Importing necessary libraries and files:"
   ]
  },
  {
   "cell_type": "code",
   "execution_count": 1,
   "metadata": {
    "collapsed": false
   },
   "outputs": [
    {
     "name": "stdout",
     "output_type": "stream",
     "text": [
      "Using matplotlib backend: Qt5Agg\n"
     ]
    }
   ],
   "source": [
    "from utils.plot_utils import *\n",
    "from utils.table_utils import return_unique_values_of_column_from_table, filter_table_by_unique_ids, get_ads_per_feat\n",
    "from paths import *\n",
    "\n",
    "import numpy as np\n",
    "import pandas as pd\n",
    "import zipfile as zp\n",
    "import os.path\n",
    "import sklearn.linear_model\n",
    "import sklearn.ensemble\n",
    "import sklearn.preprocessing\n",
    "import sklearn.grid_search\n",
    "from utils.analysis_utils import *\n",
    "pd.options.mode.chained_assignment = None # Eliminates some false warnings\n",
    "\n",
    "# Imports for drawing plots\n",
    "%matplotlib\n",
    "%matplotlib inline\n",
    "import matplotlib\n",
    "import matplotlib.pyplot as plt"
   ]
  },
  {
   "cell_type": "markdown",
   "metadata": {},
   "source": [
    "## Introducing the Data"
   ]
  },
  {
   "cell_type": "markdown",
   "metadata": {},
   "source": [
    "### Let's take a peek at our data:"
   ]
  },
  {
   "cell_type": "code",
   "execution_count": 2,
   "metadata": {
    "collapsed": false
   },
   "outputs": [],
   "source": [
    "# Importing all tables (notice that all the globals are in paths.py):\n",
    "z_tables = zp.ZipFile(os.path.join('tables','tables.zip'))\n",
    "clicks = pd.read_csv(z_tables.open(CLICKS))\n",
    "doc_categories = pd.read_csv(z_tables.open(DOC_CATEGORIES))\n",
    "doc_entities = pd.read_csv(z_tables.open(DOC_ENTITIES))\n",
    "doc_meta = pd.read_csv(z_tables.open(DOC_META))\n",
    "doc_topics = pd.read_csv(z_tables.open(DOC_TOPICS))\n",
    "# The warning comes from events table. we will see later it is important.\n",
    "events = pd.read_csv(z_tables.open(EVENTS))\n",
    "# display_geo is a table we prepared ahead from events.csv. You can see how it's done in geo_split.py\n",
    "promoted = pd.read_csv(z_tables.open(PROMOTED_CONTENT))\n",
    "display_geo = pd.read_csv(z_tables.open(DISPLAY_GEO))\n",
    "z_tables.close()\n",
    "\n",
    "z_dataset_p1 = zp.ZipFile(os.path.join('tables','dataset_p1.zip'))\n",
    "z_dataset_p2 = zp.ZipFile(os.path.join('tables','dataset_p2.zip'))\n",
    "dataset = pd.concat([pd.read_csv(z_dataset_p1.open('final_dataset_p1.csv')),\n",
    "                     pd.read_csv(z_dataset_p2.open('final_dataset_p2.csv'))],ignore_index=True)\n",
    "z_dataset_p1.close()\n",
    "z_dataset_p2.close()\n",
    "\n",
    "z_page_views_p1 = zp.ZipFile(os.path.join('tables','page_views_p1.zip'))\n",
    "z_page_views_p2 = zp.ZipFile(os.path.join('tables','page_views_p2.zip'))\n",
    "page_views = pd.concat([pd.read_csv(z_page_views_p1.open('sample_page_views_p1.csv')),\n",
    "                     pd.read_csv(z_page_views_p2.open('sample_page_views_p2.csv'))],ignore_index=True)\n",
    "z_page_views_p1.close()\n",
    "z_page_views_p2.close()\n"
   ]
  },
  {
   "cell_type": "code",
   "execution_count": 3,
   "metadata": {
    "collapsed": false
   },
   "outputs": [
    {
     "data": {
      "text/html": [
       "<div>\n",
       "<table border=\"1\" class=\"dataframe\">\n",
       "  <thead>\n",
       "    <tr style=\"text-align: right;\">\n",
       "      <th></th>\n",
       "      <th>display_id</th>\n",
       "      <th>ad_id</th>\n",
       "      <th>clicked</th>\n",
       "    </tr>\n",
       "  </thead>\n",
       "  <tbody>\n",
       "    <tr>\n",
       "      <th>0</th>\n",
       "      <td>7</td>\n",
       "      <td>105766</td>\n",
       "      <td>1</td>\n",
       "    </tr>\n",
       "    <tr>\n",
       "      <th>1</th>\n",
       "      <td>7</td>\n",
       "      <td>215967</td>\n",
       "      <td>0</td>\n",
       "    </tr>\n",
       "    <tr>\n",
       "      <th>2</th>\n",
       "      <td>7</td>\n",
       "      <td>300808</td>\n",
       "      <td>0</td>\n",
       "    </tr>\n",
       "    <tr>\n",
       "      <th>3</th>\n",
       "      <td>106</td>\n",
       "      <td>14120</td>\n",
       "      <td>0</td>\n",
       "    </tr>\n",
       "    <tr>\n",
       "      <th>4</th>\n",
       "      <td>106</td>\n",
       "      <td>39897</td>\n",
       "      <td>0</td>\n",
       "    </tr>\n",
       "  </tbody>\n",
       "</table>\n",
       "</div>"
      ],
      "text/plain": [
       "   display_id   ad_id  clicked\n",
       "0           7  105766        1\n",
       "1           7  215967        0\n",
       "2           7  300808        0\n",
       "3         106   14120        0\n",
       "4         106   39897        0"
      ]
     },
     "execution_count": 3,
     "metadata": {},
     "output_type": "execute_result"
    }
   ],
   "source": [
    "clicks.head()"
   ]
  },
  {
   "cell_type": "code",
   "execution_count": 4,
   "metadata": {
    "collapsed": false
   },
   "outputs": [
    {
     "data": {
      "text/html": [
       "<div>\n",
       "<table border=\"1\" class=\"dataframe\">\n",
       "  <thead>\n",
       "    <tr style=\"text-align: right;\">\n",
       "      <th></th>\n",
       "      <th>document_id</th>\n",
       "      <th>category_id</th>\n",
       "      <th>confidence_level</th>\n",
       "    </tr>\n",
       "  </thead>\n",
       "  <tbody>\n",
       "    <tr>\n",
       "      <th>0</th>\n",
       "      <td>1615583</td>\n",
       "      <td>1305</td>\n",
       "      <td>0.920000</td>\n",
       "    </tr>\n",
       "    <tr>\n",
       "      <th>1</th>\n",
       "      <td>1615583</td>\n",
       "      <td>1806</td>\n",
       "      <td>0.070000</td>\n",
       "    </tr>\n",
       "    <tr>\n",
       "      <th>2</th>\n",
       "      <td>1615460</td>\n",
       "      <td>1613</td>\n",
       "      <td>0.540646</td>\n",
       "    </tr>\n",
       "    <tr>\n",
       "      <th>3</th>\n",
       "      <td>1615460</td>\n",
       "      <td>1603</td>\n",
       "      <td>0.041136</td>\n",
       "    </tr>\n",
       "    <tr>\n",
       "      <th>4</th>\n",
       "      <td>1614225</td>\n",
       "      <td>1608</td>\n",
       "      <td>0.920000</td>\n",
       "    </tr>\n",
       "  </tbody>\n",
       "</table>\n",
       "</div>"
      ],
      "text/plain": [
       "   document_id  category_id  confidence_level\n",
       "0      1615583         1305          0.920000\n",
       "1      1615583         1806          0.070000\n",
       "2      1615460         1613          0.540646\n",
       "3      1615460         1603          0.041136\n",
       "4      1614225         1608          0.920000"
      ]
     },
     "execution_count": 4,
     "metadata": {},
     "output_type": "execute_result"
    }
   ],
   "source": [
    "doc_categories.head()"
   ]
  },
  {
   "cell_type": "code",
   "execution_count": 5,
   "metadata": {
    "collapsed": false
   },
   "outputs": [
    {
     "data": {
      "text/html": [
       "<div>\n",
       "<table border=\"1\" class=\"dataframe\">\n",
       "  <thead>\n",
       "    <tr style=\"text-align: right;\">\n",
       "      <th></th>\n",
       "      <th>document_id</th>\n",
       "      <th>entity_id</th>\n",
       "      <th>confidence_level</th>\n",
       "    </tr>\n",
       "  </thead>\n",
       "  <tbody>\n",
       "    <tr>\n",
       "      <th>0</th>\n",
       "      <td>1615583</td>\n",
       "      <td>9a934d9b311bf64b8648056653a70e61</td>\n",
       "      <td>0.293982</td>\n",
       "    </tr>\n",
       "    <tr>\n",
       "      <th>1</th>\n",
       "      <td>1615460</td>\n",
       "      <td>89109265cb36c5ca14a9e99c6c7d1918</td>\n",
       "      <td>0.373328</td>\n",
       "    </tr>\n",
       "    <tr>\n",
       "      <th>2</th>\n",
       "      <td>1614225</td>\n",
       "      <td>670847189b721233d9e3765b862b8b5d</td>\n",
       "      <td>0.259860</td>\n",
       "    </tr>\n",
       "    <tr>\n",
       "      <th>3</th>\n",
       "      <td>1614225</td>\n",
       "      <td>f7ebe65fd9b4034847ff8ec4dd9d62f3</td>\n",
       "      <td>0.222156</td>\n",
       "    </tr>\n",
       "    <tr>\n",
       "      <th>4</th>\n",
       "      <td>1614225</td>\n",
       "      <td>9f12cea57fd2f5f8f5ae9c92147c2bdd</td>\n",
       "      <td>0.218127</td>\n",
       "    </tr>\n",
       "  </tbody>\n",
       "</table>\n",
       "</div>"
      ],
      "text/plain": [
       "   document_id                         entity_id  confidence_level\n",
       "0      1615583  9a934d9b311bf64b8648056653a70e61          0.293982\n",
       "1      1615460  89109265cb36c5ca14a9e99c6c7d1918          0.373328\n",
       "2      1614225  670847189b721233d9e3765b862b8b5d          0.259860\n",
       "3      1614225  f7ebe65fd9b4034847ff8ec4dd9d62f3          0.222156\n",
       "4      1614225  9f12cea57fd2f5f8f5ae9c92147c2bdd          0.218127"
      ]
     },
     "execution_count": 5,
     "metadata": {},
     "output_type": "execute_result"
    }
   ],
   "source": [
    "doc_entities.head()"
   ]
  },
  {
   "cell_type": "code",
   "execution_count": 6,
   "metadata": {
    "collapsed": false
   },
   "outputs": [
    {
     "data": {
      "text/html": [
       "<div>\n",
       "<table border=\"1\" class=\"dataframe\">\n",
       "  <thead>\n",
       "    <tr style=\"text-align: right;\">\n",
       "      <th></th>\n",
       "      <th>document_id</th>\n",
       "      <th>source_id</th>\n",
       "      <th>publisher_id</th>\n",
       "      <th>publish_time</th>\n",
       "    </tr>\n",
       "  </thead>\n",
       "  <tbody>\n",
       "    <tr>\n",
       "      <th>0</th>\n",
       "      <td>1615583</td>\n",
       "      <td>1.0</td>\n",
       "      <td>603.0</td>\n",
       "      <td>2016-06-07 00:00:00</td>\n",
       "    </tr>\n",
       "    <tr>\n",
       "      <th>1</th>\n",
       "      <td>1615460</td>\n",
       "      <td>1.0</td>\n",
       "      <td>603.0</td>\n",
       "      <td>2016-06-20 00:00:00</td>\n",
       "    </tr>\n",
       "    <tr>\n",
       "      <th>2</th>\n",
       "      <td>1614225</td>\n",
       "      <td>1.0</td>\n",
       "      <td>603.0</td>\n",
       "      <td>2016-06-09 00:00:00</td>\n",
       "    </tr>\n",
       "    <tr>\n",
       "      <th>3</th>\n",
       "      <td>1614048</td>\n",
       "      <td>1.0</td>\n",
       "      <td>603.0</td>\n",
       "      <td>2016-06-05 12:00:00</td>\n",
       "    </tr>\n",
       "    <tr>\n",
       "      <th>4</th>\n",
       "      <td>1610319</td>\n",
       "      <td>1.0</td>\n",
       "      <td>603.0</td>\n",
       "      <td>2016-06-14 00:00:00</td>\n",
       "    </tr>\n",
       "  </tbody>\n",
       "</table>\n",
       "</div>"
      ],
      "text/plain": [
       "   document_id  source_id  publisher_id         publish_time\n",
       "0      1615583        1.0         603.0  2016-06-07 00:00:00\n",
       "1      1615460        1.0         603.0  2016-06-20 00:00:00\n",
       "2      1614225        1.0         603.0  2016-06-09 00:00:00\n",
       "3      1614048        1.0         603.0  2016-06-05 12:00:00\n",
       "4      1610319        1.0         603.0  2016-06-14 00:00:00"
      ]
     },
     "execution_count": 6,
     "metadata": {},
     "output_type": "execute_result"
    }
   ],
   "source": [
    "doc_meta.head()"
   ]
  },
  {
   "cell_type": "code",
   "execution_count": 7,
   "metadata": {
    "collapsed": false
   },
   "outputs": [
    {
     "data": {
      "text/html": [
       "<div>\n",
       "<table border=\"1\" class=\"dataframe\">\n",
       "  <thead>\n",
       "    <tr style=\"text-align: right;\">\n",
       "      <th></th>\n",
       "      <th>document_id</th>\n",
       "      <th>topic_id</th>\n",
       "      <th>confidence_level</th>\n",
       "    </tr>\n",
       "  </thead>\n",
       "  <tbody>\n",
       "    <tr>\n",
       "      <th>0</th>\n",
       "      <td>1615583</td>\n",
       "      <td>89</td>\n",
       "      <td>0.316306</td>\n",
       "    </tr>\n",
       "    <tr>\n",
       "      <th>1</th>\n",
       "      <td>1615583</td>\n",
       "      <td>198</td>\n",
       "      <td>0.015722</td>\n",
       "    </tr>\n",
       "    <tr>\n",
       "      <th>2</th>\n",
       "      <td>1615460</td>\n",
       "      <td>260</td>\n",
       "      <td>0.097964</td>\n",
       "    </tr>\n",
       "    <tr>\n",
       "      <th>3</th>\n",
       "      <td>1615460</td>\n",
       "      <td>26</td>\n",
       "      <td>0.014551</td>\n",
       "    </tr>\n",
       "    <tr>\n",
       "      <th>4</th>\n",
       "      <td>1614225</td>\n",
       "      <td>113</td>\n",
       "      <td>0.197576</td>\n",
       "    </tr>\n",
       "  </tbody>\n",
       "</table>\n",
       "</div>"
      ],
      "text/plain": [
       "   document_id  topic_id  confidence_level\n",
       "0      1615583        89          0.316306\n",
       "1      1615583       198          0.015722\n",
       "2      1615460       260          0.097964\n",
       "3      1615460        26          0.014551\n",
       "4      1614225       113          0.197576"
      ]
     },
     "execution_count": 7,
     "metadata": {},
     "output_type": "execute_result"
    }
   ],
   "source": [
    "doc_topics.head()"
   ]
  },
  {
   "cell_type": "code",
   "execution_count": 8,
   "metadata": {
    "collapsed": false
   },
   "outputs": [
    {
     "data": {
      "text/html": [
       "<div>\n",
       "<table border=\"1\" class=\"dataframe\">\n",
       "  <thead>\n",
       "    <tr style=\"text-align: right;\">\n",
       "      <th></th>\n",
       "      <th>display_id</th>\n",
       "      <th>uuid</th>\n",
       "      <th>document_id</th>\n",
       "      <th>timestamp</th>\n",
       "      <th>platform</th>\n",
       "      <th>geo_location</th>\n",
       "    </tr>\n",
       "  </thead>\n",
       "  <tbody>\n",
       "    <tr>\n",
       "      <th>0</th>\n",
       "      <td>7</td>\n",
       "      <td>2cc3f6457d16da</td>\n",
       "      <td>1149661</td>\n",
       "      <td>602</td>\n",
       "      <td>2</td>\n",
       "      <td>US&gt;MT&gt;762</td>\n",
       "    </tr>\n",
       "    <tr>\n",
       "      <th>1</th>\n",
       "      <td>106</td>\n",
       "      <td>36f0d66b583e3d</td>\n",
       "      <td>1788531</td>\n",
       "      <td>7873</td>\n",
       "      <td>2</td>\n",
       "      <td>US&gt;NM&gt;790</td>\n",
       "    </tr>\n",
       "    <tr>\n",
       "      <th>2</th>\n",
       "      <td>107</td>\n",
       "      <td>20b0db64279f06</td>\n",
       "      <td>1108855</td>\n",
       "      <td>7999</td>\n",
       "      <td>2</td>\n",
       "      <td>US</td>\n",
       "    </tr>\n",
       "    <tr>\n",
       "      <th>3</th>\n",
       "      <td>146</td>\n",
       "      <td>cc848dea324952</td>\n",
       "      <td>1320212</td>\n",
       "      <td>11062</td>\n",
       "      <td>1</td>\n",
       "      <td>CA&gt;NS</td>\n",
       "    </tr>\n",
       "    <tr>\n",
       "      <th>4</th>\n",
       "      <td>170</td>\n",
       "      <td>b2778a037a571e</td>\n",
       "      <td>1773530</td>\n",
       "      <td>12840</td>\n",
       "      <td>1</td>\n",
       "      <td>US&gt;TN&gt;640</td>\n",
       "    </tr>\n",
       "  </tbody>\n",
       "</table>\n",
       "</div>"
      ],
      "text/plain": [
       "   display_id            uuid  document_id  timestamp  platform geo_location\n",
       "0           7  2cc3f6457d16da      1149661        602         2    US>MT>762\n",
       "1         106  36f0d66b583e3d      1788531       7873         2    US>NM>790\n",
       "2         107  20b0db64279f06      1108855       7999         2           US\n",
       "3         146  cc848dea324952      1320212      11062         1        CA>NS\n",
       "4         170  b2778a037a571e      1773530      12840         1    US>TN>640"
      ]
     },
     "execution_count": 8,
     "metadata": {},
     "output_type": "execute_result"
    }
   ],
   "source": [
    "events.head()"
   ]
  },
  {
   "cell_type": "code",
   "execution_count": 9,
   "metadata": {
    "collapsed": false
   },
   "outputs": [
    {
     "data": {
      "text/html": [
       "<div>\n",
       "<table border=\"1\" class=\"dataframe\">\n",
       "  <thead>\n",
       "    <tr style=\"text-align: right;\">\n",
       "      <th></th>\n",
       "      <th>uuid</th>\n",
       "      <th>document_id</th>\n",
       "      <th>timestamp</th>\n",
       "      <th>platform</th>\n",
       "      <th>geo_location</th>\n",
       "      <th>traffic_source</th>\n",
       "    </tr>\n",
       "  </thead>\n",
       "  <tbody>\n",
       "    <tr>\n",
       "      <th>0</th>\n",
       "      <td>5fe4adf60dce62</td>\n",
       "      <td>7012</td>\n",
       "      <td>42055742</td>\n",
       "      <td>1</td>\n",
       "      <td>CA&gt;ON</td>\n",
       "      <td>1</td>\n",
       "    </tr>\n",
       "    <tr>\n",
       "      <th>1</th>\n",
       "      <td>6bb8e6792f606d</td>\n",
       "      <td>7012</td>\n",
       "      <td>19864732</td>\n",
       "      <td>3</td>\n",
       "      <td>AU&gt;02</td>\n",
       "      <td>2</td>\n",
       "    </tr>\n",
       "    <tr>\n",
       "      <th>2</th>\n",
       "      <td>bfd545d2d62900</td>\n",
       "      <td>7012</td>\n",
       "      <td>10865117</td>\n",
       "      <td>1</td>\n",
       "      <td>AU&gt;02</td>\n",
       "      <td>2</td>\n",
       "    </tr>\n",
       "    <tr>\n",
       "      <th>3</th>\n",
       "      <td>e1defdc3f432cd</td>\n",
       "      <td>7012</td>\n",
       "      <td>23082700</td>\n",
       "      <td>1</td>\n",
       "      <td>VN&gt;44</td>\n",
       "      <td>2</td>\n",
       "    </tr>\n",
       "    <tr>\n",
       "      <th>4</th>\n",
       "      <td>cf566213938074</td>\n",
       "      <td>7012</td>\n",
       "      <td>59916025</td>\n",
       "      <td>1</td>\n",
       "      <td>CA&gt;ON</td>\n",
       "      <td>2</td>\n",
       "    </tr>\n",
       "  </tbody>\n",
       "</table>\n",
       "</div>"
      ],
      "text/plain": [
       "             uuid  document_id  timestamp  platform geo_location  \\\n",
       "0  5fe4adf60dce62         7012   42055742         1        CA>ON   \n",
       "1  6bb8e6792f606d         7012   19864732         3        AU>02   \n",
       "2  bfd545d2d62900         7012   10865117         1        AU>02   \n",
       "3  e1defdc3f432cd         7012   23082700         1        VN>44   \n",
       "4  cf566213938074         7012   59916025         1        CA>ON   \n",
       "\n",
       "   traffic_source  \n",
       "0               1  \n",
       "1               2  \n",
       "2               2  \n",
       "3               2  \n",
       "4               2  "
      ]
     },
     "execution_count": 9,
     "metadata": {},
     "output_type": "execute_result"
    }
   ],
   "source": [
    "page_views.head()"
   ]
  },
  {
   "cell_type": "code",
   "execution_count": 10,
   "metadata": {
    "collapsed": false
   },
   "outputs": [
    {
     "data": {
      "text/html": [
       "<div>\n",
       "<table border=\"1\" class=\"dataframe\">\n",
       "  <thead>\n",
       "    <tr style=\"text-align: right;\">\n",
       "      <th></th>\n",
       "      <th>ad_id</th>\n",
       "      <th>document_id</th>\n",
       "      <th>campaign_id</th>\n",
       "      <th>advertiser_id</th>\n",
       "    </tr>\n",
       "  </thead>\n",
       "  <tbody>\n",
       "    <tr>\n",
       "      <th>0</th>\n",
       "      <td>2</td>\n",
       "      <td>471467</td>\n",
       "      <td>2</td>\n",
       "      <td>7</td>\n",
       "    </tr>\n",
       "    <tr>\n",
       "      <th>1</th>\n",
       "      <td>3</td>\n",
       "      <td>7692</td>\n",
       "      <td>3</td>\n",
       "      <td>7</td>\n",
       "    </tr>\n",
       "    <tr>\n",
       "      <th>2</th>\n",
       "      <td>4</td>\n",
       "      <td>471471</td>\n",
       "      <td>2</td>\n",
       "      <td>7</td>\n",
       "    </tr>\n",
       "    <tr>\n",
       "      <th>3</th>\n",
       "      <td>7</td>\n",
       "      <td>12808</td>\n",
       "      <td>1</td>\n",
       "      <td>7</td>\n",
       "    </tr>\n",
       "    <tr>\n",
       "      <th>4</th>\n",
       "      <td>8</td>\n",
       "      <td>471477</td>\n",
       "      <td>2</td>\n",
       "      <td>7</td>\n",
       "    </tr>\n",
       "  </tbody>\n",
       "</table>\n",
       "</div>"
      ],
      "text/plain": [
       "   ad_id  document_id  campaign_id  advertiser_id\n",
       "0      2       471467            2              7\n",
       "1      3         7692            3              7\n",
       "2      4       471471            2              7\n",
       "3      7        12808            1              7\n",
       "4      8       471477            2              7"
      ]
     },
     "execution_count": 10,
     "metadata": {},
     "output_type": "execute_result"
    }
   ],
   "source": [
    "promoted.head()"
   ]
  },
  {
   "cell_type": "code",
   "execution_count": 11,
   "metadata": {
    "collapsed": false
   },
   "outputs": [
    {
     "data": {
      "text/html": [
       "<div>\n",
       "<table border=\"1\" class=\"dataframe\">\n",
       "  <thead>\n",
       "    <tr style=\"text-align: right;\">\n",
       "      <th></th>\n",
       "      <th>country</th>\n",
       "      <th>state</th>\n",
       "      <th>DMA</th>\n",
       "      <th>display_id</th>\n",
       "    </tr>\n",
       "  </thead>\n",
       "  <tbody>\n",
       "    <tr>\n",
       "      <th>0</th>\n",
       "      <td>US</td>\n",
       "      <td>MT</td>\n",
       "      <td>762.0</td>\n",
       "      <td>7</td>\n",
       "    </tr>\n",
       "    <tr>\n",
       "      <th>1</th>\n",
       "      <td>US</td>\n",
       "      <td>NM</td>\n",
       "      <td>790.0</td>\n",
       "      <td>106</td>\n",
       "    </tr>\n",
       "    <tr>\n",
       "      <th>2</th>\n",
       "      <td>US</td>\n",
       "      <td>NaN</td>\n",
       "      <td>NaN</td>\n",
       "      <td>107</td>\n",
       "    </tr>\n",
       "    <tr>\n",
       "      <th>3</th>\n",
       "      <td>CA</td>\n",
       "      <td>NS</td>\n",
       "      <td>NaN</td>\n",
       "      <td>146</td>\n",
       "    </tr>\n",
       "    <tr>\n",
       "      <th>4</th>\n",
       "      <td>US</td>\n",
       "      <td>TN</td>\n",
       "      <td>640.0</td>\n",
       "      <td>170</td>\n",
       "    </tr>\n",
       "  </tbody>\n",
       "</table>\n",
       "</div>"
      ],
      "text/plain": [
       "  country state    DMA  display_id\n",
       "0      US    MT  762.0           7\n",
       "1      US    NM  790.0         106\n",
       "2      US   NaN    NaN         107\n",
       "3      CA    NS    NaN         146\n",
       "4      US    TN  640.0         170"
      ]
     },
     "execution_count": 11,
     "metadata": {},
     "output_type": "execute_result"
    }
   ],
   "source": [
    "display_geo.head()"
   ]
  },
  {
   "cell_type": "code",
   "execution_count": 12,
   "metadata": {
    "collapsed": false,
    "scrolled": true
   },
   "outputs": [
    {
     "data": {
      "text/html": [
       "<div>\n",
       "<table border=\"1\" class=\"dataframe\">\n",
       "  <thead>\n",
       "    <tr style=\"text-align: right;\">\n",
       "      <th></th>\n",
       "      <th>display_id</th>\n",
       "      <th>ad_id</th>\n",
       "      <th>clicked</th>\n",
       "      <th>document_id_x</th>\n",
       "      <th>click_tstamp</th>\n",
       "      <th>is_morning</th>\n",
       "      <th>is_noon</th>\n",
       "      <th>is_afternoon</th>\n",
       "      <th>is_evening</th>\n",
       "      <th>is_night</th>\n",
       "      <th>...</th>\n",
       "      <th>document_id_y</th>\n",
       "      <th>clicks_appearances_ratio</th>\n",
       "      <th>country_is_US</th>\n",
       "      <th>country_is_GB</th>\n",
       "      <th>country_is_CA</th>\n",
       "      <th>country_is_AU</th>\n",
       "      <th>topic_sim</th>\n",
       "      <th>entities_sim</th>\n",
       "      <th>categories_sim</th>\n",
       "      <th>topic_popularity_conf</th>\n",
       "    </tr>\n",
       "  </thead>\n",
       "  <tbody>\n",
       "    <tr>\n",
       "      <th>0</th>\n",
       "      <td>7</td>\n",
       "      <td>105766</td>\n",
       "      <td>1</td>\n",
       "      <td>1149661</td>\n",
       "      <td>1465876800</td>\n",
       "      <td>0.0</td>\n",
       "      <td>0.0</td>\n",
       "      <td>0.0</td>\n",
       "      <td>1.0</td>\n",
       "      <td>0.0</td>\n",
       "      <td>...</td>\n",
       "      <td>1151028</td>\n",
       "      <td>0.070000</td>\n",
       "      <td>1</td>\n",
       "      <td>0</td>\n",
       "      <td>0</td>\n",
       "      <td>0</td>\n",
       "      <td>0.008674</td>\n",
       "      <td>0.0</td>\n",
       "      <td>0.000000</td>\n",
       "      <td>3.117834</td>\n",
       "    </tr>\n",
       "    <tr>\n",
       "      <th>1</th>\n",
       "      <td>7</td>\n",
       "      <td>215967</td>\n",
       "      <td>0</td>\n",
       "      <td>1149661</td>\n",
       "      <td>1465876800</td>\n",
       "      <td>0.0</td>\n",
       "      <td>0.0</td>\n",
       "      <td>0.0</td>\n",
       "      <td>1.0</td>\n",
       "      <td>0.0</td>\n",
       "      <td>...</td>\n",
       "      <td>1445187</td>\n",
       "      <td>0.108911</td>\n",
       "      <td>1</td>\n",
       "      <td>0</td>\n",
       "      <td>0</td>\n",
       "      <td>0</td>\n",
       "      <td>0.000000</td>\n",
       "      <td>0.0</td>\n",
       "      <td>0.000000</td>\n",
       "      <td>7.203284</td>\n",
       "    </tr>\n",
       "    <tr>\n",
       "      <th>2</th>\n",
       "      <td>7</td>\n",
       "      <td>300808</td>\n",
       "      <td>0</td>\n",
       "      <td>1149661</td>\n",
       "      <td>1465876800</td>\n",
       "      <td>0.0</td>\n",
       "      <td>0.0</td>\n",
       "      <td>0.0</td>\n",
       "      <td>1.0</td>\n",
       "      <td>0.0</td>\n",
       "      <td>...</td>\n",
       "      <td>1701364</td>\n",
       "      <td>0.000000</td>\n",
       "      <td>1</td>\n",
       "      <td>0</td>\n",
       "      <td>0</td>\n",
       "      <td>0</td>\n",
       "      <td>0.002026</td>\n",
       "      <td>0.0</td>\n",
       "      <td>0.601944</td>\n",
       "      <td>1.457441</td>\n",
       "    </tr>\n",
       "    <tr>\n",
       "      <th>3</th>\n",
       "      <td>106</td>\n",
       "      <td>14120</td>\n",
       "      <td>0</td>\n",
       "      <td>1788531</td>\n",
       "      <td>1465876807</td>\n",
       "      <td>0.0</td>\n",
       "      <td>0.0</td>\n",
       "      <td>0.0</td>\n",
       "      <td>1.0</td>\n",
       "      <td>0.0</td>\n",
       "      <td>...</td>\n",
       "      <td>700394</td>\n",
       "      <td>0.224138</td>\n",
       "      <td>1</td>\n",
       "      <td>0</td>\n",
       "      <td>0</td>\n",
       "      <td>0</td>\n",
       "      <td>0.000000</td>\n",
       "      <td>0.0</td>\n",
       "      <td>0.000000</td>\n",
       "      <td>6.581212</td>\n",
       "    </tr>\n",
       "    <tr>\n",
       "      <th>4</th>\n",
       "      <td>106</td>\n",
       "      <td>39897</td>\n",
       "      <td>0</td>\n",
       "      <td>1788531</td>\n",
       "      <td>1465876807</td>\n",
       "      <td>0.0</td>\n",
       "      <td>0.0</td>\n",
       "      <td>0.0</td>\n",
       "      <td>1.0</td>\n",
       "      <td>0.0</td>\n",
       "      <td>...</td>\n",
       "      <td>900154</td>\n",
       "      <td>0.224090</td>\n",
       "      <td>1</td>\n",
       "      <td>0</td>\n",
       "      <td>0</td>\n",
       "      <td>0</td>\n",
       "      <td>0.000000</td>\n",
       "      <td>0.0</td>\n",
       "      <td>0.000000</td>\n",
       "      <td>2.536574</td>\n",
       "    </tr>\n",
       "  </tbody>\n",
       "</table>\n",
       "<p>5 rows × 27 columns</p>\n",
       "</div>"
      ],
      "text/plain": [
       "   display_id   ad_id  clicked  document_id_x  click_tstamp  is_morning  \\\n",
       "0           7  105766        1        1149661    1465876800         0.0   \n",
       "1           7  215967        0        1149661    1465876800         0.0   \n",
       "2           7  300808        0        1149661    1465876800         0.0   \n",
       "3         106   14120        0        1788531    1465876807         0.0   \n",
       "4         106   39897        0        1788531    1465876807         0.0   \n",
       "\n",
       "   is_noon  is_afternoon  is_evening  is_night          ...            \\\n",
       "0      0.0           0.0         1.0       0.0          ...             \n",
       "1      0.0           0.0         1.0       0.0          ...             \n",
       "2      0.0           0.0         1.0       0.0          ...             \n",
       "3      0.0           0.0         1.0       0.0          ...             \n",
       "4      0.0           0.0         1.0       0.0          ...             \n",
       "\n",
       "   document_id_y  clicks_appearances_ratio  country_is_US  country_is_GB  \\\n",
       "0        1151028                  0.070000              1              0   \n",
       "1        1445187                  0.108911              1              0   \n",
       "2        1701364                  0.000000              1              0   \n",
       "3         700394                  0.224138              1              0   \n",
       "4         900154                  0.224090              1              0   \n",
       "\n",
       "   country_is_CA  country_is_AU  topic_sim  entities_sim  categories_sim  \\\n",
       "0              0              0   0.008674           0.0        0.000000   \n",
       "1              0              0   0.000000           0.0        0.000000   \n",
       "2              0              0   0.002026           0.0        0.601944   \n",
       "3              0              0   0.000000           0.0        0.000000   \n",
       "4              0              0   0.000000           0.0        0.000000   \n",
       "\n",
       "   topic_popularity_conf  \n",
       "0               3.117834  \n",
       "1               7.203284  \n",
       "2               1.457441  \n",
       "3               6.581212  \n",
       "4               2.536574  \n",
       "\n",
       "[5 rows x 27 columns]"
      ]
     },
     "execution_count": 12,
     "metadata": {},
     "output_type": "execute_result"
    }
   ],
   "source": [
    "# This is the complete dataset. It was made in advance and is presented here for convenience.\n",
    "# Yet, along the notebook we recreate it as part of the work flow.\n",
    "# More information about Doc_id_x and Doc_id_y - in the documentation.\n",
    "dataset.head()"
   ]
  },
  {
   "cell_type": "markdown",
   "metadata": {},
   "source": [
    "### Preparing the main dataset"
   ]
  },
  {
   "cell_type": "code",
   "execution_count": 13,
   "metadata": {
    "collapsed": false
   },
   "outputs": [
    {
     "data": {
      "text/html": [
       "<div>\n",
       "<table border=\"1\" class=\"dataframe\">\n",
       "  <thead>\n",
       "    <tr style=\"text-align: right;\">\n",
       "      <th></th>\n",
       "      <th>display_id</th>\n",
       "      <th>ad_id</th>\n",
       "      <th>clicked</th>\n",
       "      <th>document_id_x</th>\n",
       "      <th>document_id_y</th>\n",
       "      <th>click_tstamp</th>\n",
       "    </tr>\n",
       "  </thead>\n",
       "  <tbody>\n",
       "    <tr>\n",
       "      <th>0</th>\n",
       "      <td>7</td>\n",
       "      <td>105766</td>\n",
       "      <td>1</td>\n",
       "      <td>1149661</td>\n",
       "      <td>1151028</td>\n",
       "      <td>1465876800</td>\n",
       "    </tr>\n",
       "    <tr>\n",
       "      <th>1</th>\n",
       "      <td>7</td>\n",
       "      <td>215967</td>\n",
       "      <td>0</td>\n",
       "      <td>1149661</td>\n",
       "      <td>1445187</td>\n",
       "      <td>1465876800</td>\n",
       "    </tr>\n",
       "    <tr>\n",
       "      <th>2</th>\n",
       "      <td>7</td>\n",
       "      <td>300808</td>\n",
       "      <td>0</td>\n",
       "      <td>1149661</td>\n",
       "      <td>1701364</td>\n",
       "      <td>1465876800</td>\n",
       "    </tr>\n",
       "    <tr>\n",
       "      <th>3</th>\n",
       "      <td>106</td>\n",
       "      <td>14120</td>\n",
       "      <td>0</td>\n",
       "      <td>1788531</td>\n",
       "      <td>700394</td>\n",
       "      <td>1465876807</td>\n",
       "    </tr>\n",
       "    <tr>\n",
       "      <th>4</th>\n",
       "      <td>106</td>\n",
       "      <td>39897</td>\n",
       "      <td>0</td>\n",
       "      <td>1788531</td>\n",
       "      <td>900154</td>\n",
       "      <td>1465876807</td>\n",
       "    </tr>\n",
       "  </tbody>\n",
       "</table>\n",
       "</div>"
      ],
      "text/plain": [
       "   display_id   ad_id  clicked  document_id_x  document_id_y  click_tstamp\n",
       "0           7  105766        1        1149661        1151028    1465876800\n",
       "1           7  215967        0        1149661        1445187    1465876800\n",
       "2           7  300808        0        1149661        1701364    1465876800\n",
       "3         106   14120        0        1788531         700394    1465876807\n",
       "4         106   39897        0        1788531         900154    1465876807"
      ]
     },
     "execution_count": 13,
     "metadata": {},
     "output_type": "execute_result"
    }
   ],
   "source": [
    "# This dataset will be built along the run of the notebook, for demonstration\n",
    "# and \"proof of concept\" reasons.\n",
    "b_dataset = dataset[[\"display_id\",\"ad_id\",\"clicked\",\"document_id_x\",\"document_id_y\",'click_tstamp']]\n",
    "b_dataset.head()"
   ]
  },
  {
   "cell_type": "markdown",
   "metadata": {},
   "source": [
    "# Data Preparation"
   ]
  },
  {
   "cell_type": "markdown",
   "metadata": {},
   "source": [
    "One of the main challenges we faced was deciding how to integrate the many tables contained in the data set to one comprehensive table on which we can run our models. It took us a while to understand the connections between them, and the meanings of the various features contained in each of them. Null values were an issue, but eventually we managed to construct features only based on columns which had no or very few null values. Over the next section, detailing feature extraction, we will show whre this was relevant, and how we dealt with it. "
   ]
  },
  {
   "cell_type": "markdown",
   "metadata": {
    "collapsed": true
   },
   "source": [
    "# Feature Extraction"
   ]
  },
  {
   "cell_type": "markdown",
   "metadata": {},
   "source": [
    "## Similarities - Do users tend to click on similiar documents?"
   ]
  },
  {
   "cell_type": "markdown",
   "metadata": {},
   "source": [
    "Our first idea was very intuitive. We were wondering if users tend to click on ads that are closely related to the topic of the article they just read. Later we expanded this idea for entities and categories as well."
   ]
  },
  {
   "cell_type": "code",
   "execution_count": 16,
   "metadata": {
    "collapsed": true
   },
   "outputs": [],
   "source": [
    "# Multi-purpose function used to extract similarity metrics for document topics, entities and categories\n",
    "def find_similarity(table, doc_out, doc_in, field):\n",
    "    # Extracting all data relevant to doc_out\n",
    "    out_frame = table[table.document_id == doc_out]\n",
    "    out_items = np.array(out_frame[field])\n",
    "    out_conf = np.array(out_frame.confidence_level)\n",
    "\n",
    "    # Extracting all data relevant to doc_in\n",
    "    in_frame = table[table.document_id == doc_in]\n",
    "    in_items = np.array(in_frame[field])\n",
    "    in_conf = np.array(in_frame.confidence_level)\n",
    "\n",
    "    # Computing requested similarity by multiplying conf levels of shared topics/entities/categories\n",
    "    similarity = 0\n",
    "    for out_index in range(len(out_items)):\n",
    "        item = out_items[out_index]\n",
    "        if item in in_items:\n",
    "            in_index = np.argwhere(in_items == item)[0][0]\n",
    "            s1 = out_conf[out_index]\n",
    "            s2 = in_conf[in_index]\n",
    "            similarity += s1*s2\n",
    "    return similarity"
   ]
  },
  {
   "cell_type": "markdown",
   "metadata": {},
   "source": [
    "WARNING! Running this code takes about 7 hours."
   ]
  },
  {
   "cell_type": "code",
   "execution_count": 17,
   "metadata": {
    "collapsed": false
   },
   "outputs": [
    {
     "data": {
      "text/html": [
       "<div>\n",
       "<table border=\"1\" class=\"dataframe\">\n",
       "  <thead>\n",
       "    <tr style=\"text-align: right;\">\n",
       "      <th></th>\n",
       "      <th>topic_sim</th>\n",
       "      <th>entities_sim</th>\n",
       "      <th>categories_sim</th>\n",
       "    </tr>\n",
       "  </thead>\n",
       "  <tbody>\n",
       "    <tr>\n",
       "      <th>0</th>\n",
       "      <td>0.008674</td>\n",
       "      <td>0.0</td>\n",
       "      <td>0.000000</td>\n",
       "    </tr>\n",
       "    <tr>\n",
       "      <th>1</th>\n",
       "      <td>0.000000</td>\n",
       "      <td>0.0</td>\n",
       "      <td>0.000000</td>\n",
       "    </tr>\n",
       "    <tr>\n",
       "      <th>2</th>\n",
       "      <td>0.002026</td>\n",
       "      <td>0.0</td>\n",
       "      <td>0.601944</td>\n",
       "    </tr>\n",
       "    <tr>\n",
       "      <th>3</th>\n",
       "      <td>0.000000</td>\n",
       "      <td>0.0</td>\n",
       "      <td>0.000000</td>\n",
       "    </tr>\n",
       "    <tr>\n",
       "      <th>4</th>\n",
       "      <td>0.000000</td>\n",
       "      <td>0.0</td>\n",
       "      <td>0.000000</td>\n",
       "    </tr>\n",
       "  </tbody>\n",
       "</table>\n",
       "</div>"
      ],
      "text/plain": [
       "   topic_sim  entities_sim  categories_sim\n",
       "0   0.008674           0.0        0.000000\n",
       "1   0.000000           0.0        0.000000\n",
       "2   0.002026           0.0        0.601944\n",
       "3   0.000000           0.0        0.000000\n",
       "4   0.000000           0.0        0.000000"
      ]
     },
     "execution_count": 17,
     "metadata": {},
     "output_type": "execute_result"
    }
   ],
   "source": [
    "compute_similarities = False\n",
    "\n",
    "if compute_similarities:\n",
    "    n = len(b_dataset)\n",
    "    topic_similarities = np.zeros(n)\n",
    "    entities_similarities = np.zeros(n)\n",
    "    categories_similarities = np.zeros(n)\n",
    "    counter = 0\n",
    "\n",
    "    # Runs on each row in the data set and calculates it's similarity\n",
    "    for row in b_dataset.itertuples():\n",
    "        if not counter % n/100:\n",
    "            print(\"Adding similarity features: passed through \" + (str(round(counter * 100 / n))) + \"% of rows\")\n",
    "        doc_out = row.document_id_x\n",
    "        doc_in = row.document_id_y\n",
    "\n",
    "        topic_similarity = find_similarity(doc_topics, doc_out, doc_in, \"topic_id\")\n",
    "        topic_similarities[counter] = topic_similarity\n",
    "\n",
    "        categories_similarity = find_similarity(doc_categories, doc_out, doc_in, \"category_id\")\n",
    "        categories_similarities[counter] = categories_similarity\n",
    "\n",
    "        entities_similarity = find_similarity(doc_entities, doc_out, doc_in, \"entity_id\")\n",
    "        entities_similarities[counter] = entities_similarity\n",
    "\n",
    "        counter += 1\n",
    "\n",
    "    # Creating the final table\n",
    "    similarities[\"topic_sim\"] = topic_similarities\n",
    "    similarities[\"entities_sim\"] = entities_similarities\n",
    "    similarities[\"categories_sim\"] = categories_similarities\n",
    "\n",
    "else:\n",
    "    similarities = dataset[['topic_sim','entities_sim','categories_sim']]\n",
    "    \n",
    "similarities.head()"
   ]
  },
  {
   "cell_type": "code",
   "execution_count": 16,
   "metadata": {
    "collapsed": false
   },
   "outputs": [
    {
     "data": {
      "text/html": [
       "<div>\n",
       "<table border=\"1\" class=\"dataframe\">\n",
       "  <thead>\n",
       "    <tr style=\"text-align: right;\">\n",
       "      <th></th>\n",
       "      <th>display_id</th>\n",
       "      <th>ad_id</th>\n",
       "      <th>clicked</th>\n",
       "      <th>document_id_x</th>\n",
       "      <th>document_id_y</th>\n",
       "      <th>click_tstamp</th>\n",
       "      <th>topic_sim</th>\n",
       "      <th>entities_sim</th>\n",
       "      <th>categories_sim</th>\n",
       "    </tr>\n",
       "  </thead>\n",
       "  <tbody>\n",
       "    <tr>\n",
       "      <th>0</th>\n",
       "      <td>7</td>\n",
       "      <td>105766</td>\n",
       "      <td>1</td>\n",
       "      <td>1149661</td>\n",
       "      <td>1151028</td>\n",
       "      <td>1465876800</td>\n",
       "      <td>0.008674</td>\n",
       "      <td>0.0</td>\n",
       "      <td>0.000000</td>\n",
       "    </tr>\n",
       "    <tr>\n",
       "      <th>1</th>\n",
       "      <td>7</td>\n",
       "      <td>215967</td>\n",
       "      <td>0</td>\n",
       "      <td>1149661</td>\n",
       "      <td>1445187</td>\n",
       "      <td>1465876800</td>\n",
       "      <td>0.000000</td>\n",
       "      <td>0.0</td>\n",
       "      <td>0.000000</td>\n",
       "    </tr>\n",
       "    <tr>\n",
       "      <th>2</th>\n",
       "      <td>7</td>\n",
       "      <td>300808</td>\n",
       "      <td>0</td>\n",
       "      <td>1149661</td>\n",
       "      <td>1701364</td>\n",
       "      <td>1465876800</td>\n",
       "      <td>0.002026</td>\n",
       "      <td>0.0</td>\n",
       "      <td>0.601944</td>\n",
       "    </tr>\n",
       "    <tr>\n",
       "      <th>3</th>\n",
       "      <td>106</td>\n",
       "      <td>14120</td>\n",
       "      <td>0</td>\n",
       "      <td>1788531</td>\n",
       "      <td>700394</td>\n",
       "      <td>1465876807</td>\n",
       "      <td>0.000000</td>\n",
       "      <td>0.0</td>\n",
       "      <td>0.000000</td>\n",
       "    </tr>\n",
       "    <tr>\n",
       "      <th>4</th>\n",
       "      <td>106</td>\n",
       "      <td>39897</td>\n",
       "      <td>0</td>\n",
       "      <td>1788531</td>\n",
       "      <td>900154</td>\n",
       "      <td>1465876807</td>\n",
       "      <td>0.000000</td>\n",
       "      <td>0.0</td>\n",
       "      <td>0.000000</td>\n",
       "    </tr>\n",
       "  </tbody>\n",
       "</table>\n",
       "</div>"
      ],
      "text/plain": [
       "   display_id   ad_id  clicked  document_id_x  document_id_y  click_tstamp  \\\n",
       "0           7  105766        1        1149661        1151028    1465876800   \n",
       "1           7  215967        0        1149661        1445187    1465876800   \n",
       "2           7  300808        0        1149661        1701364    1465876800   \n",
       "3         106   14120        0        1788531         700394    1465876807   \n",
       "4         106   39897        0        1788531         900154    1465876807   \n",
       "\n",
       "   topic_sim  entities_sim  categories_sim  \n",
       "0   0.008674           0.0        0.000000  \n",
       "1   0.000000           0.0        0.000000  \n",
       "2   0.002026           0.0        0.601944  \n",
       "3   0.000000           0.0        0.000000  \n",
       "4   0.000000           0.0        0.000000  "
      ]
     },
     "execution_count": 16,
     "metadata": {},
     "output_type": "execute_result"
    }
   ],
   "source": [
    "b_dataset = pd.concat((b_dataset, similarities), axis=1)\n",
    "b_dataset.head()"
   ]
  },
  {
   "cell_type": "markdown",
   "metadata": {},
   "source": [
    "The following bar charts presents the relevance of each element similarity to most of the data, and how effective it is when it exists."
   ]
  },
  {
   "cell_type": "code",
   "execution_count": 18,
   "metadata": {
    "collapsed": false
   },
   "outputs": [
    {
     "data": {
      "image/png": "[encoded data removed]",
      "text/plain": [
       "<matplotlib.figure.Figure at 0x191ea192c18>"
      ]
     },
     "metadata": {},
     "output_type": "display_data"
    }
   ],
   "source": [
    "create_similarity_histograms(dataset,1000,\"topic_sim\",\"Topics\")"
   ]
  },
  {
   "cell_type": "code",
   "execution_count": 19,
   "metadata": {
    "collapsed": false
   },
   "outputs": [
    {
     "data": {
      "image/png": "[encoded data removed]",
      "text/plain": [
       "<matplotlib.figure.Figure at 0x191800755f8>"
      ]
     },
     "metadata": {},
     "output_type": "display_data"
    }
   ],
   "source": [
    "create_similarity_histograms(dataset,1000,\"entities_sim\",\"Entities\")"
   ]
  },
  {
   "cell_type": "code",
   "execution_count": 20,
   "metadata": {
    "collapsed": false
   },
   "outputs": [
    {
     "data": {
      "image/png": "[encoded data removed]",
      "text/plain": [
       "<matplotlib.figure.Figure at 0x19181e50cc0>"
      ]
     },
     "metadata": {},
     "output_type": "display_data"
    }
   ],
   "source": [
    "create_similarity_histograms(dataset,100,\"categories_sim\",\"Categories\")"
   ]
  },
  {
   "cell_type": "markdown",
   "metadata": {},
   "source": [
    "## First Attempt: Logistic Regression with Similarity Features"
   ]
  },
  {
   "cell_type": "markdown",
   "metadata": {},
   "source": [
    "Now, after having the similarity features, we ran our first modeling attempt, using Logistic Regression.\n",
    "But first, let's see how we evaluate our models."
   ]
  },
  {
   "cell_type": "markdown",
   "metadata": {},
   "source": [
    "### Evaluating our Models"
   ]
  },
  {
   "cell_type": "markdown",
   "metadata": {},
   "source": [
    "Just like in the competition, we use the MAP@12 metric to evaluate our models, as well as ordinary 0/1 loss. Further details can be found in the documentation. "
   ]
  },
  {
   "cell_type": "code",
   "execution_count": 21,
   "metadata": {
    "collapsed": true
   },
   "outputs": [],
   "source": [
    "def MAP12_Accuracy(test_data):\n",
    "    print(\"Now calculating MAP@12 accuracy, should take about 5 minutes\")\n",
    "    test_displays = test_data.display_id.unique()\n",
    "    acc_counter = 0\n",
    "    counter = 0\n",
    "    for display in test_displays:\n",
    "        display_df = test_data[test_data.display_id == display]\n",
    "        true_ad = np.array(display_df[display_df.clicked == 1][[\"ad_id\"]])[0][0]\n",
    "        \n",
    "        # Sorting ads according to predicted click probability\n",
    "        display_probs = np.array(display_df.probability_of_click)\n",
    "        ads = np.array(display_df.ad_id)\n",
    "        idx_sorted = display_probs.argsort()[::-1]\n",
    "        ads_sorted = ads[idx_sorted]\n",
    "        \n",
    "        # Finding index of true ad in the array\n",
    "        idx_true = np.argwhere(ads_sorted == true_ad)[0][0] + 1\n",
    "        acc_counter += 1 / idx_true\n",
    "        counter += 1\n",
    "\n",
    "    accuracy_map = acc_counter / len(test_displays)\n",
    "    return accuracy_map"
   ]
  },
  {
   "cell_type": "markdown",
   "metadata": {},
   "source": [
    "Running the model:"
   ]
  },
  {
   "cell_type": "code",
   "execution_count": 22,
   "metadata": {
    "collapsed": false
   },
   "outputs": [],
   "source": [
    "def one_model_analysis(dataset,features,features_to_scale,model,models_name):\n",
    "    for feature in features_to_scale:\n",
    "        dataset[feature] = dataset[feature].astype(float)\n",
    "        dataset[feature] = sklearn.preprocessing.scale(dataset[feature])\n",
    "\n",
    "    # Splitting to train (80%) and test (20%) sets\n",
    "    train_data, test_data = split_to_test_and_train(dataset)\n",
    "\n",
    "    train_features_list = [train_data[feature] for feature in features]\n",
    "    test_features_list = [test_data[feature] for feature in features]\n",
    "\n",
    "    # Extracting X and y vectors for train and test\n",
    "    train_points, train_labels = prepare_dataset_for_model(train_features_list, train_data.clicked)\n",
    "    test_points, test_labels = prepare_dataset_for_model(test_features_list, test_data.clicked)\n",
    "\n",
    "    model.fit(train_points, train_labels)\n",
    "\n",
    "    display_probs = model.predict_proba(test_points)[:, 1]\n",
    "    test_data[\"probability_of_click\"] = display_probs\n",
    "\n",
    "    # Evaluating the model using 0/1 loss\n",
    "    zero_one_accuracy = accuracy_zero_one_loss(test_data)\n",
    "    print(\"0/1 Accuracy for \"+models_name+\" Model: \" + str(zero_one_accuracy))\n",
    "\n",
    "    # Evaluating the model using MAP@12 metric\n",
    "    map12_accuracy = MAP12_Accuracy(test_data)\n",
    "    print(\"MAP@12 Accuracy for \"+models_name+\" Model: \" + str(map12_accuracy))"
   ]
  },
  {
   "cell_type": "markdown",
   "metadata": {},
   "source": [
    "Let's see how far that got us:"
   ]
  },
  {
   "cell_type": "code",
   "execution_count": 23,
   "metadata": {
    "collapsed": false
   },
   "outputs": [
    {
     "name": "stdout",
     "output_type": "stream",
     "text": [
      "0/1 Accuracy for Logistic Regression Model: 0.260644708249\n",
      "Now calculating MAP@12 accuracy, should take about 5 minutes\n",
      "MAP@12 Accuracy for Logistic Regression Model: 0.501692210549\n"
     ]
    }
   ],
   "source": [
    "# Running Logistic Regression on the similarity features:\n",
    "model = sklearn.linear_model.LogisticRegression()\n",
    "features = [\"topic_sim\", \"entities_sim\", \"categories_sim\"]\n",
    "one_model_analysis(dataset, features, features, model,\"Logistic Regression\")"
   ]
  },
  {
   "cell_type": "markdown",
   "metadata": {},
   "source": [
    "This was obviously far from good, as even simple single-feature models could acheive much better results (see documentation and appendix). At this point we came to the realisation we needed a lot more features - so we spent a sizeable amount of time thinking about and generating all the features mentioned above."
   ]
  },
  {
   "cell_type": "markdown",
   "metadata": {},
   "source": [
    "## The Search Continues - Extracting More Features"
   ]
  },
  {
   "cell_type": "markdown",
   "metadata": {},
   "source": [
    "### Click Time"
   ]
  },
  {
   "cell_type": "markdown",
   "metadata": {},
   "source": [
    "It's reasonable to assume that people tend to click different ads when surfing at different times of day, so we wanted to factor the time each click happened into the model. The click timestamps provided were all UTC, so they didn't account for timezone differences between countries. Fortunately for us, some countries appear in the data a lot more than others. Let's take a look:"
   ]
  },
  {
   "cell_type": "code",
   "execution_count": 24,
   "metadata": {
    "collapsed": false
   },
   "outputs": [
    {
     "data": {
      "image/png": "[encoded data removed]",
      "text/plain": [
       "<matplotlib.figure.Figure at 0x191820dae48>"
      ]
     },
     "metadata": {},
     "output_type": "display_data"
    }
   ],
   "source": [
    "create_countries_pie_chart(display_geo,500)"
   ]
  },
  {
   "cell_type": "markdown",
   "metadata": {},
   "source": [
    "Four countries stand out: United States, Canada, Great Britain and Australia. Let's see just how much of the data originates from one of these countries:"
   ]
  },
  {
   "cell_type": "code",
   "execution_count": 25,
   "metadata": {
    "collapsed": false
   },
   "outputs": [
    {
     "data": {
      "text/plain": [
       "0.92623302141927844"
      ]
     },
     "execution_count": 25,
     "metadata": {},
     "output_type": "execute_result"
    }
   ],
   "source": [
    "display_geo.head()\n",
    "countries_with_counts = np.unique(display_geo.country.astype(str), return_counts=True)\n",
    "\n",
    "countries = countries_with_counts[0]\n",
    "counts = countries_with_counts[1]\n",
    "srt_idx = counts.argsort()[::-1]\n",
    "\n",
    "countries = countries[srt_idx]\n",
    "counts = counts[srt_idx]\n",
    "\n",
    "top_4 = counts[:4]\n",
    "float(sum(top_4)) / sum(counts)"
   ]
  },
  {
   "cell_type": "markdown",
   "metadata": {},
   "source": [
    "Over 92% of the data is from one of those four countries, so we thought it's reasonable to apply timezone corrections only for events which originated from one of them (further details can be found in the documentation.\n",
    "\n",
    "Finally, in order to input this factor into the model, we chose to \"bin\" each click event to one of 5 bins, based on its (timezone corrected) timestamp (more details in documentation):"
   ]
  },
  {
   "cell_type": "code",
   "execution_count": 26,
   "metadata": {
    "collapsed": false
   },
   "outputs": [
    {
     "data": {
      "text/html": [
       "<div>\n",
       "<table border=\"1\" class=\"dataframe\">\n",
       "  <thead>\n",
       "    <tr style=\"text-align: right;\">\n",
       "      <th></th>\n",
       "      <th>display_id</th>\n",
       "      <th>is_morning</th>\n",
       "      <th>is_noon</th>\n",
       "      <th>is_afternoon</th>\n",
       "      <th>is_evening</th>\n",
       "      <th>is_night</th>\n",
       "    </tr>\n",
       "  </thead>\n",
       "  <tbody>\n",
       "    <tr>\n",
       "      <th>0</th>\n",
       "      <td>7</td>\n",
       "      <td>0.0</td>\n",
       "      <td>0.0</td>\n",
       "      <td>0.0</td>\n",
       "      <td>1.0</td>\n",
       "      <td>0.0</td>\n",
       "    </tr>\n",
       "    <tr>\n",
       "      <th>1</th>\n",
       "      <td>106</td>\n",
       "      <td>0.0</td>\n",
       "      <td>0.0</td>\n",
       "      <td>0.0</td>\n",
       "      <td>1.0</td>\n",
       "      <td>0.0</td>\n",
       "    </tr>\n",
       "    <tr>\n",
       "      <th>2</th>\n",
       "      <td>107</td>\n",
       "      <td>0.0</td>\n",
       "      <td>0.0</td>\n",
       "      <td>0.0</td>\n",
       "      <td>1.0</td>\n",
       "      <td>0.0</td>\n",
       "    </tr>\n",
       "    <tr>\n",
       "      <th>3</th>\n",
       "      <td>146</td>\n",
       "      <td>0.0</td>\n",
       "      <td>0.0</td>\n",
       "      <td>0.0</td>\n",
       "      <td>1.0</td>\n",
       "      <td>0.0</td>\n",
       "    </tr>\n",
       "    <tr>\n",
       "      <th>4</th>\n",
       "      <td>170</td>\n",
       "      <td>0.0</td>\n",
       "      <td>0.0</td>\n",
       "      <td>0.0</td>\n",
       "      <td>1.0</td>\n",
       "      <td>0.0</td>\n",
       "    </tr>\n",
       "  </tbody>\n",
       "</table>\n",
       "</div>"
      ],
      "text/plain": [
       "   display_id  is_morning  is_noon  is_afternoon  is_evening  is_night\n",
       "0           7         0.0      0.0           0.0         1.0       0.0\n",
       "1         106         0.0      0.0           0.0         1.0       0.0\n",
       "2         107         0.0      0.0           0.0         1.0       0.0\n",
       "3         146         0.0      0.0           0.0         1.0       0.0\n",
       "4         170         0.0      0.0           0.0         1.0       0.0"
      ]
     },
     "execution_count": 26,
     "metadata": {},
     "output_type": "execute_result"
    }
   ],
   "source": [
    "working_table = b_dataset.groupby(\"display_id\").first().reset_index()\n",
    "\n",
    "relevant_countries = [\"CA\", \"US\", \"AU\", \"GB\"]\n",
    "\n",
    "click_timestamps = working_table[\"click_tstamp\"]\n",
    "geolocations = events[\"geo_location\"].apply(str) #events contains only relevant displays\n",
    "\n",
    "# Timezone correction for the 4 most common countries in the data\n",
    "localized_hours = []\n",
    "for i in range(len(geolocations)):\n",
    "    country = geolocations[i][:2]\n",
    "    timezone_correction = 0\n",
    "    if country in relevant_countries:\n",
    "        if country == \"GB\":\n",
    "            timezone_correction = 1\n",
    "        elif country == \"CA\" or country == \"US\":\n",
    "            timezone_correction = -5.5\n",
    "        elif country == \"AU\":\n",
    "            timezone_correction = 10.5\n",
    "    timestamp = click_timestamps[i]\n",
    "    as_datetime64 = np.datetime64(int(timestamp), 's')\n",
    "    as_datetime = pd.to_datetime(as_datetime64)\n",
    "    corrected_hour = as_datetime.hour + timezone_correction\n",
    "    if corrected_hour > 23.5:\n",
    "        corrected_hour -= 24\n",
    "    elif corrected_hour < 0:\n",
    "        corrected_hour += 24\n",
    "    localized_hours.append(corrected_hour)\n",
    "\n",
    "\n",
    "# Creating boolean vectors for \"binning\" the hours\n",
    "localized_hours = pd.Series(localized_hours)\n",
    "is_morning = np.zeros(shape=len(working_table))\n",
    "is_noon = np.zeros(shape=len(working_table))\n",
    "is_afternoon = np.zeros(shape=len(working_table))\n",
    "is_evening = np.zeros(shape=len(working_table))\n",
    "is_night = np.zeros(shape=len(working_table))\n",
    "\n",
    "for i in range(len(localized_hours)):\n",
    "    if 7 <= localized_hours[i] < 12:\n",
    "        is_morning[i] = 1\n",
    "    elif 12 <= localized_hours[i] < 16:\n",
    "        is_noon[i] = 1\n",
    "    elif 16 <= localized_hours[i] < 20:\n",
    "        is_afternoon[i] = 1\n",
    "    elif 20 <= localized_hours[i] < 24:\n",
    "        is_evening[i] = 1\n",
    "    elif 0 <= localized_hours[i] < 7:\n",
    "        is_night[i] = 1\n",
    "\n",
    "bin_time = pd.DataFrame()\n",
    "bin_time[\"display_id\"] = working_table[\"display_id\"]\n",
    "bin_time[\"is_morning\"] = is_morning\n",
    "bin_time[\"is_noon\"] = is_noon\n",
    "bin_time[\"is_afternoon\"] = is_afternoon\n",
    "bin_time[\"is_evening\"] = is_evening\n",
    "bin_time[\"is_night\"] = is_night\n",
    "\n",
    "bin_time.head()"
   ]
  },
  {
   "cell_type": "code",
   "execution_count": 27,
   "metadata": {
    "collapsed": false
   },
   "outputs": [
    {
     "data": {
      "text/html": [
       "<div>\n",
       "<table border=\"1\" class=\"dataframe\">\n",
       "  <thead>\n",
       "    <tr style=\"text-align: right;\">\n",
       "      <th></th>\n",
       "      <th>display_id</th>\n",
       "      <th>ad_id</th>\n",
       "      <th>clicked</th>\n",
       "      <th>document_id_x</th>\n",
       "      <th>document_id_y</th>\n",
       "      <th>click_tstamp</th>\n",
       "      <th>is_morning</th>\n",
       "      <th>is_noon</th>\n",
       "      <th>is_afternoon</th>\n",
       "      <th>is_evening</th>\n",
       "      <th>is_night</th>\n",
       "    </tr>\n",
       "  </thead>\n",
       "  <tbody>\n",
       "    <tr>\n",
       "      <th>0</th>\n",
       "      <td>7</td>\n",
       "      <td>105766</td>\n",
       "      <td>1</td>\n",
       "      <td>1149661</td>\n",
       "      <td>1151028</td>\n",
       "      <td>1465876800</td>\n",
       "      <td>0.0</td>\n",
       "      <td>0.0</td>\n",
       "      <td>0.0</td>\n",
       "      <td>1.0</td>\n",
       "      <td>0.0</td>\n",
       "    </tr>\n",
       "    <tr>\n",
       "      <th>1</th>\n",
       "      <td>7</td>\n",
       "      <td>215967</td>\n",
       "      <td>0</td>\n",
       "      <td>1149661</td>\n",
       "      <td>1445187</td>\n",
       "      <td>1465876800</td>\n",
       "      <td>0.0</td>\n",
       "      <td>0.0</td>\n",
       "      <td>0.0</td>\n",
       "      <td>1.0</td>\n",
       "      <td>0.0</td>\n",
       "    </tr>\n",
       "    <tr>\n",
       "      <th>2</th>\n",
       "      <td>7</td>\n",
       "      <td>300808</td>\n",
       "      <td>0</td>\n",
       "      <td>1149661</td>\n",
       "      <td>1701364</td>\n",
       "      <td>1465876800</td>\n",
       "      <td>0.0</td>\n",
       "      <td>0.0</td>\n",
       "      <td>0.0</td>\n",
       "      <td>1.0</td>\n",
       "      <td>0.0</td>\n",
       "    </tr>\n",
       "    <tr>\n",
       "      <th>3</th>\n",
       "      <td>106</td>\n",
       "      <td>14120</td>\n",
       "      <td>0</td>\n",
       "      <td>1788531</td>\n",
       "      <td>700394</td>\n",
       "      <td>1465876807</td>\n",
       "      <td>0.0</td>\n",
       "      <td>0.0</td>\n",
       "      <td>0.0</td>\n",
       "      <td>1.0</td>\n",
       "      <td>0.0</td>\n",
       "    </tr>\n",
       "    <tr>\n",
       "      <th>4</th>\n",
       "      <td>106</td>\n",
       "      <td>39897</td>\n",
       "      <td>0</td>\n",
       "      <td>1788531</td>\n",
       "      <td>900154</td>\n",
       "      <td>1465876807</td>\n",
       "      <td>0.0</td>\n",
       "      <td>0.0</td>\n",
       "      <td>0.0</td>\n",
       "      <td>1.0</td>\n",
       "      <td>0.0</td>\n",
       "    </tr>\n",
       "  </tbody>\n",
       "</table>\n",
       "</div>"
      ],
      "text/plain": [
       "   display_id   ad_id  clicked  document_id_x  document_id_y  click_tstamp  \\\n",
       "0           7  105766        1        1149661        1151028    1465876800   \n",
       "1           7  215967        0        1149661        1445187    1465876800   \n",
       "2           7  300808        0        1149661        1701364    1465876800   \n",
       "3         106   14120        0        1788531         700394    1465876807   \n",
       "4         106   39897        0        1788531         900154    1465876807   \n",
       "\n",
       "   is_morning  is_noon  is_afternoon  is_evening  is_night  \n",
       "0         0.0      0.0           0.0         1.0       0.0  \n",
       "1         0.0      0.0           0.0         1.0       0.0  \n",
       "2         0.0      0.0           0.0         1.0       0.0  \n",
       "3         0.0      0.0           0.0         1.0       0.0  \n",
       "4         0.0      0.0           0.0         1.0       0.0  "
      ]
     },
     "execution_count": 27,
     "metadata": {},
     "output_type": "execute_result"
    }
   ],
   "source": [
    "#adding the new feature to the dataset:\n",
    "b_dataset = b_dataset.merge(bin_time, on=\"display_id\", how=\"left\")\n",
    "b_dataset.head()"
   ]
  },
  {
   "cell_type": "markdown",
   "metadata": {},
   "source": [
    "Let's see how the clicks spread across those bins:"
   ]
  },
  {
   "cell_type": "code",
   "execution_count": 28,
   "metadata": {
    "collapsed": false
   },
   "outputs": [
    {
     "data": {
      "image/png": "[encoded data removed]",
      "text/plain": [
       "<matplotlib.figure.Figure at 0x19181e676d8>"
      ]
     },
     "metadata": {},
     "output_type": "display_data"
    }
   ],
   "source": [
    "morning_clicks = sum(bin_time.is_morning)\n",
    "noon_clicks = sum(bin_time.is_noon)\n",
    "afternoon_clicks = sum(bin_time.is_afternoon)\n",
    "evening_clicks = sum(bin_time.is_evening)\n",
    "night_clicks = sum(bin_time.is_night)\n",
    "\n",
    "times = [\"Morning\", \"Noon\", \"Afternoon\", \"Evening\", \"Night\"]\n",
    "click_amounts = [morning_clicks, noon_clicks, afternoon_clicks, evening_clicks, night_clicks]\n",
    "\n",
    "plt.bar(range(5), click_amounts, align=\"center\", alpha=0.5)\n",
    "plt.xticks(range(5), times)\n",
    "plt.ylabel(\"Amount of Clicks\")\n",
    "plt.show()"
   ]
  },
  {
   "cell_type": "markdown",
   "metadata": {},
   "source": [
    "### Platforms"
   ]
  },
  {
   "cell_type": "markdown",
   "metadata": {},
   "source": [
    "In order to take into account the platforms, we decided to inser them as binary features. we had to deal with some cleaning with that feature. details in the documentation."
   ]
  },
  {
   "cell_type": "code",
   "execution_count": 29,
   "metadata": {
    "collapsed": false
   },
   "outputs": [
    {
     "data": {
      "text/html": [
       "<div>\n",
       "<table border=\"1\" class=\"dataframe\">\n",
       "  <thead>\n",
       "    <tr style=\"text-align: right;\">\n",
       "      <th></th>\n",
       "      <th>display_id</th>\n",
       "      <th>platform_is_desktop</th>\n",
       "      <th>platform_is_mobile</th>\n",
       "      <th>platform_is_tablet</th>\n",
       "    </tr>\n",
       "  </thead>\n",
       "  <tbody>\n",
       "    <tr>\n",
       "      <th>0</th>\n",
       "      <td>7</td>\n",
       "      <td>0</td>\n",
       "      <td>1</td>\n",
       "      <td>0</td>\n",
       "    </tr>\n",
       "    <tr>\n",
       "      <th>1</th>\n",
       "      <td>106</td>\n",
       "      <td>0</td>\n",
       "      <td>1</td>\n",
       "      <td>0</td>\n",
       "    </tr>\n",
       "    <tr>\n",
       "      <th>2</th>\n",
       "      <td>107</td>\n",
       "      <td>0</td>\n",
       "      <td>1</td>\n",
       "      <td>0</td>\n",
       "    </tr>\n",
       "    <tr>\n",
       "      <th>3</th>\n",
       "      <td>146</td>\n",
       "      <td>1</td>\n",
       "      <td>0</td>\n",
       "      <td>0</td>\n",
       "    </tr>\n",
       "    <tr>\n",
       "      <th>4</th>\n",
       "      <td>170</td>\n",
       "      <td>1</td>\n",
       "      <td>0</td>\n",
       "      <td>0</td>\n",
       "    </tr>\n",
       "  </tbody>\n",
       "</table>\n",
       "</div>"
      ],
      "text/plain": [
       "   display_id  platform_is_desktop  platform_is_mobile  platform_is_tablet\n",
       "0           7                    0                   1                   0\n",
       "1         106                    0                   1                   0\n",
       "2         107                    0                   1                   0\n",
       "3         146                    1                   0                   0\n",
       "4         170                    1                   0                   0"
      ]
     },
     "execution_count": 29,
     "metadata": {},
     "output_type": "execute_result"
    }
   ],
   "source": [
    "# Extracting the platform vector and creating 3 boolean vectors based on it\n",
    "platforms = events[\"platform\"]\n",
    "platform_is_desktop = np.array(platforms == 1, dtype=int)\n",
    "platform_is_mobile = np.array(platforms == 2, dtype=int)\n",
    "platform_is_tablet = np.array(platforms == 3, dtype=int)\n",
    "\n",
    "# Creating the result Dataframe\n",
    "binary_platform_frame = pd.DataFrame()\n",
    "binary_platform_frame[\"display_id\"] = events[\"display_id\"]\n",
    "binary_platform_frame[\"platform_is_desktop\"] = platform_is_desktop\n",
    "binary_platform_frame[\"platform_is_mobile\"] = platform_is_mobile\n",
    "binary_platform_frame[\"platform_is_tablet\"] = platform_is_tablet\n",
    "\n",
    "#adding the feature to dataset\n",
    "b_dataset = b_dataset.merge(binary_platform_frame, on=\"display_id\", how=\"left\")\n",
    "\n",
    "binary_platform_frame.head()"
   ]
  },
  {
   "cell_type": "code",
   "execution_count": 30,
   "metadata": {
    "collapsed": false
   },
   "outputs": [
    {
     "data": {
      "text/html": [
       "<div>\n",
       "<table border=\"1\" class=\"dataframe\">\n",
       "  <thead>\n",
       "    <tr style=\"text-align: right;\">\n",
       "      <th></th>\n",
       "      <th>display_id</th>\n",
       "      <th>ad_id</th>\n",
       "      <th>clicked</th>\n",
       "      <th>document_id_x</th>\n",
       "      <th>document_id_y</th>\n",
       "      <th>click_tstamp</th>\n",
       "      <th>is_morning</th>\n",
       "      <th>is_noon</th>\n",
       "      <th>is_afternoon</th>\n",
       "      <th>is_evening</th>\n",
       "      <th>is_night</th>\n",
       "      <th>platform_is_desktop</th>\n",
       "      <th>platform_is_mobile</th>\n",
       "      <th>platform_is_tablet</th>\n",
       "    </tr>\n",
       "  </thead>\n",
       "  <tbody>\n",
       "    <tr>\n",
       "      <th>0</th>\n",
       "      <td>7</td>\n",
       "      <td>105766</td>\n",
       "      <td>1</td>\n",
       "      <td>1149661</td>\n",
       "      <td>1151028</td>\n",
       "      <td>1465876800</td>\n",
       "      <td>0.0</td>\n",
       "      <td>0.0</td>\n",
       "      <td>0.0</td>\n",
       "      <td>1.0</td>\n",
       "      <td>0.0</td>\n",
       "      <td>0</td>\n",
       "      <td>1</td>\n",
       "      <td>0</td>\n",
       "    </tr>\n",
       "    <tr>\n",
       "      <th>1</th>\n",
       "      <td>7</td>\n",
       "      <td>215967</td>\n",
       "      <td>0</td>\n",
       "      <td>1149661</td>\n",
       "      <td>1445187</td>\n",
       "      <td>1465876800</td>\n",
       "      <td>0.0</td>\n",
       "      <td>0.0</td>\n",
       "      <td>0.0</td>\n",
       "      <td>1.0</td>\n",
       "      <td>0.0</td>\n",
       "      <td>0</td>\n",
       "      <td>1</td>\n",
       "      <td>0</td>\n",
       "    </tr>\n",
       "    <tr>\n",
       "      <th>2</th>\n",
       "      <td>7</td>\n",
       "      <td>300808</td>\n",
       "      <td>0</td>\n",
       "      <td>1149661</td>\n",
       "      <td>1701364</td>\n",
       "      <td>1465876800</td>\n",
       "      <td>0.0</td>\n",
       "      <td>0.0</td>\n",
       "      <td>0.0</td>\n",
       "      <td>1.0</td>\n",
       "      <td>0.0</td>\n",
       "      <td>0</td>\n",
       "      <td>1</td>\n",
       "      <td>0</td>\n",
       "    </tr>\n",
       "    <tr>\n",
       "      <th>3</th>\n",
       "      <td>106</td>\n",
       "      <td>14120</td>\n",
       "      <td>0</td>\n",
       "      <td>1788531</td>\n",
       "      <td>700394</td>\n",
       "      <td>1465876807</td>\n",
       "      <td>0.0</td>\n",
       "      <td>0.0</td>\n",
       "      <td>0.0</td>\n",
       "      <td>1.0</td>\n",
       "      <td>0.0</td>\n",
       "      <td>0</td>\n",
       "      <td>1</td>\n",
       "      <td>0</td>\n",
       "    </tr>\n",
       "    <tr>\n",
       "      <th>4</th>\n",
       "      <td>106</td>\n",
       "      <td>39897</td>\n",
       "      <td>0</td>\n",
       "      <td>1788531</td>\n",
       "      <td>900154</td>\n",
       "      <td>1465876807</td>\n",
       "      <td>0.0</td>\n",
       "      <td>0.0</td>\n",
       "      <td>0.0</td>\n",
       "      <td>1.0</td>\n",
       "      <td>0.0</td>\n",
       "      <td>0</td>\n",
       "      <td>1</td>\n",
       "      <td>0</td>\n",
       "    </tr>\n",
       "  </tbody>\n",
       "</table>\n",
       "</div>"
      ],
      "text/plain": [
       "   display_id   ad_id  clicked  document_id_x  document_id_y  click_tstamp  \\\n",
       "0           7  105766        1        1149661        1151028    1465876800   \n",
       "1           7  215967        0        1149661        1445187    1465876800   \n",
       "2           7  300808        0        1149661        1701364    1465876800   \n",
       "3         106   14120        0        1788531         700394    1465876807   \n",
       "4         106   39897        0        1788531         900154    1465876807   \n",
       "\n",
       "   is_morning  is_noon  is_afternoon  is_evening  is_night  \\\n",
       "0         0.0      0.0           0.0         1.0       0.0   \n",
       "1         0.0      0.0           0.0         1.0       0.0   \n",
       "2         0.0      0.0           0.0         1.0       0.0   \n",
       "3         0.0      0.0           0.0         1.0       0.0   \n",
       "4         0.0      0.0           0.0         1.0       0.0   \n",
       "\n",
       "   platform_is_desktop  platform_is_mobile  platform_is_tablet  \n",
       "0                    0                   1                   0  \n",
       "1                    0                   1                   0  \n",
       "2                    0                   1                   0  \n",
       "3                    0                   1                   0  \n",
       "4                    0                   1                   0  "
      ]
     },
     "execution_count": 30,
     "metadata": {},
     "output_type": "execute_result"
    }
   ],
   "source": [
    "b_dataset.head()"
   ]
  },
  {
   "cell_type": "markdown",
   "metadata": {},
   "source": [
    "The following bar chart represents how the clicks devides between each platform:"
   ]
  },
  {
   "cell_type": "code",
   "execution_count": 31,
   "metadata": {
    "collapsed": false
   },
   "outputs": [
    {
     "data": {
      "image/png": "[encoded data removed]",
      "text/plain": [
       "<matplotlib.figure.Figure at 0x191820ff160>"
      ]
     },
     "metadata": {},
     "output_type": "display_data"
    }
   ],
   "source": [
    "plot_platform_histogram(binary_platform_frame)"
   ]
  },
  {
   "cell_type": "markdown",
   "metadata": {},
   "source": [
    "### Weekend Clicks"
   ]
  },
  {
   "cell_type": "markdown",
   "metadata": {},
   "source": [
    "We expected the clicking trends to be different over the weekends - the data includes two of them: 18-19.6 and 25-26.6.\n",
    "In order to include this in the model, we created a binary vector based on the click times. This time we dind't correct for timezone, mainly because when we did the results were actually worse."
   ]
  },
  {
   "cell_type": "code",
   "execution_count": 32,
   "metadata": {
    "collapsed": false
   },
   "outputs": [
    {
     "data": {
      "text/html": [
       "<div>\n",
       "<table border=\"1\" class=\"dataframe\">\n",
       "  <thead>\n",
       "    <tr style=\"text-align: right;\">\n",
       "      <th></th>\n",
       "      <th>display_id</th>\n",
       "      <th>is_weekend</th>\n",
       "    </tr>\n",
       "  </thead>\n",
       "  <tbody>\n",
       "    <tr>\n",
       "      <th>0</th>\n",
       "      <td>7</td>\n",
       "      <td>0.0</td>\n",
       "    </tr>\n",
       "    <tr>\n",
       "      <th>1</th>\n",
       "      <td>106</td>\n",
       "      <td>0.0</td>\n",
       "    </tr>\n",
       "    <tr>\n",
       "      <th>2</th>\n",
       "      <td>107</td>\n",
       "      <td>0.0</td>\n",
       "    </tr>\n",
       "    <tr>\n",
       "      <th>3</th>\n",
       "      <td>146</td>\n",
       "      <td>0.0</td>\n",
       "    </tr>\n",
       "    <tr>\n",
       "      <th>4</th>\n",
       "      <td>170</td>\n",
       "      <td>0.0</td>\n",
       "    </tr>\n",
       "  </tbody>\n",
       "</table>\n",
       "</div>"
      ],
      "text/plain": [
       "   display_id  is_weekend\n",
       "0           7         0.0\n",
       "1         106         0.0\n",
       "2         107         0.0\n",
       "3         146         0.0\n",
       "4         170         0.0"
      ]
     },
     "execution_count": 32,
     "metadata": {},
     "output_type": "execute_result"
    }
   ],
   "source": [
    "# Extracting relevant columns from main table\n",
    "table = b_dataset.groupby(\"display_id\").first().reset_index()[[\"display_id\", \"click_tstamp\"]]\n",
    "timestamps = table[\"click_tstamp\"]\n",
    "# Initializing empty is_weekend array\n",
    "is_weekend_boolean = np.zeros(shape=len(timestamps))\n",
    "\n",
    "for i in range(len(timestamps)):\n",
    "    # Format conversions to allow use of is_busday function\n",
    "    as_datetime64 = np.datetime64(int(timestamps[i]), 's')\n",
    "    as_datetime = pd.to_datetime(as_datetime64)\n",
    "\n",
    "    # Using the is_busday to return an is_weekend boolean - True for Saturday and Sunday, False otherwise\n",
    "    boolean = np.is_busday(as_datetime, weekmask='0000011')\n",
    "    is_weekend_boolean[i] = boolean\n",
    "\n",
    "# Creating result Dataframe with two columns - display_id and is_weekend\n",
    "is_weekend = pd.DataFrame()\n",
    "is_weekend[\"display_id\"] = table[\"display_id\"]\n",
    "is_weekend[\"is_weekend\"] = is_weekend_boolean\n",
    "\n",
    "is_weekend.head()"
   ]
  },
  {
   "cell_type": "code",
   "execution_count": 33,
   "metadata": {
    "collapsed": false
   },
   "outputs": [
    {
     "data": {
      "text/html": [
       "<div>\n",
       "<table border=\"1\" class=\"dataframe\">\n",
       "  <thead>\n",
       "    <tr style=\"text-align: right;\">\n",
       "      <th></th>\n",
       "      <th>display_id</th>\n",
       "      <th>ad_id</th>\n",
       "      <th>clicked</th>\n",
       "      <th>document_id_x</th>\n",
       "      <th>document_id_y</th>\n",
       "      <th>click_tstamp</th>\n",
       "      <th>is_morning</th>\n",
       "      <th>is_noon</th>\n",
       "      <th>is_afternoon</th>\n",
       "      <th>is_evening</th>\n",
       "      <th>is_night</th>\n",
       "      <th>platform_is_desktop</th>\n",
       "      <th>platform_is_mobile</th>\n",
       "      <th>platform_is_tablet</th>\n",
       "      <th>is_weekend</th>\n",
       "    </tr>\n",
       "  </thead>\n",
       "  <tbody>\n",
       "    <tr>\n",
       "      <th>0</th>\n",
       "      <td>7</td>\n",
       "      <td>105766</td>\n",
       "      <td>1</td>\n",
       "      <td>1149661</td>\n",
       "      <td>1151028</td>\n",
       "      <td>1465876800</td>\n",
       "      <td>0.0</td>\n",
       "      <td>0.0</td>\n",
       "      <td>0.0</td>\n",
       "      <td>1.0</td>\n",
       "      <td>0.0</td>\n",
       "      <td>0</td>\n",
       "      <td>1</td>\n",
       "      <td>0</td>\n",
       "      <td>0.0</td>\n",
       "    </tr>\n",
       "    <tr>\n",
       "      <th>1</th>\n",
       "      <td>7</td>\n",
       "      <td>215967</td>\n",
       "      <td>0</td>\n",
       "      <td>1149661</td>\n",
       "      <td>1445187</td>\n",
       "      <td>1465876800</td>\n",
       "      <td>0.0</td>\n",
       "      <td>0.0</td>\n",
       "      <td>0.0</td>\n",
       "      <td>1.0</td>\n",
       "      <td>0.0</td>\n",
       "      <td>0</td>\n",
       "      <td>1</td>\n",
       "      <td>0</td>\n",
       "      <td>0.0</td>\n",
       "    </tr>\n",
       "    <tr>\n",
       "      <th>2</th>\n",
       "      <td>7</td>\n",
       "      <td>300808</td>\n",
       "      <td>0</td>\n",
       "      <td>1149661</td>\n",
       "      <td>1701364</td>\n",
       "      <td>1465876800</td>\n",
       "      <td>0.0</td>\n",
       "      <td>0.0</td>\n",
       "      <td>0.0</td>\n",
       "      <td>1.0</td>\n",
       "      <td>0.0</td>\n",
       "      <td>0</td>\n",
       "      <td>1</td>\n",
       "      <td>0</td>\n",
       "      <td>0.0</td>\n",
       "    </tr>\n",
       "    <tr>\n",
       "      <th>3</th>\n",
       "      <td>106</td>\n",
       "      <td>14120</td>\n",
       "      <td>0</td>\n",
       "      <td>1788531</td>\n",
       "      <td>700394</td>\n",
       "      <td>1465876807</td>\n",
       "      <td>0.0</td>\n",
       "      <td>0.0</td>\n",
       "      <td>0.0</td>\n",
       "      <td>1.0</td>\n",
       "      <td>0.0</td>\n",
       "      <td>0</td>\n",
       "      <td>1</td>\n",
       "      <td>0</td>\n",
       "      <td>0.0</td>\n",
       "    </tr>\n",
       "    <tr>\n",
       "      <th>4</th>\n",
       "      <td>106</td>\n",
       "      <td>39897</td>\n",
       "      <td>0</td>\n",
       "      <td>1788531</td>\n",
       "      <td>900154</td>\n",
       "      <td>1465876807</td>\n",
       "      <td>0.0</td>\n",
       "      <td>0.0</td>\n",
       "      <td>0.0</td>\n",
       "      <td>1.0</td>\n",
       "      <td>0.0</td>\n",
       "      <td>0</td>\n",
       "      <td>1</td>\n",
       "      <td>0</td>\n",
       "      <td>0.0</td>\n",
       "    </tr>\n",
       "  </tbody>\n",
       "</table>\n",
       "</div>"
      ],
      "text/plain": [
       "   display_id   ad_id  clicked  document_id_x  document_id_y  click_tstamp  \\\n",
       "0           7  105766        1        1149661        1151028    1465876800   \n",
       "1           7  215967        0        1149661        1445187    1465876800   \n",
       "2           7  300808        0        1149661        1701364    1465876800   \n",
       "3         106   14120        0        1788531         700394    1465876807   \n",
       "4         106   39897        0        1788531         900154    1465876807   \n",
       "\n",
       "   is_morning  is_noon  is_afternoon  is_evening  is_night  \\\n",
       "0         0.0      0.0           0.0         1.0       0.0   \n",
       "1         0.0      0.0           0.0         1.0       0.0   \n",
       "2         0.0      0.0           0.0         1.0       0.0   \n",
       "3         0.0      0.0           0.0         1.0       0.0   \n",
       "4         0.0      0.0           0.0         1.0       0.0   \n",
       "\n",
       "   platform_is_desktop  platform_is_mobile  platform_is_tablet  is_weekend  \n",
       "0                    0                   1                   0         0.0  \n",
       "1                    0                   1                   0         0.0  \n",
       "2                    0                   1                   0         0.0  \n",
       "3                    0                   1                   0         0.0  \n",
       "4                    0                   1                   0         0.0  "
      ]
     },
     "execution_count": 33,
     "metadata": {},
     "output_type": "execute_result"
    }
   ],
   "source": [
    "b_dataset = b_dataset.merge(is_weekend, on='display_id',how='left')\n",
    "b_dataset.head()"
   ]
  },
  {
   "cell_type": "markdown",
   "metadata": {},
   "source": [
    "### Ads per Display"
   ]
  },
  {
   "cell_type": "markdown",
   "metadata": {},
   "source": [
    "Outbrain's displays are not of uniform size. Some can be comprised of only 2 ads, while others can contain as many as 12 ads. We expected this to have an effect, as it indirectly measures the host site's popularity / resources - bigger and wealthier sites will probably feature bigger displays, as it makes sense to use them as an advertising platform. "
   ]
  },
  {
   "cell_type": "code",
   "execution_count": 34,
   "metadata": {
    "collapsed": false
   },
   "outputs": [
    {
     "data": {
      "text/html": [
       "<div>\n",
       "<table border=\"1\" class=\"dataframe\">\n",
       "  <thead>\n",
       "    <tr style=\"text-align: right;\">\n",
       "      <th></th>\n",
       "      <th>display_id</th>\n",
       "      <th>ad_count_per_display</th>\n",
       "    </tr>\n",
       "  </thead>\n",
       "  <tbody>\n",
       "    <tr>\n",
       "      <th>0</th>\n",
       "      <td>7</td>\n",
       "      <td>3</td>\n",
       "    </tr>\n",
       "    <tr>\n",
       "      <th>1</th>\n",
       "      <td>106</td>\n",
       "      <td>8</td>\n",
       "    </tr>\n",
       "    <tr>\n",
       "      <th>2</th>\n",
       "      <td>107</td>\n",
       "      <td>4</td>\n",
       "    </tr>\n",
       "    <tr>\n",
       "      <th>3</th>\n",
       "      <td>146</td>\n",
       "      <td>6</td>\n",
       "    </tr>\n",
       "    <tr>\n",
       "      <th>4</th>\n",
       "      <td>170</td>\n",
       "      <td>6</td>\n",
       "    </tr>\n",
       "  </tbody>\n",
       "</table>\n",
       "</div>"
      ],
      "text/plain": [
       "   display_id  ad_count_per_display\n",
       "0           7                     3\n",
       "1         106                     8\n",
       "2         107                     4\n",
       "3         146                     6\n",
       "4         170                     6"
      ]
     },
     "execution_count": 34,
     "metadata": {},
     "output_type": "execute_result"
    }
   ],
   "source": [
    "# Extracting the display_id's vector from main table\n",
    "displays_and_ads = b_dataset[[\"display_id\"]]\n",
    "\n",
    "# Counting how many times every display_id appears in the vector - this equals the ad count per each display\n",
    "ad_counts = displays_and_ads.groupby(\"display_id\").display_id.agg(\"count\")\n",
    "ad_counts = pd.Series(ad_counts.as_matrix())\n",
    "\n",
    "# Extracting vector of unique displays\n",
    "displays = displays_and_ads[\"display_id\"].unique()\n",
    "\n",
    "# Creating result Dataframe, contaning the ad count for each display_id\n",
    "# (has only display_id and ad_count columns)\n",
    "disp_size_count = pd.DataFrame()\n",
    "disp_size_count[\"display_id\"] = displays\n",
    "disp_size_count[\"ad_count_per_display\"] = ad_counts.astype(int)\n",
    "\n",
    "disp_size_count.head()"
   ]
  },
  {
   "cell_type": "code",
   "execution_count": 35,
   "metadata": {
    "collapsed": false
   },
   "outputs": [
    {
     "data": {
      "text/html": [
       "<div>\n",
       "<table border=\"1\" class=\"dataframe\">\n",
       "  <thead>\n",
       "    <tr style=\"text-align: right;\">\n",
       "      <th></th>\n",
       "      <th>display_id</th>\n",
       "      <th>ad_id</th>\n",
       "      <th>clicked</th>\n",
       "      <th>document_id_x</th>\n",
       "      <th>document_id_y</th>\n",
       "      <th>click_tstamp</th>\n",
       "      <th>is_morning</th>\n",
       "      <th>is_noon</th>\n",
       "      <th>is_afternoon</th>\n",
       "      <th>is_evening</th>\n",
       "      <th>is_night</th>\n",
       "      <th>platform_is_desktop</th>\n",
       "      <th>platform_is_mobile</th>\n",
       "      <th>platform_is_tablet</th>\n",
       "      <th>is_weekend</th>\n",
       "      <th>ad_count_per_display</th>\n",
       "    </tr>\n",
       "  </thead>\n",
       "  <tbody>\n",
       "    <tr>\n",
       "      <th>0</th>\n",
       "      <td>7</td>\n",
       "      <td>105766</td>\n",
       "      <td>1</td>\n",
       "      <td>1149661</td>\n",
       "      <td>1151028</td>\n",
       "      <td>1465876800</td>\n",
       "      <td>0.0</td>\n",
       "      <td>0.0</td>\n",
       "      <td>0.0</td>\n",
       "      <td>1.0</td>\n",
       "      <td>0.0</td>\n",
       "      <td>0</td>\n",
       "      <td>1</td>\n",
       "      <td>0</td>\n",
       "      <td>0.0</td>\n",
       "      <td>3</td>\n",
       "    </tr>\n",
       "    <tr>\n",
       "      <th>1</th>\n",
       "      <td>7</td>\n",
       "      <td>215967</td>\n",
       "      <td>0</td>\n",
       "      <td>1149661</td>\n",
       "      <td>1445187</td>\n",
       "      <td>1465876800</td>\n",
       "      <td>0.0</td>\n",
       "      <td>0.0</td>\n",
       "      <td>0.0</td>\n",
       "      <td>1.0</td>\n",
       "      <td>0.0</td>\n",
       "      <td>0</td>\n",
       "      <td>1</td>\n",
       "      <td>0</td>\n",
       "      <td>0.0</td>\n",
       "      <td>3</td>\n",
       "    </tr>\n",
       "    <tr>\n",
       "      <th>2</th>\n",
       "      <td>7</td>\n",
       "      <td>300808</td>\n",
       "      <td>0</td>\n",
       "      <td>1149661</td>\n",
       "      <td>1701364</td>\n",
       "      <td>1465876800</td>\n",
       "      <td>0.0</td>\n",
       "      <td>0.0</td>\n",
       "      <td>0.0</td>\n",
       "      <td>1.0</td>\n",
       "      <td>0.0</td>\n",
       "      <td>0</td>\n",
       "      <td>1</td>\n",
       "      <td>0</td>\n",
       "      <td>0.0</td>\n",
       "      <td>3</td>\n",
       "    </tr>\n",
       "    <tr>\n",
       "      <th>3</th>\n",
       "      <td>106</td>\n",
       "      <td>14120</td>\n",
       "      <td>0</td>\n",
       "      <td>1788531</td>\n",
       "      <td>700394</td>\n",
       "      <td>1465876807</td>\n",
       "      <td>0.0</td>\n",
       "      <td>0.0</td>\n",
       "      <td>0.0</td>\n",
       "      <td>1.0</td>\n",
       "      <td>0.0</td>\n",
       "      <td>0</td>\n",
       "      <td>1</td>\n",
       "      <td>0</td>\n",
       "      <td>0.0</td>\n",
       "      <td>8</td>\n",
       "    </tr>\n",
       "    <tr>\n",
       "      <th>4</th>\n",
       "      <td>106</td>\n",
       "      <td>39897</td>\n",
       "      <td>0</td>\n",
       "      <td>1788531</td>\n",
       "      <td>900154</td>\n",
       "      <td>1465876807</td>\n",
       "      <td>0.0</td>\n",
       "      <td>0.0</td>\n",
       "      <td>0.0</td>\n",
       "      <td>1.0</td>\n",
       "      <td>0.0</td>\n",
       "      <td>0</td>\n",
       "      <td>1</td>\n",
       "      <td>0</td>\n",
       "      <td>0.0</td>\n",
       "      <td>8</td>\n",
       "    </tr>\n",
       "  </tbody>\n",
       "</table>\n",
       "</div>"
      ],
      "text/plain": [
       "   display_id   ad_id  clicked  document_id_x  document_id_y  click_tstamp  \\\n",
       "0           7  105766        1        1149661        1151028    1465876800   \n",
       "1           7  215967        0        1149661        1445187    1465876800   \n",
       "2           7  300808        0        1149661        1701364    1465876800   \n",
       "3         106   14120        0        1788531         700394    1465876807   \n",
       "4         106   39897        0        1788531         900154    1465876807   \n",
       "\n",
       "   is_morning  is_noon  is_afternoon  is_evening  is_night  \\\n",
       "0         0.0      0.0           0.0         1.0       0.0   \n",
       "1         0.0      0.0           0.0         1.0       0.0   \n",
       "2         0.0      0.0           0.0         1.0       0.0   \n",
       "3         0.0      0.0           0.0         1.0       0.0   \n",
       "4         0.0      0.0           0.0         1.0       0.0   \n",
       "\n",
       "   platform_is_desktop  platform_is_mobile  platform_is_tablet  is_weekend  \\\n",
       "0                    0                   1                   0         0.0   \n",
       "1                    0                   1                   0         0.0   \n",
       "2                    0                   1                   0         0.0   \n",
       "3                    0                   1                   0         0.0   \n",
       "4                    0                   1                   0         0.0   \n",
       "\n",
       "   ad_count_per_display  \n",
       "0                     3  \n",
       "1                     3  \n",
       "2                     3  \n",
       "3                     8  \n",
       "4                     8  "
      ]
     },
     "execution_count": 35,
     "metadata": {},
     "output_type": "execute_result"
    }
   ],
   "source": [
    "b_dataset = b_dataset.merge(disp_size_count, on='display_id',how='left')\n",
    "b_dataset.head()"
   ]
  },
  {
   "cell_type": "code",
   "execution_count": 36,
   "metadata": {
    "collapsed": false
   },
   "outputs": [
    {
     "data": {
      "image/png": "[encoded data removed]",
      "text/plain": [
       "<matplotlib.figure.Figure at 0x191820d3550>"
      ]
     },
     "metadata": {},
     "output_type": "display_data"
    }
   ],
   "source": [
    "create_disp_number_piechart(b_dataset)"
   ]
  },
  {
   "cell_type": "markdown",
   "metadata": {},
   "source": [
    "### Ads Per Advertiser and Ads Per Campaign"
   ]
  },
  {
   "cell_type": "markdown",
   "metadata": {},
   "source": [
    "#### Ads per advertiser"
   ]
  },
  {
   "cell_type": "markdown",
   "metadata": {},
   "source": [
    "This was another indirect way of comparing different advertisers. Bigger / wealthier advertisers will tend to advertise more, and their ads are probably inherently more attractive than ads from smaller advertisers."
   ]
  },
  {
   "cell_type": "code",
   "execution_count": 37,
   "metadata": {
    "collapsed": false
   },
   "outputs": [
    {
     "data": {
      "text/html": [
       "<div>\n",
       "<table border=\"1\" class=\"dataframe\">\n",
       "  <thead>\n",
       "    <tr style=\"text-align: right;\">\n",
       "      <th></th>\n",
       "      <th>advertiser_id</th>\n",
       "      <th>ads_per_advertiser</th>\n",
       "    </tr>\n",
       "  </thead>\n",
       "  <tbody>\n",
       "    <tr>\n",
       "      <th>0</th>\n",
       "      <td>3</td>\n",
       "      <td>10</td>\n",
       "    </tr>\n",
       "    <tr>\n",
       "      <th>1</th>\n",
       "      <td>4</td>\n",
       "      <td>59</td>\n",
       "    </tr>\n",
       "    <tr>\n",
       "      <th>2</th>\n",
       "      <td>5</td>\n",
       "      <td>33</td>\n",
       "    </tr>\n",
       "    <tr>\n",
       "      <th>3</th>\n",
       "      <td>6</td>\n",
       "      <td>5</td>\n",
       "    </tr>\n",
       "    <tr>\n",
       "      <th>4</th>\n",
       "      <td>7</td>\n",
       "      <td>42</td>\n",
       "    </tr>\n",
       "  </tbody>\n",
       "</table>\n",
       "</div>"
      ],
      "text/plain": [
       "   advertiser_id  ads_per_advertiser\n",
       "0              3                  10\n",
       "1              4                  59\n",
       "2              5                  33\n",
       "3              6                   5\n",
       "4              7                  42"
      ]
     },
     "execution_count": 37,
     "metadata": {},
     "output_type": "execute_result"
    }
   ],
   "source": [
    "# Loading the relevant tables\n",
    "ad_advertisers = promoted[[\"ad_id\", \"advertiser_id\"]]\n",
    "# Counting the number of times an advertiser appeared:\n",
    "ads_per_advertiser = promoted.groupby([\"advertiser_id\"], as_index=False).agg({\"ad_id\": np.count_nonzero})\\\n",
    "    .rename(index=str, columns={\"ad_id\": \"ads_per_advertiser\"})\n",
    "#advertiser_freq_per_ad = ad_advertisers.merge(ad_per_advertiser, on=\"advertiser_id\")\n",
    "#advertiser_freq_per_ad.drop(['advertiser_id'], axis=1, inplace=True)\n",
    "\n",
    "ads_per_advertiser.head()"
   ]
  },
  {
   "cell_type": "markdown",
   "metadata": {},
   "source": [
    "#### Ads per campaign"
   ]
  },
  {
   "cell_type": "markdown",
   "metadata": {},
   "source": [
    "This allowed us to gauge whether an ad was a part of a big campaign or not. We assumed that ads from big campaigns are more attractive, and will therefore have a higher chance of being clicked on."
   ]
  },
  {
   "cell_type": "code",
   "execution_count": 38,
   "metadata": {
    "collapsed": false
   },
   "outputs": [
    {
     "data": {
      "text/html": [
       "<div>\n",
       "<table border=\"1\" class=\"dataframe\">\n",
       "  <thead>\n",
       "    <tr style=\"text-align: right;\">\n",
       "      <th></th>\n",
       "      <th>campaign_id</th>\n",
       "      <th>ads_per_campaign</th>\n",
       "    </tr>\n",
       "  </thead>\n",
       "  <tbody>\n",
       "    <tr>\n",
       "      <th>0</th>\n",
       "      <td>1</td>\n",
       "      <td>11</td>\n",
       "    </tr>\n",
       "    <tr>\n",
       "      <th>1</th>\n",
       "      <td>2</td>\n",
       "      <td>28</td>\n",
       "    </tr>\n",
       "    <tr>\n",
       "      <th>2</th>\n",
       "      <td>3</td>\n",
       "      <td>2</td>\n",
       "    </tr>\n",
       "    <tr>\n",
       "      <th>3</th>\n",
       "      <td>4</td>\n",
       "      <td>118</td>\n",
       "    </tr>\n",
       "    <tr>\n",
       "      <th>4</th>\n",
       "      <td>5</td>\n",
       "      <td>5</td>\n",
       "    </tr>\n",
       "  </tbody>\n",
       "</table>\n",
       "</div>"
      ],
      "text/plain": [
       "   campaign_id  ads_per_campaign\n",
       "0            1                11\n",
       "1            2                28\n",
       "2            3                 2\n",
       "3            4               118\n",
       "4            5                 5"
      ]
     },
     "execution_count": 38,
     "metadata": {},
     "output_type": "execute_result"
    }
   ],
   "source": [
    "# Loading the relevant tables\n",
    "ad_campaigns = promoted[[\"ad_id\", \"campaign_id\"]]\n",
    "# Counting the number of times an advertiser appeared:\n",
    "ad_per_campaign = ad_campaigns.groupby([\"campaign_id\"], as_index=False).agg({\"ad_id\": np.count_nonzero})\\\n",
    "    .rename(index=str, columns={\"ad_id\": \"ads_per_campaign\"})\n",
    "#campaign_freq_per_ad = ad_campaigns.merge(ad_per_campaign, on=\"campaign_id\", copy=False)\n",
    "#campaign_freq_per_ad.drop(['campaign_id'], axis=1, inplace=True)\n",
    "\n",
    "ad_per_campaign.head()"
   ]
  },
  {
   "cell_type": "markdown",
   "metadata": {},
   "source": [
    "#### Bar charts - Advertisers / Campaigns Popularity"
   ]
  },
  {
   "cell_type": "markdown",
   "metadata": {},
   "source": [
    "The following bar charts represent the amount of ads and clicks of 50 random advertisers/campaigns, in order to demonstrate the popularity effect."
   ]
  },
  {
   "cell_type": "code",
   "execution_count": 40,
   "metadata": {
    "collapsed": false
   },
   "outputs": [
    {
     "data": {
      "image/png": "[encoded data removed]",
      "text/plain": [
       "<matplotlib.figure.Figure at 0x19180c57dd8>"
      ]
     },
     "metadata": {},
     "output_type": "display_data"
    }
   ],
   "source": [
    "create_advertiser_or_campaign_pop_histogram(dataset,promoted,\"advertiser_id\",\n",
    "                                            \"Clicks and Ads Count For 50 Random Advertisers\")"
   ]
  },
  {
   "cell_type": "code",
   "execution_count": 41,
   "metadata": {
    "collapsed": false
   },
   "outputs": [
    {
     "data": {
      "image/png": "[encoded data removed]",
      "text/plain": [
       "<matplotlib.figure.Figure at 0x19180b29518>"
      ]
     },
     "metadata": {},
     "output_type": "display_data"
    }
   ],
   "source": [
    "create_advertiser_or_campaign_pop_histogram(dataset,promoted,\"campaign_id\",\n",
    "                                            \"Clicks and Ads Count For 50 Random Campaigns\")"
   ]
  },
  {
   "cell_type": "code",
   "execution_count": 42,
   "metadata": {
    "collapsed": false
   },
   "outputs": [
    {
     "data": {
      "text/html": [
       "<div>\n",
       "<table border=\"1\" class=\"dataframe\">\n",
       "  <thead>\n",
       "    <tr style=\"text-align: right;\">\n",
       "      <th></th>\n",
       "      <th>display_id</th>\n",
       "      <th>ad_id</th>\n",
       "      <th>clicked</th>\n",
       "      <th>document_id_x</th>\n",
       "      <th>document_id_y</th>\n",
       "      <th>click_tstamp</th>\n",
       "      <th>is_morning</th>\n",
       "      <th>is_noon</th>\n",
       "      <th>is_afternoon</th>\n",
       "      <th>is_evening</th>\n",
       "      <th>is_night</th>\n",
       "      <th>platform_is_desktop</th>\n",
       "      <th>platform_is_mobile</th>\n",
       "      <th>platform_is_tablet</th>\n",
       "      <th>is_weekend</th>\n",
       "      <th>ad_count_per_display</th>\n",
       "      <th>ads_per_advertiser</th>\n",
       "      <th>ads_per_campaign</th>\n",
       "    </tr>\n",
       "  </thead>\n",
       "  <tbody>\n",
       "    <tr>\n",
       "      <th>0</th>\n",
       "      <td>7</td>\n",
       "      <td>105766</td>\n",
       "      <td>1</td>\n",
       "      <td>1149661</td>\n",
       "      <td>1151028</td>\n",
       "      <td>1465876800</td>\n",
       "      <td>0.0</td>\n",
       "      <td>0.0</td>\n",
       "      <td>0.0</td>\n",
       "      <td>1.0</td>\n",
       "      <td>0.0</td>\n",
       "      <td>0</td>\n",
       "      <td>1</td>\n",
       "      <td>0</td>\n",
       "      <td>0.0</td>\n",
       "      <td>3</td>\n",
       "      <td>297</td>\n",
       "      <td>37</td>\n",
       "    </tr>\n",
       "    <tr>\n",
       "      <th>1</th>\n",
       "      <td>7</td>\n",
       "      <td>215967</td>\n",
       "      <td>0</td>\n",
       "      <td>1149661</td>\n",
       "      <td>1445187</td>\n",
       "      <td>1465876800</td>\n",
       "      <td>0.0</td>\n",
       "      <td>0.0</td>\n",
       "      <td>0.0</td>\n",
       "      <td>1.0</td>\n",
       "      <td>0.0</td>\n",
       "      <td>0</td>\n",
       "      <td>1</td>\n",
       "      <td>0</td>\n",
       "      <td>0.0</td>\n",
       "      <td>3</td>\n",
       "      <td>240</td>\n",
       "      <td>8</td>\n",
       "    </tr>\n",
       "    <tr>\n",
       "      <th>2</th>\n",
       "      <td>7</td>\n",
       "      <td>300808</td>\n",
       "      <td>0</td>\n",
       "      <td>1149661</td>\n",
       "      <td>1701364</td>\n",
       "      <td>1465876800</td>\n",
       "      <td>0.0</td>\n",
       "      <td>0.0</td>\n",
       "      <td>0.0</td>\n",
       "      <td>1.0</td>\n",
       "      <td>0.0</td>\n",
       "      <td>0</td>\n",
       "      <td>1</td>\n",
       "      <td>0</td>\n",
       "      <td>0.0</td>\n",
       "      <td>3</td>\n",
       "      <td>875</td>\n",
       "      <td>13</td>\n",
       "    </tr>\n",
       "    <tr>\n",
       "      <th>3</th>\n",
       "      <td>106</td>\n",
       "      <td>14120</td>\n",
       "      <td>0</td>\n",
       "      <td>1788531</td>\n",
       "      <td>700394</td>\n",
       "      <td>1465876807</td>\n",
       "      <td>0.0</td>\n",
       "      <td>0.0</td>\n",
       "      <td>0.0</td>\n",
       "      <td>1.0</td>\n",
       "      <td>0.0</td>\n",
       "      <td>0</td>\n",
       "      <td>1</td>\n",
       "      <td>0</td>\n",
       "      <td>0.0</td>\n",
       "      <td>8</td>\n",
       "      <td>61</td>\n",
       "      <td>1</td>\n",
       "    </tr>\n",
       "    <tr>\n",
       "      <th>4</th>\n",
       "      <td>106</td>\n",
       "      <td>39897</td>\n",
       "      <td>0</td>\n",
       "      <td>1788531</td>\n",
       "      <td>900154</td>\n",
       "      <td>1465876807</td>\n",
       "      <td>0.0</td>\n",
       "      <td>0.0</td>\n",
       "      <td>0.0</td>\n",
       "      <td>1.0</td>\n",
       "      <td>0.0</td>\n",
       "      <td>0</td>\n",
       "      <td>1</td>\n",
       "      <td>0</td>\n",
       "      <td>0.0</td>\n",
       "      <td>8</td>\n",
       "      <td>274</td>\n",
       "      <td>10</td>\n",
       "    </tr>\n",
       "  </tbody>\n",
       "</table>\n",
       "</div>"
      ],
      "text/plain": [
       "   display_id   ad_id  clicked  document_id_x  document_id_y  click_tstamp  \\\n",
       "0           7  105766        1        1149661        1151028    1465876800   \n",
       "1           7  215967        0        1149661        1445187    1465876800   \n",
       "2           7  300808        0        1149661        1701364    1465876800   \n",
       "3         106   14120        0        1788531         700394    1465876807   \n",
       "4         106   39897        0        1788531         900154    1465876807   \n",
       "\n",
       "   is_morning  is_noon  is_afternoon  is_evening  is_night  \\\n",
       "0         0.0      0.0           0.0         1.0       0.0   \n",
       "1         0.0      0.0           0.0         1.0       0.0   \n",
       "2         0.0      0.0           0.0         1.0       0.0   \n",
       "3         0.0      0.0           0.0         1.0       0.0   \n",
       "4         0.0      0.0           0.0         1.0       0.0   \n",
       "\n",
       "   platform_is_desktop  platform_is_mobile  platform_is_tablet  is_weekend  \\\n",
       "0                    0                   1                   0         0.0   \n",
       "1                    0                   1                   0         0.0   \n",
       "2                    0                   1                   0         0.0   \n",
       "3                    0                   1                   0         0.0   \n",
       "4                    0                   1                   0         0.0   \n",
       "\n",
       "   ad_count_per_display  ads_per_advertiser  ads_per_campaign  \n",
       "0                     3                 297                37  \n",
       "1                     3                 240                 8  \n",
       "2                     3                 875                13  \n",
       "3                     8                  61                 1  \n",
       "4                     8                 274                10  "
      ]
     },
     "execution_count": 42,
     "metadata": {},
     "output_type": "execute_result"
    }
   ],
   "source": [
    "#adding the feature to dataset:\n",
    "ad_and_advertiser_and_campaign_freq = promoted.merge(ads_per_advertiser, on='advertiser_id')\\\n",
    "                                                .merge(ad_per_campaign, on='campaign_id')\n",
    "ad_and_advertiser_and_campaign_freq.drop(['document_id','campaign_id','advertiser_id'],axis=1,inplace=True)\n",
    "\n",
    "b_dataset = b_dataset.merge(ad_and_advertiser_and_campaign_freq, on='ad_id',how='left')\n",
    "b_dataset.head()"
   ]
  },
  {
   "cell_type": "markdown",
   "metadata": {},
   "source": [
    "Remark: we are aware that the advertiser and campaign count is different then in the made in advance dataset. that's because in that dataset we calculated the counts from the whole table, and here for the \"proof of concept\" we calculate them from a filtered table."
   ]
  },
  {
   "cell_type": "markdown",
   "metadata": {},
   "source": [
    "### CTR - Click Through Ratio"
   ]
  },
  {
   "cell_type": "markdown",
   "metadata": {},
   "source": [
    "The most basic and common method of evaluating an ad's attractiveness - the number of times it was clicked divided by the number of times it appeared in a given timeframe."
   ]
  },
  {
   "cell_type": "code",
   "execution_count": 43,
   "metadata": {
    "collapsed": false
   },
   "outputs": [
    {
     "data": {
      "text/html": [
       "<div>\n",
       "<table border=\"1\" class=\"dataframe\">\n",
       "  <thead>\n",
       "    <tr style=\"text-align: right;\">\n",
       "      <th></th>\n",
       "      <th>ad_id</th>\n",
       "      <th>clicks_appearances_ratio</th>\n",
       "    </tr>\n",
       "  </thead>\n",
       "  <tbody>\n",
       "    <tr>\n",
       "      <th>0</th>\n",
       "      <td>2</td>\n",
       "      <td>0.000000</td>\n",
       "    </tr>\n",
       "    <tr>\n",
       "      <th>1</th>\n",
       "      <td>3</td>\n",
       "      <td>0.000000</td>\n",
       "    </tr>\n",
       "    <tr>\n",
       "      <th>2</th>\n",
       "      <td>4</td>\n",
       "      <td>0.000000</td>\n",
       "    </tr>\n",
       "    <tr>\n",
       "      <th>3</th>\n",
       "      <td>7</td>\n",
       "      <td>0.281818</td>\n",
       "    </tr>\n",
       "    <tr>\n",
       "      <th>4</th>\n",
       "      <td>8</td>\n",
       "      <td>0.000000</td>\n",
       "    </tr>\n",
       "    <tr>\n",
       "      <th>5</th>\n",
       "      <td>10</td>\n",
       "      <td>0.000000</td>\n",
       "    </tr>\n",
       "    <tr>\n",
       "      <th>6</th>\n",
       "      <td>12</td>\n",
       "      <td>0.000000</td>\n",
       "    </tr>\n",
       "    <tr>\n",
       "      <th>7</th>\n",
       "      <td>13</td>\n",
       "      <td>0.000000</td>\n",
       "    </tr>\n",
       "    <tr>\n",
       "      <th>8</th>\n",
       "      <td>21</td>\n",
       "      <td>0.000000</td>\n",
       "    </tr>\n",
       "    <tr>\n",
       "      <th>9</th>\n",
       "      <td>27</td>\n",
       "      <td>0.000000</td>\n",
       "    </tr>\n",
       "  </tbody>\n",
       "</table>\n",
       "</div>"
      ],
      "text/plain": [
       "   ad_id  clicks_appearances_ratio\n",
       "0      2                  0.000000\n",
       "1      3                  0.000000\n",
       "2      4                  0.000000\n",
       "3      7                  0.281818\n",
       "4      8                  0.000000\n",
       "5     10                  0.000000\n",
       "6     12                  0.000000\n",
       "7     13                  0.000000\n",
       "8     21                  0.000000\n",
       "9     27                  0.000000"
      ]
     },
     "execution_count": 43,
     "metadata": {},
     "output_type": "execute_result"
    }
   ],
   "source": [
    "# Slicing only necessary columns\n",
    "table = dataset[[\"ad_id\", \"clicked\"]]\n",
    "# Calculating clicks/appearances ratio\n",
    "click_ratio_frame = table.groupby(\"ad_id\").clicked.agg([\"mean\"]).reset_index()\n",
    "\n",
    "click_ratio_frame.rename(index=str, columns={\"mean\": \"clicks_appearances_ratio\"}, inplace=True)\n",
    "\n",
    "click_ratio_frame.head(10)"
   ]
  },
  {
   "cell_type": "markdown",
   "metadata": {},
   "source": [
    "The following histograms represent the amount of time an ad appeared and the amount of clicks it got. It can be seen that the behavior of both histograms is very similiar, which implies a strong relation between those features.  "
   ]
  },
  {
   "cell_type": "code",
   "execution_count": 44,
   "metadata": {
    "collapsed": false
   },
   "outputs": [
    {
     "data": {
      "image/png": "[encoded data removed]",
      "text/plain": [
       "<matplotlib.figure.Figure at 0x191816c3518>"
      ]
     },
     "metadata": {},
     "output_type": "display_data"
    }
   ],
   "source": [
    "# Adding ad appearance histogram\n",
    "create_ads_clicks_histogram(dataset,create_ad_appearance = True)"
   ]
  },
  {
   "cell_type": "code",
   "execution_count": 45,
   "metadata": {
    "collapsed": false
   },
   "outputs": [
    {
     "data": {
      "image/png": "[encoded data removed]",
      "text/plain": [
       "<matplotlib.figure.Figure at 0x19181665c18>"
      ]
     },
     "metadata": {},
     "output_type": "display_data"
    }
   ],
   "source": [
    "# Adding ad clicks histogram\n",
    "create_ads_clicks_histogram(dataset)"
   ]
  },
  {
   "cell_type": "code",
   "execution_count": 46,
   "metadata": {
    "collapsed": false
   },
   "outputs": [
    {
     "data": {
      "text/html": [
       "<div>\n",
       "<table border=\"1\" class=\"dataframe\">\n",
       "  <thead>\n",
       "    <tr style=\"text-align: right;\">\n",
       "      <th></th>\n",
       "      <th>display_id</th>\n",
       "      <th>ad_id</th>\n",
       "      <th>clicked</th>\n",
       "      <th>document_id_x</th>\n",
       "      <th>document_id_y</th>\n",
       "      <th>click_tstamp</th>\n",
       "      <th>is_morning</th>\n",
       "      <th>is_noon</th>\n",
       "      <th>is_afternoon</th>\n",
       "      <th>is_evening</th>\n",
       "      <th>is_night</th>\n",
       "      <th>platform_is_desktop</th>\n",
       "      <th>platform_is_mobile</th>\n",
       "      <th>platform_is_tablet</th>\n",
       "      <th>is_weekend</th>\n",
       "      <th>ad_count_per_display</th>\n",
       "      <th>ads_per_advertiser</th>\n",
       "      <th>ads_per_campaign</th>\n",
       "      <th>clicks_appearances_ratio</th>\n",
       "    </tr>\n",
       "  </thead>\n",
       "  <tbody>\n",
       "    <tr>\n",
       "      <th>0</th>\n",
       "      <td>7</td>\n",
       "      <td>105766</td>\n",
       "      <td>1</td>\n",
       "      <td>1149661</td>\n",
       "      <td>1151028</td>\n",
       "      <td>1465876800</td>\n",
       "      <td>0.0</td>\n",
       "      <td>0.0</td>\n",
       "      <td>0.0</td>\n",
       "      <td>1.0</td>\n",
       "      <td>0.0</td>\n",
       "      <td>0</td>\n",
       "      <td>1</td>\n",
       "      <td>0</td>\n",
       "      <td>0.0</td>\n",
       "      <td>3</td>\n",
       "      <td>297</td>\n",
       "      <td>37</td>\n",
       "      <td>0.070000</td>\n",
       "    </tr>\n",
       "    <tr>\n",
       "      <th>1</th>\n",
       "      <td>7</td>\n",
       "      <td>215967</td>\n",
       "      <td>0</td>\n",
       "      <td>1149661</td>\n",
       "      <td>1445187</td>\n",
       "      <td>1465876800</td>\n",
       "      <td>0.0</td>\n",
       "      <td>0.0</td>\n",
       "      <td>0.0</td>\n",
       "      <td>1.0</td>\n",
       "      <td>0.0</td>\n",
       "      <td>0</td>\n",
       "      <td>1</td>\n",
       "      <td>0</td>\n",
       "      <td>0.0</td>\n",
       "      <td>3</td>\n",
       "      <td>240</td>\n",
       "      <td>8</td>\n",
       "      <td>0.108911</td>\n",
       "    </tr>\n",
       "    <tr>\n",
       "      <th>2</th>\n",
       "      <td>7</td>\n",
       "      <td>300808</td>\n",
       "      <td>0</td>\n",
       "      <td>1149661</td>\n",
       "      <td>1701364</td>\n",
       "      <td>1465876800</td>\n",
       "      <td>0.0</td>\n",
       "      <td>0.0</td>\n",
       "      <td>0.0</td>\n",
       "      <td>1.0</td>\n",
       "      <td>0.0</td>\n",
       "      <td>0</td>\n",
       "      <td>1</td>\n",
       "      <td>0</td>\n",
       "      <td>0.0</td>\n",
       "      <td>3</td>\n",
       "      <td>875</td>\n",
       "      <td>13</td>\n",
       "      <td>0.000000</td>\n",
       "    </tr>\n",
       "    <tr>\n",
       "      <th>3</th>\n",
       "      <td>106</td>\n",
       "      <td>14120</td>\n",
       "      <td>0</td>\n",
       "      <td>1788531</td>\n",
       "      <td>700394</td>\n",
       "      <td>1465876807</td>\n",
       "      <td>0.0</td>\n",
       "      <td>0.0</td>\n",
       "      <td>0.0</td>\n",
       "      <td>1.0</td>\n",
       "      <td>0.0</td>\n",
       "      <td>0</td>\n",
       "      <td>1</td>\n",
       "      <td>0</td>\n",
       "      <td>0.0</td>\n",
       "      <td>8</td>\n",
       "      <td>61</td>\n",
       "      <td>1</td>\n",
       "      <td>0.224138</td>\n",
       "    </tr>\n",
       "    <tr>\n",
       "      <th>4</th>\n",
       "      <td>106</td>\n",
       "      <td>39897</td>\n",
       "      <td>0</td>\n",
       "      <td>1788531</td>\n",
       "      <td>900154</td>\n",
       "      <td>1465876807</td>\n",
       "      <td>0.0</td>\n",
       "      <td>0.0</td>\n",
       "      <td>0.0</td>\n",
       "      <td>1.0</td>\n",
       "      <td>0.0</td>\n",
       "      <td>0</td>\n",
       "      <td>1</td>\n",
       "      <td>0</td>\n",
       "      <td>0.0</td>\n",
       "      <td>8</td>\n",
       "      <td>274</td>\n",
       "      <td>10</td>\n",
       "      <td>0.224090</td>\n",
       "    </tr>\n",
       "  </tbody>\n",
       "</table>\n",
       "</div>"
      ],
      "text/plain": [
       "   display_id   ad_id  clicked  document_id_x  document_id_y  click_tstamp  \\\n",
       "0           7  105766        1        1149661        1151028    1465876800   \n",
       "1           7  215967        0        1149661        1445187    1465876800   \n",
       "2           7  300808        0        1149661        1701364    1465876800   \n",
       "3         106   14120        0        1788531         700394    1465876807   \n",
       "4         106   39897        0        1788531         900154    1465876807   \n",
       "\n",
       "   is_morning  is_noon  is_afternoon  is_evening  is_night  \\\n",
       "0         0.0      0.0           0.0         1.0       0.0   \n",
       "1         0.0      0.0           0.0         1.0       0.0   \n",
       "2         0.0      0.0           0.0         1.0       0.0   \n",
       "3         0.0      0.0           0.0         1.0       0.0   \n",
       "4         0.0      0.0           0.0         1.0       0.0   \n",
       "\n",
       "   platform_is_desktop  platform_is_mobile  platform_is_tablet  is_weekend  \\\n",
       "0                    0                   1                   0         0.0   \n",
       "1                    0                   1                   0         0.0   \n",
       "2                    0                   1                   0         0.0   \n",
       "3                    0                   1                   0         0.0   \n",
       "4                    0                   1                   0         0.0   \n",
       "\n",
       "   ad_count_per_display  ads_per_advertiser  ads_per_campaign  \\\n",
       "0                     3                 297                37   \n",
       "1                     3                 240                 8   \n",
       "2                     3                 875                13   \n",
       "3                     8                  61                 1   \n",
       "4                     8                 274                10   \n",
       "\n",
       "   clicks_appearances_ratio  \n",
       "0                  0.070000  \n",
       "1                  0.108911  \n",
       "2                  0.000000  \n",
       "3                  0.224138  \n",
       "4                  0.224090  "
      ]
     },
     "execution_count": 46,
     "metadata": {},
     "output_type": "execute_result"
    }
   ],
   "source": [
    "b_dataset = b_dataset.merge(click_ratio_frame, on='ad_id', how='left')\n",
    "b_dataset.head()"
   ]
  },
  {
   "cell_type": "markdown",
   "metadata": {},
   "source": [
    "# Analysis - Trying to Predict!"
   ]
  },
  {
   "cell_type": "markdown",
   "metadata": {},
   "source": [
    "### Second Attempt: More Features, Gradient Boosting and Random Forest"
   ]
  },
  {
   "cell_type": "markdown",
   "metadata": {},
   "source": [
    "We then wanted to check whether logistic regression's performance has improved, and also check whether there are better models we can use. A lot of other teams used gradient boosting and random forests, so we decided to check them as well and compare them to logistic regression."
   ]
  },
  {
   "cell_type": "code",
   "execution_count": 47,
   "metadata": {
    "collapsed": false
   },
   "outputs": [
    {
     "name": "stdout",
     "output_type": "stream",
     "text": [
      "Now checking Logistic Regression\n",
      "Now calculating MAP@12 accuracy, should take about 5 minutes\n",
      "Now checking Gradient Boosting\n",
      "Now calculating MAP@12 accuracy, should take about 5 minutes\n",
      "Now checking Random Forest\n",
      "Now calculating MAP@12 accuracy, should take about 5 minutes\n"
     ]
    }
   ],
   "source": [
    "features = [\"topic_sim\", \"entities_sim\", \"categories_sim\",\n",
    "            \"is_morning\", \"is_noon\", \"is_afternoon\", \"is_evening\", \"is_night\",\n",
    "            \"is_weekend\", \"platform_is_mobile\", \"platform_is_desktop\", \"platform_is_tablet\",\n",
    "            \"clicks_appearances_ratio\", \"ad_count_per_display\", \"ads_per_advertiser\",\n",
    "            \"ads_per_campaign\"]\n",
    "\n",
    "features_to_scale = [\"topic_sim\", \"entities_sim\", \"categories_sim\",\n",
    "                     \"clicks_appearances_ratio\", \"ad_count_per_display\",\n",
    "                     \"ads_per_advertiser\", \"ads_per_campaign\"]\n",
    "\n",
    "for feature in features_to_scale:\n",
    "    dataset[feature] = dataset[feature].astype(float)  # Avoids scaling conversion warnings for ints\n",
    "    dataset[feature] = sklearn.preprocessing.scale(dataset[feature])\n",
    "    \n",
    "train_data, test_data = split_to_test_and_train(dataset)\n",
    "    \n",
    "train_features_list = [train_data[feature] for feature in features]\n",
    "test_features_list = [test_data[feature] for feature in features]\n",
    "\n",
    "# Extracting X and y vectors for train and test\n",
    "train_points, train_labels = prepare_dataset_for_model(train_features_list, train_data.clicked)\n",
    "test_points, test_labels = prepare_dataset_for_model(test_features_list, test_data.clicked)\n",
    "    \n",
    "models = [sklearn.linear_model.LogisticRegression(),\n",
    "         sklearn.ensemble.GradientBoostingClassifier(),\n",
    "         sklearn.ensemble.RandomForestClassifier()]\n",
    "\n",
    "model_names = [\"Logistic Regression\", \"Gradient Boosting\", \"Random Forest\"]\n",
    "\n",
    "map_12_accuracies = np.zeros(shape=3)\n",
    "zero_one_accuracies = np.zeros(shape=3)\n",
    "\n",
    "for i in range(len(models)):\n",
    "    model = models[i]\n",
    "    print(\"Now checking \" + model_names[i])\n",
    "    model.fit(train_points, train_labels)\n",
    "    display_probs = model.predict_proba(test_points)[:, 1]\n",
    "    test_data[\"probability_of_click\"] = display_probs\n",
    "    zero_one_accuracies[i] = accuracy_zero_one_loss(test_data)\n",
    "    map_12_accuracies[i] = MAP12_Accuracy(test_data)\n",
    "    "
   ]
  },
  {
   "cell_type": "code",
   "execution_count": 48,
   "metadata": {
    "collapsed": false
   },
   "outputs": [
    {
     "data": {
      "image/png": "[encoded data removed]",
      "text/plain": [
       "<matplotlib.figure.Figure at 0x19287e2ecc0>"
      ]
     },
     "metadata": {},
     "output_type": "display_data"
    },
    {
     "name": "stdout",
     "output_type": "stream",
     "text": [
      "                 Model  MAP@12 Accuracy  0/1 Accuracy\n",
      "0  Logistic Regression         0.677195      0.480381\n",
      "1    Gradient Boosting         0.678031      0.481244\n",
      "2        Random Forest         0.618160      0.406050\n"
     ]
    }
   ],
   "source": [
    "# Plotting the scores\n",
    "fig = plt.figure()\n",
    "plt.bar(range(3), map_12_accuracies, 0.35, color='r', label=\"MAP@12\")\n",
    "plt.bar(np.array(range(3)) + 0.35, zero_one_accuracies, 0.35, color='b', label=\"0/1\")\n",
    "plt.xlabel('Model')\n",
    "plt.ylabel('Score')\n",
    "plt.title('Accuracy Scores for Various Models')\n",
    "plt.xticks(np.array(range(3)) + 0.35, (\"Logistic Regression\", \"Gradient Boosting\", \"Random Forest\"))\n",
    "plt.legend(loc = 4)\n",
    "plt.tight_layout()\n",
    "plt.show()\n",
    "    \n",
    "acc_frame = pd.DataFrame()\n",
    "acc_frame[\"Model\"] = model_names\n",
    "acc_frame[\"MAP@12 Accuracy\"] = map_12_accuracies\n",
    "acc_frame[\"0/1 Accuracy\"] = zero_one_accuracies\n",
    "\n",
    "print(acc_frame)"
   ]
  },
  {
   "cell_type": "markdown",
   "metadata": {},
   "source": [
    "Now we needed to decide which model to work with.\n",
    "Clearly, random forest is inferior to the other two models, so we decided not to pursue it further.  \n",
    "Let's see how far we can improve each of the remaining models using cross validation to tune their parameters."
   ]
  },
  {
   "cell_type": "code",
   "execution_count": 49,
   "metadata": {
    "collapsed": false
   },
   "outputs": [
    {
     "name": "stdout",
     "output_type": "stream",
     "text": [
      "Fitting 3 folds for each of 10 candidates, totalling 30 fits\n",
      "[LibLinear][LibLinear][LibLinear][LibLinear][LibLinear][LibLinear][LibLinear][LibLinear][LibLinear][LibLinear][LibLinear][LibLinear][LibLinear][LibLinear][LibLinear][LibLinear][LibLinear][LibLinear][LibLinear][LibLinear][LibLinear][LibLinear][LibLinear][LibLinear][LibLinear][LibLinear][LibLinear][LibLinear][LibLinear][LibLinear]"
     ]
    },
    {
     "name": "stderr",
     "output_type": "stream",
     "text": [
      "[Parallel(n_jobs=1)]: Done  30 out of  30 | elapsed:  1.8min finished\n"
     ]
    },
    {
     "name": "stdout",
     "output_type": "stream",
     "text": [
      "[LibLinear]"
     ]
    }
   ],
   "source": [
    "# Using CV to tune LR's C parameter and penalty type\n",
    "model = sklearn.linear_model.LogisticRegression(verbose=True)\n",
    "parameters = {\"C\": [10**-5, 1, 10, 100, 1000], \"penalty\": [\"l1\",\"l2\"]}\n",
    "cv = sklearn.grid_search.GridSearchCV(model, parameters, verbose=True)\n",
    "cv.fit(train_points,train_labels)\n",
    "\n",
    "base_param_grid = cv.grid_scores_\n",
    "C_values = np.array([10**-5, 1, 10, 100, 1000])\n",
    "validation_scores = np.zeros(shape=len(base_param_grid))"
   ]
  },
  {
   "cell_type": "code",
   "execution_count": 50,
   "metadata": {
    "collapsed": false
   },
   "outputs": [
    {
     "name": "stderr",
     "output_type": "stream",
     "text": [
      "C:\\Users\\Dean\\Anaconda3\\lib\\site-packages\\matplotlib\\figure.py:397: UserWarning: matplotlib is currently using a non-GUI backend, so cannot show the figure\n",
      "  \"matplotlib is currently using a non-GUI backend, \"\n"
     ]
    },
    {
     "data": {
      "image/png": "[encoded data removed]",
      "text/plain": [
       "<matplotlib.figure.Figure at 0x19287e2e630>"
      ]
     },
     "metadata": {},
     "output_type": "display_data"
    }
   ],
   "source": [
    "# Plotting the scores\n",
    "l1_accuracies = []\n",
    "l2_accuracies = []\n",
    "for i in range(len(base_param_grid)):\n",
    "    penalty = base_param_grid[i].parameters['penalty']\n",
    "    accuracy = base_param_grid[i].mean_validation_score\n",
    "    if penalty == 'l1':\n",
    "        l1_accuracies.append(accuracy)\n",
    "    else:\n",
    "        l2_accuracies.append(accuracy)\n",
    "        \n",
    "fig = plt.figure()\n",
    "plt.plot(C_values, l1_accuracies, label=\"l1 Penalty\")\n",
    "plt.plot(C_values, l2_accuracies, label=\"l2 Penalty\")\n",
    "plt.xlabel(\"Value of C\")\n",
    "plt.ylabel(\"Mean Validation Score\")\n",
    "plt.legend(loc = 4)\n",
    "fig.show()"
   ]
  },
  {
   "cell_type": "markdown",
   "metadata": {},
   "source": [
    "As we can see, tuning LR's parameters hardly makes any difference regarding accuracy. Let's measure the performance of LR with the best values for the parameters:"
   ]
  },
  {
   "cell_type": "code",
   "execution_count": 51,
   "metadata": {
    "collapsed": false
   },
   "outputs": [
    {
     "name": "stdout",
     "output_type": "stream",
     "text": [
      "[LibLinear]Now calculating MAP@12 accuracy, should take about 5 minutes\n",
      "0/1 Accuracy for best LR model is 0.480390203168\n",
      "MAP@12 Accuracy for best LR model is 0.677195340927\n"
     ]
    }
   ],
   "source": [
    "model = cv.best_estimator_\n",
    "model.fit(train_points, train_labels)\n",
    "display_probs = model.predict_proba(test_points)[:, 1]\n",
    "test_data[\"probability_of_click\"] = display_probs\n",
    "zero_one_accuracy = accuracy_zero_one_loss(test_data)\n",
    "map_12_accuracy = MAP12_Accuracy(test_data)\n",
    "\n",
    "print(\"0/1 Accuracy for best LR model is \" + str(zero_one_accuracy))\n",
    "print(\"MAP@12 Accuracy for best LR model is \" + str(map_12_accuracy))"
   ]
  },
  {
   "cell_type": "markdown",
   "metadata": {},
   "source": [
    "So even with optimized parameters, LR still acheives less than the Gradient Boosting model.\n",
    "Let's now try optimizing GB:"
   ]
  },
  {
   "cell_type": "code",
   "execution_count": 52,
   "metadata": {
    "collapsed": false
   },
   "outputs": [
    {
     "name": "stdout",
     "output_type": "stream",
     "text": [
      "Fitting 3 folds for each of 5 candidates, totalling 15 fits\n"
     ]
    },
    {
     "name": "stderr",
     "output_type": "stream",
     "text": [
      "[Parallel(n_jobs=2)]: Done  15 out of  15 | elapsed: 78.2min finished\n"
     ]
    }
   ],
   "source": [
    "skip_computation = False\n",
    "\n",
    "if not skip_computation:\n",
    "    model = sklearn.ensemble.GradientBoostingClassifier()\n",
    "    parameters = {\"max_depth\": [2, 3, 4, 5, 6]}\n",
    "    cv = sklearn.grid_search.GridSearchCV(model, parameters, verbose=True, n_jobs=2)\n",
    "    cv.fit(train_points,train_labels)\n",
    "    model = cv.best_estimator_\n",
    "    \n",
    "else:\n",
    "    model = sklearn.ensemble.GradientBoostingClassifier(max_depth=6)"
   ]
  },
  {
   "cell_type": "code",
   "execution_count": 53,
   "metadata": {
    "collapsed": false
   },
   "outputs": [
    {
     "name": "stderr",
     "output_type": "stream",
     "text": [
      "C:\\Users\\Dean\\Anaconda3\\lib\\site-packages\\matplotlib\\figure.py:397: UserWarning: matplotlib is currently using a non-GUI backend, so cannot show the figure\n",
      "  \"matplotlib is currently using a non-GUI backend, \"\n"
     ]
    },
    {
     "data": {
      "image/png": "[encoded data removed]",
      "text/plain": [
       "<matplotlib.figure.Figure at 0x1918165f278>"
      ]
     },
     "metadata": {},
     "output_type": "display_data"
    }
   ],
   "source": [
    "# Plotting the scores (Impossible if skipped computation in previous cell)\n",
    "base_param_grid = cv.grid_scores_\n",
    "max_depth_values = np.array([2, 3, 4, 5, 6])\n",
    "validation_scores = np.zeros(shape=len(base_param_grid))\n",
    "for i in range(5):\n",
    "    validation_scores[i] = base_param_grid[i].mean_validation_score\n",
    "    \n",
    "fig = plt.figure()\n",
    "plt.plot(max_depth_values, validation_scores)\n",
    "plt.xlabel(\"Max Regression Tree Depth\")\n",
    "plt.ylabel(\"Mean MAP@12 Score\")\n",
    "fig.show()"
   ]
  },
  {
   "cell_type": "markdown",
   "metadata": {},
   "source": [
    "It seems enlarging the maximum depth for the regression trees does make a difference. We chose to stick to a max depth of 6 - increasing it further will probably improve the results slightly, but at the expense of much longer running time.\n",
    "\n",
    "Now let's perform the final test for our model. Coincidentally, the number of displays in the data is divisible by 7, so we can perform 7-fold cross validation to make final evaluation of our model. Please note - running the next cell of code takes about 3.5 hours."
   ]
  },
  {
   "cell_type": "code",
   "execution_count": 56,
   "metadata": {
    "collapsed": false
   },
   "outputs": [
    {
     "name": "stdout",
     "output_type": "stream",
     "text": [
      "Now working on fold number 1\n",
      "0/1 Accuracy for Gradient Boosting Algorithm: 0.484985264052\n",
      "Now calculating MAP@12 accuracy, should take about 5 minutes\n",
      "MAP@12 Accuracy for Gradient Boosting Algorithm: 0.680500652307\n",
      "Now working on fold number 2\n",
      "0/1 Accuracy for Gradient Boosting Algorithm: 0.484600270823\n",
      "Now calculating MAP@12 accuracy, should take about 5 minutes\n",
      "MAP@12 Accuracy for Gradient Boosting Algorithm: 0.680289537724\n",
      "Now working on fold number 3\n",
      "0/1 Accuracy for Gradient Boosting Algorithm: 0.483246156706\n",
      "Now calculating MAP@12 accuracy, should take about 5 minutes\n",
      "MAP@12 Accuracy for Gradient Boosting Algorithm: 0.679319926424\n",
      "Now working on fold number 4\n",
      "0/1 Accuracy for Gradient Boosting Algorithm: 0.484958712795\n",
      "Now calculating MAP@12 accuracy, should take about 5 minutes\n",
      "MAP@12 Accuracy for Gradient Boosting Algorithm: 0.68049505662\n",
      "Now working on fold number 5\n",
      "0/1 Accuracy for Gradient Boosting Algorithm: 0.484918885909\n",
      "Now calculating MAP@12 accuracy, should take about 5 minutes\n",
      "MAP@12 Accuracy for Gradient Boosting Algorithm: 0.680593586496\n",
      "Now working on fold number 6\n",
      "0/1 Accuracy for Gradient Boosting Algorithm: 0.486405756313\n",
      "Now calculating MAP@12 accuracy, should take about 5 minutes\n",
      "MAP@12 Accuracy for Gradient Boosting Algorithm: 0.682029160867\n",
      "Now working on fold number 7\n",
      "0/1 Accuracy for Gradient Boosting Algorithm: 0.485210949738\n",
      "Now calculating MAP@12 accuracy, should take about 5 minutes\n",
      "MAP@12 Accuracy for Gradient Boosting Algorithm: 0.680927020766\n",
      "Mean 0-1 Accuracy: 0.484903713762\n",
      "Mean Map@12 Accuracy: 0.680593563029\n"
     ]
    }
   ],
   "source": [
    "displays = dataset.display_id.unique()\n",
    "np.random.RandomState(0).shuffle(displays)\n",
    "\n",
    "# Performing 7-fold CV - each fold takes about 45 minutes\n",
    "zero_one_accuracies = np.zeros(shape=7)\n",
    "map_12_accuracies = np.zeros(shape=7)\n",
    "\n",
    "for i in range(7):\n",
    "    print(\"Now working on fold number \" + str(i+1))\n",
    "    test_displays = displays[i*75326:(i+1)*75326]\n",
    "    if i == 0:\n",
    "        train_displays = displays[75326:]\n",
    "    elif i == 6:\n",
    "        train_displays = displays[:6*75326]\n",
    "    else:\n",
    "        train_displays = np.concatenate((displays[:i*75326], displays[(i+1)*75326:]))\n",
    "\n",
    "    train_df = dataset[dataset.display_id.isin(train_displays)]\n",
    "    test_df = dataset[dataset.display_id.isin(test_displays)]\n",
    "\n",
    "    train_features_list = [train_df[feature] for feature in features]\n",
    "    test_features_list = [test_df[feature] for feature in features]\n",
    "\n",
    "    # Extracting X and y vectors for train and test\n",
    "    train_points, train_labels = prepare_dataset_for_model(train_features_list, train_df.clicked)\n",
    "    test_points, test_labels = prepare_dataset_for_model(test_features_list, test_df.clicked)\n",
    "\n",
    "    model.fit(train_points, train_labels)\n",
    "\n",
    "    display_probs = model.predict_proba(test_points)[:, 1]\n",
    "    test_df[\"probability_of_click\"] = display_probs  # Error generated at this line can be ignored\n",
    "\n",
    "    # Evaluating the model using 0/1 loss\n",
    "    zero_one_accuracy = accuracy_zero_one_loss(test_df)\n",
    "    zero_one_accuracies[i] = zero_one_accuracy\n",
    "    print(\"0/1 Accuracy for Gradient Boosting Algorithm: \" + str(zero_one_accuracy))\n",
    "\n",
    "    # Evaluating the model using MAP@12 metric\n",
    "    map12_accuracy = MAP12_Accuracy(test_df)\n",
    "    map_12_accuracies[i] = map12_accuracy\n",
    "    print(\"MAP@12 Accuracy for Gradient Boosting Algorithm: \" + str(map12_accuracy))\n",
    "\n",
    "print(\"Mean 0-1 Accuracy: \" + str(zero_one_accuracies.mean()))\n",
    "print(\"Mean Map@12 Accuracy: \" + str(map_12_accuracies.mean()))"
   ]
  },
  {
   "cell_type": "code",
   "execution_count": 57,
   "metadata": {
    "collapsed": false
   },
   "outputs": [
    {
     "name": "stdout",
     "output_type": "stream",
     "text": [
      "Final MAP@12 Score: 0.68059 (+/- 0.00149)\n"
     ]
    },
    {
     "name": "stderr",
     "output_type": "stream",
     "text": [
      "C:\\Users\\Dean\\Anaconda3\\lib\\site-packages\\matplotlib\\figure.py:397: UserWarning: matplotlib is currently using a non-GUI backend, so cannot show the figure\n",
      "  \"matplotlib is currently using a non-GUI backend, \"\n"
     ]
    },
    {
     "data": {
      "image/png": "[encoded data removed]",
      "text/plain": [
       "<matplotlib.figure.Figure at 0x19286312390>"
      ]
     },
     "metadata": {},
     "output_type": "display_data"
    }
   ],
   "source": [
    "# Plotting the CV scores\n",
    "fig = plt.figure()\n",
    "plt.plot(range(1,8), map_12_accuracies, label=\"MAP@12\")\n",
    "plt.plot(range(1,8), zero_one_accuracies, label=\"0/1\")\n",
    "plt.xlabel(\"Fold\")\n",
    "plt.ylabel(\"Test Score\")\n",
    "plt.legend(loc = 7)\n",
    "plt.tight_layout()\n",
    "fig.show()\n",
    "\n",
    "print(\"Final MAP@12 Score: %0.5f (+/- %0.5f)\" % (map_12_accuracies.mean(), map_12_accuracies.std() * 2))"
   ]
  },
  {
   "cell_type": "markdown",
   "metadata": {},
   "source": [
    "As we can see in the graph and in the accuracy printout, the model we managed to build is quite stable - the score hardly changes for the different folds.\n",
    "\n",
    "Our model acheives a CV score of 0.68059. For comparison, the top team got a score of 0.70145, and the 50th best got a score of 0.67945. "
   ]
  },
  {
   "cell_type": "markdown",
   "metadata": {},
   "source": [
    "### Which features were critical?"
   ]
  },
  {
   "cell_type": "code",
   "execution_count": 58,
   "metadata": {
    "collapsed": false
   },
   "outputs": [
    {
     "data": {
      "text/plain": [
       "array([[['is_evening', '0.002543555585860264'],\n",
       "        ['is_afternoon', '0.0033188521481625293'],\n",
       "        ['is_morning', '0.003484306946493579'],\n",
       "        ['is_noon', '0.005454903311718147'],\n",
       "        ['platform_is_tablet', '0.005682644791740341'],\n",
       "        ['is_night', '0.0065139553040917154'],\n",
       "        ['is_weekend', '0.008939231352909714'],\n",
       "        ['platform_is_desktop', '0.015592396307666744'],\n",
       "        ['platform_is_mobile', '0.016476583345792745'],\n",
       "        ['entities_sim', '0.049362662824821386'],\n",
       "        ['ads_per_campaign', '0.07626774850444396'],\n",
       "        ['ad_count_per_display', '0.08673111422353247'],\n",
       "        ['topic_sim', '0.09449687477376192'],\n",
       "        ['categories_sim', '0.10083856667773344'],\n",
       "        ['ads_per_advertiser', '0.12848970625976955'],\n",
       "        ['clicks_appearances_ratio', '0.3958068976415017']]], \n",
       "      dtype='<U32')"
      ]
     },
     "execution_count": 58,
     "metadata": {},
     "output_type": "execute_result"
    }
   ],
   "source": [
    "sorted_idx = model.feature_importances_.argsort()\n",
    "np_features = np.array(features)\n",
    "np.dstack((np_features[sorted_idx], model.feature_importances_[sorted_idx]))"
   ]
  },
  {
   "cell_type": "markdown",
   "metadata": {},
   "source": [
    "As expected, the clicks/appearances ratio was the most important feature. It's followed by the number of ads per advertiser, which apparently does (to a degree) serve as an indicator of ad attractiveness. The most important similarity feature turned out to be the one for categories, but topic similarity wasn't far behind. Interestingly, the time-of-day-based features turned out to be not important at all, along with the platform-based features."
   ]
  },
  {
   "cell_type": "markdown",
   "metadata": {},
   "source": [
    "# Can We Improve Even More?"
   ]
  },
  {
   "cell_type": "markdown",
   "metadata": {},
   "source": [
    "## Adding New Features:"
   ]
  },
  {
   "cell_type": "markdown",
   "metadata": {},
   "source": [
    "### Does the popularity of a topic effect on the click probability?"
   ]
  },
  {
   "cell_type": "code",
   "execution_count": 45,
   "metadata": {
    "collapsed": false
   },
   "outputs": [
    {
     "data": {
      "text/html": [
       "<div>\n",
       "<table border=\"1\" class=\"dataframe\">\n",
       "  <thead>\n",
       "    <tr style=\"text-align: right;\">\n",
       "      <th></th>\n",
       "      <th>topic_id</th>\n",
       "      <th>clicks_No</th>\n",
       "    </tr>\n",
       "  </thead>\n",
       "  <tbody>\n",
       "    <tr>\n",
       "      <th>0</th>\n",
       "      <td>0</td>\n",
       "      <td>4763</td>\n",
       "    </tr>\n",
       "    <tr>\n",
       "      <th>1</th>\n",
       "      <td>1</td>\n",
       "      <td>4179</td>\n",
       "    </tr>\n",
       "    <tr>\n",
       "      <th>2</th>\n",
       "      <td>2</td>\n",
       "      <td>4090</td>\n",
       "    </tr>\n",
       "    <tr>\n",
       "      <th>3</th>\n",
       "      <td>3</td>\n",
       "      <td>1188</td>\n",
       "    </tr>\n",
       "    <tr>\n",
       "      <th>4</th>\n",
       "      <td>4</td>\n",
       "      <td>1124</td>\n",
       "    </tr>\n",
       "  </tbody>\n",
       "</table>\n",
       "</div>"
      ],
      "text/plain": [
       "   topic_id  clicks_No\n",
       "0         0       4763\n",
       "1         1       4179\n",
       "2         2       4090\n",
       "3         3       1188\n",
       "4         4       1124"
      ]
     },
     "execution_count": 45,
     "metadata": {},
     "output_type": "execute_result"
    }
   ],
   "source": [
    "# Clicks per topic:\n",
    "\n",
    "relevant_ads_and_docs = dataset[[\"document_id_y\", \"ad_id\", \"clicked\"]]\\\n",
    "    .rename(index=str, columns={\"document_id_y\": \"document_id\"})\n",
    "\n",
    "# Merge them with document_topics\n",
    "relevant_ads_docs_and_topics = relevant_ads_and_docs.merge(doc_topics, on='document_id')\n",
    "\n",
    "# Count the amount of clicks\n",
    "clicks_per_topic = relevant_ads_docs_and_topics.groupby([\"topic_id\"], as_index=False).agg({\"clicked\": np.sum})\\\n",
    "    .rename(index=str, columns={'clicked': 'clicks_No'})\n",
    "\n",
    "clicks_per_topic.head()\n",
    "        "
   ]
  },
  {
   "cell_type": "code",
   "execution_count": 46,
   "metadata": {
    "collapsed": false
   },
   "outputs": [
    {
     "data": {
      "text/html": [
       "<div>\n",
       "<table border=\"1\" class=\"dataframe\">\n",
       "  <thead>\n",
       "    <tr style=\"text-align: right;\">\n",
       "      <th></th>\n",
       "      <th>ad_id</th>\n",
       "      <th>topic_popularity_conf</th>\n",
       "    </tr>\n",
       "  </thead>\n",
       "  <tbody>\n",
       "    <tr>\n",
       "      <th>0</th>\n",
       "      <td>2</td>\n",
       "      <td>2.292239</td>\n",
       "    </tr>\n",
       "    <tr>\n",
       "      <th>1</th>\n",
       "      <td>3</td>\n",
       "      <td>2.046142</td>\n",
       "    </tr>\n",
       "    <tr>\n",
       "      <th>2</th>\n",
       "      <td>4</td>\n",
       "      <td>2.372946</td>\n",
       "    </tr>\n",
       "    <tr>\n",
       "      <th>3</th>\n",
       "      <td>7</td>\n",
       "      <td>3.222943</td>\n",
       "    </tr>\n",
       "    <tr>\n",
       "      <th>4</th>\n",
       "      <td>8</td>\n",
       "      <td>1.322065</td>\n",
       "    </tr>\n",
       "  </tbody>\n",
       "</table>\n",
       "</div>"
      ],
      "text/plain": [
       "   ad_id  topic_popularity_conf\n",
       "0      2               2.292239\n",
       "1      3               2.046142\n",
       "2      4               2.372946\n",
       "3      7               3.222943\n",
       "4      8               1.322065"
      ]
     },
     "execution_count": 46,
     "metadata": {},
     "output_type": "execute_result"
    }
   ],
   "source": [
    "# Documents per topic\n",
    "# Filter from the whole docuemnt_topics table the relevant rows\n",
    "relevant_docs = return_unique_values_of_column_from_table('document_id_y', b_dataset)\n",
    "f_topics = doc_topics[doc_topics.document_id.isin(relevant_docs)]\n",
    "# For each topic count the amount of docs which relate to it\n",
    "docs_per_topic = f_topics.groupby([\"topic_id\"], as_index=False).agg({\"document_id\": np.count_nonzero})\\\n",
    "    .rename(index=str, columns={\"document_id\": \"doc_No\"})\n",
    "    \n",
    "# Now we calculate the clicks-docs ratio with regard to the confidence.\n",
    "# Merge the two relations we have created previously\n",
    "topic_popularity = relevant_ads_docs_and_topics.merge(clicks_per_topic, on=\"topic_id\")\\\n",
    "                         .merge(docs_per_topic, on=\"topic_id\")\n",
    "\n",
    "topic_popularity['topic_popularity_conf'] = \\\n",
    "    (topic_popularity['clicks_No']*topic_popularity['confidence_level'])/topic_popularity['doc_No']\n",
    "\n",
    "# Drop unnecessary columns and duplicate rows and sum the whole values we got for each ad (since an ad can have different topics)\n",
    "topic_popularity = topic_popularity.drop_duplicates()\n",
    "topic_popularity.drop(['clicked', 'document_id', 'topic_id', 'confidence_level', 'clicks_No', 'doc_No'],\n",
    "                      axis=1, inplace=True)\n",
    "topic_popularity = topic_popularity.groupby([\"ad_id\"], as_index=False).agg({\"topic_popularity_conf\": np.sum})\n",
    "\n",
    "topic_popularity.head()"
   ]
  },
  {
   "cell_type": "markdown",
   "metadata": {},
   "source": [
    "### Representative bar chart:"
   ]
  },
  {
   "cell_type": "markdown",
   "metadata": {},
   "source": [
    "Again we can see in a bar chart how the difference between the amount of clicks and the amount of doc a topic got shows it's popularity."
   ]
  },
  {
   "cell_type": "code",
   "execution_count": 47,
   "metadata": {
    "collapsed": false
   },
   "outputs": [
    {
     "data": {
      "image/png": "[encoded data removed]",
      "text/plain": [
       "<matplotlib.figure.Figure at 0xdaff7f0>"
      ]
     },
     "metadata": {},
     "output_type": "display_data"
    }
   ],
   "source": [
    "top_no = 50\n",
    "indexes = np.random.RandomState(0).permutation(len(docs_per_topic))[:top_no]\n",
    "topic_ids = np.array(docs_per_topic[[\"topic_id\"]])[indexes]\n",
    "doc_No = np.array(docs_per_topic[[\"doc_No\"]])[indexes]\n",
    "clicks = np.array(clicks_per_topic[[\"clicks_No\"]])[indexes]\n",
    "\n",
    "create_two_bars_histogram(top_no,doc_No,clicks,topic_ids,\n",
    "                          \"Documents Number Vs. Clicks Number Comparison Per Topic \\n\"\n",
    "                          \"For 50 Random Topics\",\n",
    "                          'Topic ID','Count','docs')"
   ]
  },
  {
   "cell_type": "code",
   "execution_count": 48,
   "metadata": {
    "collapsed": false
   },
   "outputs": [
    {
     "name": "stdout",
     "output_type": "stream",
     "text": [
      "There are 27864 Nan values Which are 0.01% from the whole data\n"
     ]
    }
   ],
   "source": [
    "# Adding feature to dataset:\n",
    "b_dataset = b_dataset.merge(topic_popularity, on=\"ad_id\", how=\"left\")\n",
    "\n",
    "# Do we have Nan values? how much?\n",
    "Nan_No = b_dataset.topic_popularity_conf.isnull().sum()\n",
    "print(\"There are {:d} Nan values Which are {:.2f}% from the whole data\"\\\n",
    "      .format(Nan_No,Nan_No/len(b_dataset)))"
   ]
  },
  {
   "cell_type": "code",
   "execution_count": 49,
   "metadata": {
    "collapsed": false
   },
   "outputs": [
    {
     "name": "stdout",
     "output_type": "stream",
     "text": [
      "Now there are 0 Nan values :)\n"
     ]
    }
   ],
   "source": [
    "# Completing the missing values with the mean value:\n",
    "b_dataset.topic_popularity_conf = b_dataset.topic_popularity_conf\\\n",
    "    .fillna(b_dataset.topic_popularity_conf.mean())\n",
    "\n",
    "# Check that this worked\n",
    "print(\"Now there are {:d} Nan values :)\"\\\n",
    "      .format(b_dataset.topic_popularity_conf.isnull().sum()))\n"
   ]
  },
  {
   "cell_type": "code",
   "execution_count": 64,
   "metadata": {
    "collapsed": false
   },
   "outputs": [
    {
     "data": {
      "text/html": [
       "<div>\n",
       "<table border=\"1\" class=\"dataframe\">\n",
       "  <thead>\n",
       "    <tr style=\"text-align: right;\">\n",
       "      <th></th>\n",
       "      <th>display_id</th>\n",
       "      <th>ad_id</th>\n",
       "      <th>clicked</th>\n",
       "      <th>document_id_x</th>\n",
       "      <th>document_id_y</th>\n",
       "      <th>click_tstamp</th>\n",
       "      <th>is_morning</th>\n",
       "      <th>is_noon</th>\n",
       "      <th>is_afternoon</th>\n",
       "      <th>is_evening</th>\n",
       "      <th>is_night</th>\n",
       "      <th>platform_is_desktop</th>\n",
       "      <th>platform_is_mobile</th>\n",
       "      <th>platform_is_tablet</th>\n",
       "      <th>is_weekend</th>\n",
       "      <th>ad_count_per_display</th>\n",
       "      <th>ads_per_advertiser</th>\n",
       "      <th>ads_per_campaign</th>\n",
       "      <th>clicks_appearances_ratio</th>\n",
       "      <th>topic_popularity_conf</th>\n",
       "    </tr>\n",
       "  </thead>\n",
       "  <tbody>\n",
       "    <tr>\n",
       "      <th>0</th>\n",
       "      <td>7</td>\n",
       "      <td>105766</td>\n",
       "      <td>1</td>\n",
       "      <td>1149661</td>\n",
       "      <td>1151028</td>\n",
       "      <td>1465876800</td>\n",
       "      <td>0.0</td>\n",
       "      <td>0.0</td>\n",
       "      <td>0.0</td>\n",
       "      <td>1.0</td>\n",
       "      <td>0.0</td>\n",
       "      <td>0</td>\n",
       "      <td>1</td>\n",
       "      <td>0</td>\n",
       "      <td>0.0</td>\n",
       "      <td>3</td>\n",
       "      <td>297</td>\n",
       "      <td>37</td>\n",
       "      <td>0.070000</td>\n",
       "      <td>3.117834</td>\n",
       "    </tr>\n",
       "    <tr>\n",
       "      <th>1</th>\n",
       "      <td>7</td>\n",
       "      <td>215967</td>\n",
       "      <td>0</td>\n",
       "      <td>1149661</td>\n",
       "      <td>1445187</td>\n",
       "      <td>1465876800</td>\n",
       "      <td>0.0</td>\n",
       "      <td>0.0</td>\n",
       "      <td>0.0</td>\n",
       "      <td>1.0</td>\n",
       "      <td>0.0</td>\n",
       "      <td>0</td>\n",
       "      <td>1</td>\n",
       "      <td>0</td>\n",
       "      <td>0.0</td>\n",
       "      <td>3</td>\n",
       "      <td>240</td>\n",
       "      <td>8</td>\n",
       "      <td>0.108911</td>\n",
       "      <td>7.203284</td>\n",
       "    </tr>\n",
       "    <tr>\n",
       "      <th>2</th>\n",
       "      <td>7</td>\n",
       "      <td>300808</td>\n",
       "      <td>0</td>\n",
       "      <td>1149661</td>\n",
       "      <td>1701364</td>\n",
       "      <td>1465876800</td>\n",
       "      <td>0.0</td>\n",
       "      <td>0.0</td>\n",
       "      <td>0.0</td>\n",
       "      <td>1.0</td>\n",
       "      <td>0.0</td>\n",
       "      <td>0</td>\n",
       "      <td>1</td>\n",
       "      <td>0</td>\n",
       "      <td>0.0</td>\n",
       "      <td>3</td>\n",
       "      <td>875</td>\n",
       "      <td>13</td>\n",
       "      <td>0.000000</td>\n",
       "      <td>1.457441</td>\n",
       "    </tr>\n",
       "    <tr>\n",
       "      <th>3</th>\n",
       "      <td>106</td>\n",
       "      <td>14120</td>\n",
       "      <td>0</td>\n",
       "      <td>1788531</td>\n",
       "      <td>700394</td>\n",
       "      <td>1465876807</td>\n",
       "      <td>0.0</td>\n",
       "      <td>0.0</td>\n",
       "      <td>0.0</td>\n",
       "      <td>1.0</td>\n",
       "      <td>0.0</td>\n",
       "      <td>0</td>\n",
       "      <td>1</td>\n",
       "      <td>0</td>\n",
       "      <td>0.0</td>\n",
       "      <td>8</td>\n",
       "      <td>61</td>\n",
       "      <td>1</td>\n",
       "      <td>0.224138</td>\n",
       "      <td>6.581212</td>\n",
       "    </tr>\n",
       "    <tr>\n",
       "      <th>4</th>\n",
       "      <td>106</td>\n",
       "      <td>39897</td>\n",
       "      <td>0</td>\n",
       "      <td>1788531</td>\n",
       "      <td>900154</td>\n",
       "      <td>1465876807</td>\n",
       "      <td>0.0</td>\n",
       "      <td>0.0</td>\n",
       "      <td>0.0</td>\n",
       "      <td>1.0</td>\n",
       "      <td>0.0</td>\n",
       "      <td>0</td>\n",
       "      <td>1</td>\n",
       "      <td>0</td>\n",
       "      <td>0.0</td>\n",
       "      <td>8</td>\n",
       "      <td>274</td>\n",
       "      <td>10</td>\n",
       "      <td>0.224090</td>\n",
       "      <td>2.536574</td>\n",
       "    </tr>\n",
       "  </tbody>\n",
       "</table>\n",
       "</div>"
      ],
      "text/plain": [
       "   display_id   ad_id  clicked  document_id_x  document_id_y  click_tstamp  \\\n",
       "0           7  105766        1        1149661        1151028    1465876800   \n",
       "1           7  215967        0        1149661        1445187    1465876800   \n",
       "2           7  300808        0        1149661        1701364    1465876800   \n",
       "3         106   14120        0        1788531         700394    1465876807   \n",
       "4         106   39897        0        1788531         900154    1465876807   \n",
       "\n",
       "   is_morning  is_noon  is_afternoon  is_evening  is_night  \\\n",
       "0         0.0      0.0           0.0         1.0       0.0   \n",
       "1         0.0      0.0           0.0         1.0       0.0   \n",
       "2         0.0      0.0           0.0         1.0       0.0   \n",
       "3         0.0      0.0           0.0         1.0       0.0   \n",
       "4         0.0      0.0           0.0         1.0       0.0   \n",
       "\n",
       "   platform_is_desktop  platform_is_mobile  platform_is_tablet  is_weekend  \\\n",
       "0                    0                   1                   0         0.0   \n",
       "1                    0                   1                   0         0.0   \n",
       "2                    0                   1                   0         0.0   \n",
       "3                    0                   1                   0         0.0   \n",
       "4                    0                   1                   0         0.0   \n",
       "\n",
       "   ad_count_per_display  ads_per_advertiser  ads_per_campaign  \\\n",
       "0                     3                 297                37   \n",
       "1                     3                 240                 8   \n",
       "2                     3                 875                13   \n",
       "3                     8                  61                 1   \n",
       "4                     8                 274                10   \n",
       "\n",
       "   clicks_appearances_ratio  topic_popularity_conf  \n",
       "0                  0.070000               3.117834  \n",
       "1                  0.108911               7.203284  \n",
       "2                  0.000000               1.457441  \n",
       "3                  0.224138               6.581212  \n",
       "4                  0.224090               2.536574  "
      ]
     },
     "execution_count": 64,
     "metadata": {},
     "output_type": "execute_result"
    }
   ],
   "source": [
    "b_dataset.head()"
   ]
  },
  {
   "cell_type": "markdown",
   "metadata": {},
   "source": [
    "### Let's Take The Countries Into Account Too!"
   ]
  },
  {
   "cell_type": "code",
   "execution_count": 65,
   "metadata": {
    "collapsed": false
   },
   "outputs": [
    {
     "data": {
      "image/png": "[encoded data removed]",
      "text/plain": [
       "<matplotlib.figure.Figure at 0x19248113ac8>"
      ]
     },
     "metadata": {},
     "output_type": "display_data"
    }
   ],
   "source": [
    "# A reminder that most of the events happened in 4 main countries:\n",
    "create_countries_pie_chart(display_geo,100)"
   ]
  },
  {
   "cell_type": "code",
   "execution_count": 66,
   "metadata": {
    "collapsed": false
   },
   "outputs": [
    {
     "data": {
      "text/html": [
       "<div>\n",
       "<table border=\"1\" class=\"dataframe\">\n",
       "  <thead>\n",
       "    <tr style=\"text-align: right;\">\n",
       "      <th></th>\n",
       "      <th>display_id</th>\n",
       "      <th>ad_id</th>\n",
       "      <th>clicked</th>\n",
       "      <th>document_id_x</th>\n",
       "      <th>document_id_y</th>\n",
       "      <th>click_tstamp</th>\n",
       "      <th>is_morning</th>\n",
       "      <th>is_noon</th>\n",
       "      <th>is_afternoon</th>\n",
       "      <th>is_evening</th>\n",
       "      <th>...</th>\n",
       "      <th>is_weekend</th>\n",
       "      <th>ad_count_per_display</th>\n",
       "      <th>ads_per_advertiser</th>\n",
       "      <th>ads_per_campaign</th>\n",
       "      <th>clicks_appearances_ratio</th>\n",
       "      <th>topic_popularity_conf</th>\n",
       "      <th>country_is_US</th>\n",
       "      <th>country_is_GB</th>\n",
       "      <th>country_is_CA</th>\n",
       "      <th>country_is_AU</th>\n",
       "    </tr>\n",
       "  </thead>\n",
       "  <tbody>\n",
       "    <tr>\n",
       "      <th>0</th>\n",
       "      <td>7</td>\n",
       "      <td>105766</td>\n",
       "      <td>1</td>\n",
       "      <td>1149661</td>\n",
       "      <td>1151028</td>\n",
       "      <td>1465876800</td>\n",
       "      <td>0.0</td>\n",
       "      <td>0.0</td>\n",
       "      <td>0.0</td>\n",
       "      <td>1.0</td>\n",
       "      <td>...</td>\n",
       "      <td>0.0</td>\n",
       "      <td>3</td>\n",
       "      <td>297</td>\n",
       "      <td>37</td>\n",
       "      <td>0.070000</td>\n",
       "      <td>3.117834</td>\n",
       "      <td>1</td>\n",
       "      <td>0</td>\n",
       "      <td>0</td>\n",
       "      <td>0</td>\n",
       "    </tr>\n",
       "    <tr>\n",
       "      <th>1</th>\n",
       "      <td>7</td>\n",
       "      <td>215967</td>\n",
       "      <td>0</td>\n",
       "      <td>1149661</td>\n",
       "      <td>1445187</td>\n",
       "      <td>1465876800</td>\n",
       "      <td>0.0</td>\n",
       "      <td>0.0</td>\n",
       "      <td>0.0</td>\n",
       "      <td>1.0</td>\n",
       "      <td>...</td>\n",
       "      <td>0.0</td>\n",
       "      <td>3</td>\n",
       "      <td>240</td>\n",
       "      <td>8</td>\n",
       "      <td>0.108911</td>\n",
       "      <td>7.203284</td>\n",
       "      <td>1</td>\n",
       "      <td>0</td>\n",
       "      <td>0</td>\n",
       "      <td>0</td>\n",
       "    </tr>\n",
       "    <tr>\n",
       "      <th>2</th>\n",
       "      <td>7</td>\n",
       "      <td>300808</td>\n",
       "      <td>0</td>\n",
       "      <td>1149661</td>\n",
       "      <td>1701364</td>\n",
       "      <td>1465876800</td>\n",
       "      <td>0.0</td>\n",
       "      <td>0.0</td>\n",
       "      <td>0.0</td>\n",
       "      <td>1.0</td>\n",
       "      <td>...</td>\n",
       "      <td>0.0</td>\n",
       "      <td>3</td>\n",
       "      <td>875</td>\n",
       "      <td>13</td>\n",
       "      <td>0.000000</td>\n",
       "      <td>1.457441</td>\n",
       "      <td>1</td>\n",
       "      <td>0</td>\n",
       "      <td>0</td>\n",
       "      <td>0</td>\n",
       "    </tr>\n",
       "    <tr>\n",
       "      <th>3</th>\n",
       "      <td>106</td>\n",
       "      <td>14120</td>\n",
       "      <td>0</td>\n",
       "      <td>1788531</td>\n",
       "      <td>700394</td>\n",
       "      <td>1465876807</td>\n",
       "      <td>0.0</td>\n",
       "      <td>0.0</td>\n",
       "      <td>0.0</td>\n",
       "      <td>1.0</td>\n",
       "      <td>...</td>\n",
       "      <td>0.0</td>\n",
       "      <td>8</td>\n",
       "      <td>61</td>\n",
       "      <td>1</td>\n",
       "      <td>0.224138</td>\n",
       "      <td>6.581212</td>\n",
       "      <td>1</td>\n",
       "      <td>0</td>\n",
       "      <td>0</td>\n",
       "      <td>0</td>\n",
       "    </tr>\n",
       "    <tr>\n",
       "      <th>4</th>\n",
       "      <td>106</td>\n",
       "      <td>39897</td>\n",
       "      <td>0</td>\n",
       "      <td>1788531</td>\n",
       "      <td>900154</td>\n",
       "      <td>1465876807</td>\n",
       "      <td>0.0</td>\n",
       "      <td>0.0</td>\n",
       "      <td>0.0</td>\n",
       "      <td>1.0</td>\n",
       "      <td>...</td>\n",
       "      <td>0.0</td>\n",
       "      <td>8</td>\n",
       "      <td>274</td>\n",
       "      <td>10</td>\n",
       "      <td>0.224090</td>\n",
       "      <td>2.536574</td>\n",
       "      <td>1</td>\n",
       "      <td>0</td>\n",
       "      <td>0</td>\n",
       "      <td>0</td>\n",
       "    </tr>\n",
       "  </tbody>\n",
       "</table>\n",
       "<p>5 rows × 24 columns</p>\n",
       "</div>"
      ],
      "text/plain": [
       "   display_id   ad_id  clicked  document_id_x  document_id_y  click_tstamp  \\\n",
       "0           7  105766        1        1149661        1151028    1465876800   \n",
       "1           7  215967        0        1149661        1445187    1465876800   \n",
       "2           7  300808        0        1149661        1701364    1465876800   \n",
       "3         106   14120        0        1788531         700394    1465876807   \n",
       "4         106   39897        0        1788531         900154    1465876807   \n",
       "\n",
       "   is_morning  is_noon  is_afternoon  is_evening      ...        is_weekend  \\\n",
       "0         0.0      0.0           0.0         1.0      ...               0.0   \n",
       "1         0.0      0.0           0.0         1.0      ...               0.0   \n",
       "2         0.0      0.0           0.0         1.0      ...               0.0   \n",
       "3         0.0      0.0           0.0         1.0      ...               0.0   \n",
       "4         0.0      0.0           0.0         1.0      ...               0.0   \n",
       "\n",
       "   ad_count_per_display  ads_per_advertiser  ads_per_campaign  \\\n",
       "0                     3                 297                37   \n",
       "1                     3                 240                 8   \n",
       "2                     3                 875                13   \n",
       "3                     8                  61                 1   \n",
       "4                     8                 274                10   \n",
       "\n",
       "   clicks_appearances_ratio  topic_popularity_conf  country_is_US  \\\n",
       "0                  0.070000               3.117834              1   \n",
       "1                  0.108911               7.203284              1   \n",
       "2                  0.000000               1.457441              1   \n",
       "3                  0.224138               6.581212              1   \n",
       "4                  0.224090               2.536574              1   \n",
       "\n",
       "   country_is_GB  country_is_CA  country_is_AU  \n",
       "0              0              0              0  \n",
       "1              0              0              0  \n",
       "2              0              0              0  \n",
       "3              0              0              0  \n",
       "4              0              0              0  \n",
       "\n",
       "[5 rows x 24 columns]"
      ]
     },
     "execution_count": 66,
     "metadata": {},
     "output_type": "execute_result"
    }
   ],
   "source": [
    "# Extracting the countries vector and creating 4 boolean vectors based on it.\n",
    "countries = display_geo[\"country\"]\n",
    "country_is_US = np.array(countries == 'US', dtype=int)\n",
    "country_is_GB = np.array(countries == 'GB', dtype=int)\n",
    "country_is_CA = np.array(countries == 'CA', dtype=int)\n",
    "country_is_AU = np.array(countries == 'AU', dtype=int)\n",
    "\n",
    "# Creating the result Dataframe\n",
    "bin_countries = pd.DataFrame()\n",
    "bin_countries[\"display_id\"] = display_geo[\"display_id\"]\n",
    "bin_countries[\"country_is_US\"] = country_is_US\n",
    "bin_countries[\"country_is_GB\"] = country_is_GB\n",
    "bin_countries[\"country_is_CA\"] = country_is_CA\n",
    "bin_countries[\"country_is_AU\"] = country_is_AU\n",
    "\n",
    "# Adding the feature to our dataset:\n",
    "b_dataset = b_dataset.merge(bin_countries, on=\"display_id\", how=\"left\")\n",
    "b_dataset.head()"
   ]
  },
  {
   "cell_type": "markdown",
   "metadata": {},
   "source": [
    "# Another Prediction "
   ]
  },
  {
   "cell_type": "markdown",
   "metadata": {},
   "source": [
    "### Third Attempt: Did the Extra Features Actually Help?"
   ]
  },
  {
   "cell_type": "code",
   "execution_count": 67,
   "metadata": {
    "collapsed": false
   },
   "outputs": [
    {
     "name": "stdout",
     "output_type": "stream",
     "text": [
      "      Iter       Train Loss   Remaining Time \n",
      "         1           0.9512           37.67m\n",
      "         2           0.9276           36.91m\n",
      "         3           0.9091           36.43m\n",
      "         4           0.8940           35.64m\n",
      "         5           0.8817           35.28m\n",
      "         6           0.8716           34.86m\n",
      "         7           0.8631           34.29m\n",
      "         8           0.8559           33.89m\n",
      "         9           0.8499           33.59m\n",
      "        10           0.8447           33.16m\n",
      "        20           0.8205           29.50m\n",
      "        30           0.8144           25.64m\n",
      "        40           0.8125           21.68m\n",
      "        50           0.8115           17.79m\n",
      "        60           0.8110           13.90m\n",
      "        70           0.8105           10.24m\n",
      "        80           0.8101            6.72m\n",
      "        90           0.8098            3.30m\n",
      "       100           0.8095            0.00s\n",
      "0/1 Accuracy for Gradient Boosting Model: 0.48326548429\n",
      "Now calculating MAP@12 accuracy, should take about 5 minutes\n",
      "MAP@12 Accuracy for Gradient Boosting Model: 0.679345732265\n"
     ]
    }
   ],
   "source": [
    "features = [\"topic_sim\", \"entities_sim\", \"categories_sim\",\n",
    "            \"is_morning\", \"is_noon\", \"is_afternoon\", \"is_evening\", \"is_night\",\n",
    "            \"is_weekend\", \"platform_is_mobile\", \"platform_is_desktop\", \"platform_is_tablet\",\n",
    "            \"clicks_appearances_ratio\", \"ad_count_per_display\", \"ads_per_advertiser\",\n",
    "            \"ads_per_campaign\", \"topic_popularity_conf\", \"country_is_US\",\n",
    "            \"country_is_GB\", \"country_is_CA\", \"country_is_AU\"]\n",
    "\n",
    "features_to_scale = [\"topic_sim\", \"entities_sim\", \"categories_sim\",\n",
    "                     \"clicks_appearances_ratio\", \"ad_count_per_display\",\n",
    "                     \"ads_per_advertiser\", \"ads_per_campaign\", \"topic_popularity_conf\"]\n",
    "\n",
    "model = sklearn.ensemble.GradientBoostingClassifier(max_depth=6, verbose=True)\n",
    "\n",
    "one_model_analysis(dataset,features,features_to_scale,model,\"Gradient Boosting\")"
   ]
  },
  {
   "cell_type": "markdown",
   "metadata": {},
   "source": [
    "As we can see, the MAP@12 score acheived with the extra features isn't meaningfully different compared to the previous model."
   ]
  },
  {
   "cell_type": "markdown",
   "metadata": {},
   "source": [
    "# In conclusion"
   ]
  },
  {
   "cell_type": "markdown",
   "metadata": {},
   "source": [
    "By focusing on feature engineering and model selection and optimization, we managed to construct a model on par with the top 50 models in the competition."
   ]
  }
 ],
 "metadata": {
  "anaconda-cloud": {},
  "kernelspec": {
   "display_name": "Python [conda root]",
   "language": "python",
   "name": "conda-root-py"
  },
  "language_info": {
   "codemirror_mode": {
    "name": "ipython",
    "version": 3
   },
   "file_extension": ".py",
   "mimetype": "text/x-python",
   "name": "python",
   "nbconvert_exporter": "python",
   "pygments_lexer": "ipython3",
   "version": "3.5.2"
  }
 },
 "nbformat": 4,
 "nbformat_minor": 0
}
